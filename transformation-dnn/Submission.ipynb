{
 "cells": [
  {
   "cell_type": "code",
   "execution_count": 1,
   "metadata": {
    "collapsed": true
   },
   "outputs": [],
   "source": [
    "import pandas as pd\n",
    "import numpy as np\n",
    "import matplotlib.pyplot as plt\n",
    "%matplotlib inline"
   ]
  },
  {
   "cell_type": "code",
   "execution_count": 2,
   "metadata": {
    "collapsed": true
   },
   "outputs": [],
   "source": [
    "import torch\n",
    "import torch.nn as nn"
   ]
  },
  {
   "cell_type": "code",
   "execution_count": 3,
   "metadata": {
    "collapsed": true
   },
   "outputs": [],
   "source": [
    "from preprocessing_utils import process_sat_data\n",
    "from scipy.spatial.transform import Rotation as R\n",
    "from tqdm import tqdm_notebook as tqdm"
   ]
  },
  {
   "cell_type": "code",
   "execution_count": 4,
   "metadata": {
    "collapsed": true
   },
   "outputs": [],
   "source": [
    "data_train = pd.read_csv('../data/train.csv')\n",
    "data_test = pd.read_csv('../data/track1/test.csv')"
   ]
  },
  {
   "cell_type": "code",
   "execution_count": 5,
   "metadata": {
    "collapsed": true
   },
   "outputs": [],
   "source": [
    "train_data = data_train.copy(deep=True)\n",
    "test_data = data_test.copy(deep=True)"
   ]
  },
  {
   "cell_type": "code",
   "execution_count": 6,
   "metadata": {
    "collapsed": true
   },
   "outputs": [],
   "source": [
    "process_sat_data(train_data, test_data, scale=10000)"
   ]
  },
  {
   "cell_type": "code",
   "execution_count": 7,
   "metadata": {
    "collapsed": true
   },
   "outputs": [],
   "source": [
    "data_sim = pd.read_csv('../data/data_sim.csv')\n",
    "data_real = pd.read_csv('../data/data_real.csv')\n",
    "data_pred = pd.read_csv('../data/data_pred.csv')"
   ]
  },
  {
   "cell_type": "markdown",
   "metadata": {},
   "source": [
    "# Transformation Matrix Reconstruction"
   ]
  },
  {
   "cell_type": "code",
   "execution_count": 8,
   "metadata": {
    "collapsed": true
   },
   "outputs": [],
   "source": [
    "sat_ids = data_sim['0']\n",
    "ellipse_ids = data_sim['1']"
   ]
  },
  {
   "cell_type": "markdown",
   "metadata": {},
   "source": [
    "### Real"
   ]
  },
  {
   "cell_type": "code",
   "execution_count": 9,
   "metadata": {
    "collapsed": false
   },
   "outputs": [],
   "source": [
    "transformations_real = {}\n",
    "for sat_id in range(600):\n",
    "    transformations_real[sat_id] = {}"
   ]
  },
  {
   "cell_type": "code",
   "execution_count": 10,
   "metadata": {
    "collapsed": false
   },
   "outputs": [],
   "source": [
    "data_transform_real = data_pred.loc[:, ['r1', 'r2', 'r3', 't1', 't2', 't3']].values"
   ]
  },
  {
   "cell_type": "code",
   "execution_count": 11,
   "metadata": {
    "collapsed": true
   },
   "outputs": [],
   "source": [
    "for index, m in enumerate(data_transform_real):\n",
    "    matrix = R.from_rotvec(m[:3]).as_matrix()\n",
    "    matrix = np.concatenate([matrix, [m[3:]]], axis=0)\n",
    "    matrix = np.concatenate([matrix, [[0],[0],[0],[1]]], axis=1)\n",
    "    transformations_real[sat_ids[index]][ellipse_ids[index]] = matrix"
   ]
  },
  {
   "cell_type": "markdown",
   "metadata": {},
   "source": [
    "### Sim"
   ]
  },
  {
   "cell_type": "code",
   "execution_count": 12,
   "metadata": {
    "collapsed": true
   },
   "outputs": [],
   "source": [
    "transformations_sim = {}\n",
    "for sat_id in range(600):\n",
    "    transformations_sim[sat_id] = {}"
   ]
  },
  {
   "cell_type": "code",
   "execution_count": 13,
   "metadata": {
    "collapsed": false
   },
   "outputs": [],
   "source": [
    "data_transform_sim = data_sim.loc[:, '5':].values"
   ]
  },
  {
   "cell_type": "code",
   "execution_count": 14,
   "metadata": {
    "collapsed": false
   },
   "outputs": [],
   "source": [
    "for index, m in enumerate(data_transform_sim):\n",
    "    matrix = m.reshape(4,3)\n",
    "    matrix = np.concatenate([matrix, [[0],[0],[0],[1]]], axis=1)\n",
    "    transformations_sim[sat_ids[index]][ellipse_ids[index]] = matrix"
   ]
  },
  {
   "cell_type": "markdown",
   "metadata": {},
   "source": [
    "# Ellipse ID Generation"
   ]
  },
  {
   "cell_type": "code",
   "execution_count": 15,
   "metadata": {
    "collapsed": true
   },
   "outputs": [],
   "source": [
    "def get_sat_ellipse_ids(n):\n",
    "    ids = []\n",
    "    incomplete = (n%24)\n",
    "    for i in range(n-incomplete):\n",
    "        ids.append(int(i/24))\n",
    "    prev = ids[-1]\n",
    "    for i in range(incomplete):\n",
    "        ids.append(prev)\n",
    "    return ids"
   ]
  },
  {
   "cell_type": "code",
   "execution_count": 16,
   "metadata": {
    "collapsed": true
   },
   "outputs": [],
   "source": [
    "def generate_ellipse_ids(data):\n",
    "    ids = []\n",
    "    counts = np.unique(data['sat_id'], return_counts=True)[1]\n",
    "    for count in counts:\n",
    "        sat_ellipse_ids = get_sat_ellipse_ids(count)\n",
    "        ids += sat_ellipse_ids\n",
    "    return ids"
   ]
  },
  {
   "cell_type": "code",
   "execution_count": 17,
   "metadata": {
    "collapsed": false
   },
   "outputs": [],
   "source": [
    "cols = ['x_sim', 'y_sim', 'z_sim', 'Vx_sim', 'Vy_sim', 'Vz_sim', 'id', 'sat_id']\n",
    "data = train_data.loc[:, cols].append(test_data.loc[:, cols])\n",
    "data['set'] = ['train'] * len(train_data) + ['test']* len(test_data)\n",
    "data.sort_values('id', inplace=True)\n",
    "data.reset_index(drop=True, inplace=True)\n",
    "data['ellipse_id'] = generate_ellipse_ids(data)"
   ]
  },
  {
   "cell_type": "markdown",
   "metadata": {},
   "source": [
    "# Transformation"
   ]
  },
  {
   "cell_type": "code",
   "execution_count": 18,
   "metadata": {
    "collapsed": true
   },
   "outputs": [],
   "source": [
    "def sim_to_real(sat_id, ellipse_id, sim):\n",
    "    m_sim = transformations_sim[sat_id][ellipse_id]\n",
    "    m_real = transformations_real[sat_id][ellipse_id]\n",
    "    pos_sim = np.concatenate([sim[:, :3], np.ones((len(sim), 1))], axis=1)\n",
    "    vel_sim = np.concatenate([sim[:, 3:], np.zeros((len(sim), 1))], axis=1)\n",
    "    pos_real = pos_sim.dot(np.linalg.inv(m_sim)).dot(m_real)\n",
    "    vel_real = vel_sim.dot(np.linalg.inv(m_sim)).dot(m_real)\n",
    "    real = np.concatenate([pos_sim[:, :3], vel_sim[:, :3]], axis=1).ravel()\n",
    "    return real"
   ]
  },
  {
   "cell_type": "code",
   "execution_count": 19,
   "metadata": {
    "collapsed": true
   },
   "outputs": [],
   "source": [
    "def get_predictions():\n",
    "    pred = np.array([])\n",
    "    for sat_id in tqdm(range(600)):\n",
    "        sat_data = data[data['sat_id'] == sat_id]\n",
    "        for ellipse_id in range(max(sat_data['ellipse_id'])+1):\n",
    "            ellipse_data = sat_data[sat_data['ellipse_id'] == ellipse_id].iloc[:, :-4].values\n",
    "            real_data = sim_to_real(sat_id, ellipse_id, ellipse_data)\n",
    "            pred = np.append(pred, real_data, axis=0)\n",
    "    pred = pred.reshape(-1,6)\n",
    "    pred = pd.DataFrame(pred, columns=['x', 'y', 'z', 'Vx', 'Vy', 'Vz'])\n",
    "    pred['id'] = data['id']\n",
    "    pred['sat_id'] = data['sat_id']\n",
    "    pred['ellipse_id'] = data['ellipse_id']\n",
    "    pred['set'] = data['set']\n",
    "    pred.to_csv('../data/pred_real.csv', index=False)\n",
    "    return pred"
   ]
  },
  {
   "cell_type": "code",
   "execution_count": 20,
   "metadata": {
    "collapsed": false
   },
   "outputs": [
    {
     "name": "stdout",
     "output_type": "stream",
     "text": [
      "\n"
     ]
    }
   ],
   "source": [
    "compute_real = True\n",
    "if (compute_real):\n",
    "    pred_real = get_predictions()\n",
    "else:\n",
    "    pred_real = pd.read_csv('../data/pred_real.csv')"
   ]
  },
  {
   "cell_type": "markdown",
   "metadata": {},
   "source": [
    "# Prediction"
   ]
  },
  {
   "cell_type": "code",
   "execution_count": 21,
   "metadata": {
    "collapsed": true
   },
   "outputs": [],
   "source": [
    "pred_real_test = pred_real[pred_real['set'] == 'test']"
   ]
  },
  {
   "cell_type": "code",
   "execution_count": 22,
   "metadata": {
    "collapsed": true
   },
   "outputs": [],
   "source": [
    "submission = pred_real_test.loc[:, ['id', 'x', 'y', 'z', 'Vx', 'Vy', 'Vz']].reset_index(drop=True)"
   ]
  },
  {
   "cell_type": "code",
   "execution_count": 23,
   "metadata": {
    "collapsed": false
   },
   "outputs": [],
   "source": [
    "for axis in ['x', 'y', 'z']:\n",
    "    submission[axis] = submission[axis] * 10000"
   ]
  },
  {
   "cell_type": "code",
   "execution_count": 24,
   "metadata": {
    "collapsed": false
   },
   "outputs": [
    {
     "data": {
      "text/html": [
       "<div>\n",
       "<style>\n",
       "    .dataframe thead tr:only-child th {\n",
       "        text-align: right;\n",
       "    }\n",
       "\n",
       "    .dataframe thead th {\n",
       "        text-align: left;\n",
       "    }\n",
       "\n",
       "    .dataframe tbody tr th {\n",
       "        vertical-align: top;\n",
       "    }\n",
       "</style>\n",
       "<table border=\"1\" class=\"dataframe\">\n",
       "  <thead>\n",
       "    <tr style=\"text-align: right;\">\n",
       "      <th></th>\n",
       "      <th>id</th>\n",
       "      <th>x</th>\n",
       "      <th>y</th>\n",
       "      <th>z</th>\n",
       "      <th>Vx</th>\n",
       "      <th>Vy</th>\n",
       "      <th>Vz</th>\n",
       "    </tr>\n",
       "  </thead>\n",
       "  <tbody>\n",
       "    <tr>\n",
       "      <th>0</th>\n",
       "      <td>3927</td>\n",
       "      <td>-13366.891347</td>\n",
       "      <td>-14236.753503</td>\n",
       "      <td>6386.774555</td>\n",
       "      <td>4.333815</td>\n",
       "      <td>-0.692764</td>\n",
       "      <td>0.810774</td>\n",
       "    </tr>\n",
       "    <tr>\n",
       "      <th>1</th>\n",
       "      <td>3928</td>\n",
       "      <td>-7370.434039</td>\n",
       "      <td>-14498.771520</td>\n",
       "      <td>7130.411325</td>\n",
       "      <td>5.077413</td>\n",
       "      <td>0.360609</td>\n",
       "      <td>0.313402</td>\n",
       "    </tr>\n",
       "    <tr>\n",
       "      <th>2</th>\n",
       "      <td>3929</td>\n",
       "      <td>-572.068654</td>\n",
       "      <td>-13065.289498</td>\n",
       "      <td>7033.794876</td>\n",
       "      <td>5.519106</td>\n",
       "      <td>2.012830</td>\n",
       "      <td>-0.539412</td>\n",
       "    </tr>\n",
       "    <tr>\n",
       "      <th>3</th>\n",
       "      <td>3930</td>\n",
       "      <td>6208.945257</td>\n",
       "      <td>-9076.852425</td>\n",
       "      <td>5548.296900</td>\n",
       "      <td>4.849212</td>\n",
       "      <td>4.338955</td>\n",
       "      <td>-1.869600</td>\n",
       "    </tr>\n",
       "    <tr>\n",
       "      <th>4</th>\n",
       "      <td>3931</td>\n",
       "      <td>10768.200284</td>\n",
       "      <td>-2199.706707</td>\n",
       "      <td>2272.014862</td>\n",
       "      <td>1.940505</td>\n",
       "      <td>6.192887</td>\n",
       "      <td>-3.167724</td>\n",
       "    </tr>\n",
       "  </tbody>\n",
       "</table>\n",
       "</div>"
      ],
      "text/plain": [
       "     id             x             y            z        Vx        Vy        Vz\n",
       "0  3927 -13366.891347 -14236.753503  6386.774555  4.333815 -0.692764  0.810774\n",
       "1  3928  -7370.434039 -14498.771520  7130.411325  5.077413  0.360609  0.313402\n",
       "2  3929   -572.068654 -13065.289498  7033.794876  5.519106  2.012830 -0.539412\n",
       "3  3930   6208.945257  -9076.852425  5548.296900  4.849212  4.338955 -1.869600\n",
       "4  3931  10768.200284  -2199.706707  2272.014862  1.940505  6.192887 -3.167724"
      ]
     },
     "execution_count": 24,
     "metadata": {},
     "output_type": "execute_result"
    }
   ],
   "source": [
    "submission.head(5)"
   ]
  },
  {
   "cell_type": "code",
   "execution_count": 25,
   "metadata": {
    "collapsed": false
   },
   "outputs": [],
   "source": [
    "submission.to_csv('../data/submission.csv', index=False)"
   ]
  },
  {
   "cell_type": "code",
   "execution_count": null,
   "metadata": {
    "collapsed": true
   },
   "outputs": [],
   "source": []
  }
 ],
 "metadata": {
  "kernelspec": {
   "display_name": "Python 3",
   "language": "python",
   "name": "python3"
  },
  "language_info": {
   "codemirror_mode": {
    "name": "ipython",
    "version": 3
   },
   "file_extension": ".py",
   "mimetype": "text/x-python",
   "name": "python",
   "nbconvert_exporter": "python",
   "pygments_lexer": "ipython3",
   "version": "3.6.1"
  },
  "widgets": {
   "state": {
    "0737cef34d284bcfb0fb1a7472cfe50c": {
     "views": [
      {
       "cell_index": 24
      }
     ]
    }
   },
   "version": "1.2.0"
  }
 },
 "nbformat": 4,
 "nbformat_minor": 2
}
