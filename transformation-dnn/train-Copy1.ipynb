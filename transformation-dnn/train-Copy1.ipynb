{
 "cells": [
  {
   "cell_type": "markdown",
   "metadata": {
    "colab_type": "text",
    "id": "Q7DD0vPf4mHr"
   },
   "source": [
    "# Load Data and Modules"
   ]
  },
  {
   "cell_type": "code",
   "execution_count": 1,
   "metadata": {
    "colab": {},
    "colab_type": "code",
    "collapsed": true,
    "id": "phjzREQj4mH1"
   },
   "outputs": [],
   "source": [
    "import pandas as pd\n",
    "import numpy as np\n",
    "import matplotlib.pyplot as plt\n",
    "%matplotlib inline"
   ]
  },
  {
   "cell_type": "code",
   "execution_count": 2,
   "metadata": {
    "colab": {},
    "colab_type": "code",
    "collapsed": true,
    "id": "UKXudR8U4mIB"
   },
   "outputs": [],
   "source": [
    "import torch\n",
    "import torch.nn as nn\n",
    "import torch.nn.functional as F"
   ]
  },
  {
   "cell_type": "code",
   "execution_count": 3,
   "metadata": {
    "collapsed": true
   },
   "outputs": [],
   "source": [
    "from preprocessing_utils import pickle_save, pickle_load"
   ]
  },
  {
   "cell_type": "code",
   "execution_count": 4,
   "metadata": {
    "colab": {},
    "colab_type": "code",
    "collapsed": true,
    "id": "bxAu4_W64mIM"
   },
   "outputs": [],
   "source": [
    "from sklearn.model_selection import train_test_split\n",
    "from scipy.spatial.transform import Rotation as R"
   ]
  },
  {
   "cell_type": "code",
   "execution_count": 5,
   "metadata": {
    "colab": {},
    "colab_type": "code",
    "collapsed": true,
    "id": "9LOublIv4mIZ"
   },
   "outputs": [],
   "source": [
    "ellipse_cols = ['sat_id', 'ellipse_id', 'major', 'minor', 'loss', 'r00', 'r01', 'r02', 'r10', 'r11', 'r12', 'r20', 'r21', 'r22',\n",
    "                't1', 't2', 't3']"
   ]
  },
  {
   "cell_type": "code",
   "execution_count": 6,
   "metadata": {
    "colab": {},
    "colab_type": "code",
    "collapsed": true,
    "id": "79wJOfdy4mIm"
   },
   "outputs": [],
   "source": [
    "data_sim = pd.read_csv('../data/data_sim.csv')\n",
    "data_real = pd.read_csv('../data/data_real.csv')"
   ]
  },
  {
   "cell_type": "code",
   "execution_count": 7,
   "metadata": {
    "colab": {},
    "colab_type": "code",
    "collapsed": true,
    "id": "30RnsoCy4mIw"
   },
   "outputs": [],
   "source": [
    "data_sim = pd.DataFrame(data_sim.values, columns = ellipse_cols)\n",
    "data_real = pd.DataFrame(data_real.values, columns = ellipse_cols)"
   ]
  },
  {
   "cell_type": "code",
   "execution_count": 8,
   "metadata": {
    "colab": {
     "base_uri": "https://localhost:8080/",
     "height": 34
    },
    "colab_type": "code",
    "collapsed": false,
    "id": "ZBay2msM4mJG",
    "outputId": "4f293b34-3c39-4a15-c23b-ea47ede686d1"
   },
   "outputs": [
    {
     "data": {
      "text/plain": [
       "((38629, 17), (26790, 17))"
      ]
     },
     "execution_count": 8,
     "metadata": {},
     "output_type": "execute_result"
    }
   ],
   "source": [
    "data_sim.shape, data_real.shape"
   ]
  },
  {
   "cell_type": "markdown",
   "metadata": {
    "colab_type": "text",
    "id": "njVxUEuO4mJQ"
   },
   "source": [
    "# Axis Angle Representation"
   ]
  },
  {
   "cell_type": "code",
   "execution_count": 9,
   "metadata": {
    "colab": {},
    "colab_type": "code",
    "collapsed": true,
    "id": "BMfqKBPZ4mJR"
   },
   "outputs": [],
   "source": [
    "def convert_matrix(data):\n",
    "    matrix = data.loc[:, 'r00':'r22'].values.reshape(-1, 3, 3)\n",
    "    rotvec = np.array([R.from_matrix(m).as_rotvec() for m in matrix])\n",
    "    phis = np.linalg.norm(rotvec,axis=1,keepdims=True)\n",
    "    rotvec = rotvec/phis\n",
    "    data['r1'], data['r2'], data['r3'] = np.transpose(rotvec)\n",
    "    data['phi'] = phis[:,0]\n",
    "    print(rotvec.shape)\n",
    "    data.drop(['r00', 'r01', 'r02', 'r10', 'r11', 'r12', 'r20', 'r21', 'r22'], axis=1, inplace=True)"
   ]
  },
  {
   "cell_type": "code",
   "execution_count": 10,
   "metadata": {
    "colab": {
     "base_uri": "https://localhost:8080/",
     "height": 34
    },
    "colab_type": "code",
    "collapsed": false,
    "id": "PKcbL294BGJs",
    "outputId": "969eec39-e88b-496a-df64-45cae1e86ad5"
   },
   "outputs": [
    {
     "data": {
      "text/plain": [
       "array([1.44069049, 1.29727874])"
      ]
     },
     "execution_count": 10,
     "metadata": {},
     "output_type": "execute_result"
    }
   ],
   "source": [
    "a = np.random.randn(2,3)\n",
    "norm = np.linalg.norm(a,axis=1,keepdims=True)\n",
    "np.sum((a/norm)**2,axis=1)\n",
    "norm[:,0]"
   ]
  },
  {
   "cell_type": "code",
   "execution_count": 11,
   "metadata": {
    "colab": {
     "base_uri": "https://localhost:8080/",
     "height": 51
    },
    "colab_type": "code",
    "collapsed": false,
    "id": "tgyDajPE4mJY",
    "outputId": "ab13b303-f42f-4eb6-dca8-edf0dac6860b"
   },
   "outputs": [
    {
     "name": "stdout",
     "output_type": "stream",
     "text": [
      "(38629, 3)\n",
      "(26790, 3)\n"
     ]
    }
   ],
   "source": [
    "convert_matrix(data_sim)\n",
    "convert_matrix(data_real)"
   ]
  },
  {
   "cell_type": "markdown",
   "metadata": {
    "colab_type": "text",
    "id": "OVuGyRd84mJm"
   },
   "source": [
    "# Train-Test Segregation"
   ]
  },
  {
   "cell_type": "code",
   "execution_count": 12,
   "metadata": {
    "colab": {},
    "colab_type": "code",
    "collapsed": true,
    "id": "6mqEbKJB4mJr"
   },
   "outputs": [],
   "source": [
    "merged_data = data_sim.merge(data_real, how='outer', on=['sat_id', 'ellipse_id'], suffixes=['_sim', '_real'], indicator=True)\n",
    "merge = merged_data['_merge']\n",
    "merged_data.drop(['ellipse_id', 'loss_sim', 'loss_real'], axis=1, inplace=True)"
   ]
  },
  {
   "cell_type": "code",
   "execution_count": 13,
   "metadata": {
    "colab": {},
    "colab_type": "code",
    "collapsed": true,
    "id": "CL6rZ69D4mJx"
   },
   "outputs": [],
   "source": [
    "train_data = merged_data[merged_data['_merge'] == 'both'].drop('_merge', axis=1).reset_index(drop=True)\n",
    "test_data = merged_data[merged_data['_merge'] == 'left_only'].drop('_merge', axis=1).dropna(axis=1).reset_index(drop=True)"
   ]
  },
  {
   "cell_type": "code",
   "execution_count": 14,
   "metadata": {
    "colab": {},
    "colab_type": "code",
    "collapsed": true,
    "id": "GZAhmGya4mJ2"
   },
   "outputs": [],
   "source": [
    "sat_ids_train = train_data['sat_id']\n",
    "sat_ids_test = test_data['sat_id']"
   ]
  },
  {
   "cell_type": "code",
   "execution_count": 15,
   "metadata": {
    "colab": {},
    "colab_type": "code",
    "collapsed": true,
    "id": "FXnD6i0Z4mJ_"
   },
   "outputs": [],
   "source": [
    "train_data.drop('sat_id', axis=1, inplace=True)\n",
    "test_data.drop('sat_id', axis=1, inplace=True)"
   ]
  },
  {
   "cell_type": "code",
   "execution_count": 16,
   "metadata": {
    "colab": {},
    "colab_type": "code",
    "collapsed": true,
    "id": "ZooA_W6b4mKF"
   },
   "outputs": [],
   "source": [
    "labels = train_data.loc[:, 'major_real':]\n",
    "train_data = train_data.loc[:, :'phi_sim']"
   ]
  },
  {
   "cell_type": "code",
   "execution_count": 17,
   "metadata": {
    "colab": {},
    "colab_type": "code",
    "collapsed": true,
    "id": "mWinUkpJ4mKQ"
   },
   "outputs": [],
   "source": [
    "cols = ['major', 'minor', 't1', 't2', 't3', 'r1', 'r2', 'r3','phi']"
   ]
  },
  {
   "cell_type": "code",
   "execution_count": 18,
   "metadata": {
    "colab": {},
    "colab_type": "code",
    "collapsed": true,
    "id": "KV0Du7HP4mKa"
   },
   "outputs": [],
   "source": [
    "train_data = pd.DataFrame(train_data.values, columns=cols)\n",
    "test_data = pd.DataFrame(test_data.values, columns=cols)\n",
    "labels = pd.DataFrame(labels.values, columns=cols)"
   ]
  },
  {
   "cell_type": "code",
   "execution_count": 19,
   "metadata": {
    "colab": {
     "base_uri": "https://localhost:8080/",
     "height": 34
    },
    "colab_type": "code",
    "collapsed": false,
    "id": "SSNgt5WW4mKm",
    "outputId": "2fd14a6e-250a-49ee-950c-07734bcb3618"
   },
   "outputs": [
    {
     "data": {
      "text/plain": [
       "((26790, 9), (11839, 9), (26790, 9))"
      ]
     },
     "execution_count": 19,
     "metadata": {},
     "output_type": "execute_result"
    }
   ],
   "source": [
    "train_data.shape, test_data.shape, labels.shape"
   ]
  },
  {
   "cell_type": "markdown",
   "metadata": {
    "colab_type": "text",
    "id": "QljXZlYo4mKr"
   },
   "source": [
    "# Train-CV Split per Satellite"
   ]
  },
  {
   "cell_type": "code",
   "execution_count": 20,
   "metadata": {
    "colab": {},
    "colab_type": "code",
    "collapsed": true,
    "id": "JkwkQAmK4mKt"
   },
   "outputs": [],
   "source": [
    "split_ratio = 0.1"
   ]
  },
  {
   "cell_type": "code",
   "execution_count": 21,
   "metadata": {
    "colab": {},
    "colab_type": "code",
    "collapsed": true,
    "id": "CWNHFora4mKy"
   },
   "outputs": [],
   "source": [
    "train = {}\n",
    "cv = {}\n",
    "labels_train = {}\n",
    "labels_cv = {}"
   ]
  },
  {
   "cell_type": "code",
   "execution_count": 22,
   "metadata": {
    "colab": {},
    "colab_type": "code",
    "collapsed": true,
    "id": "8bGiSWgL4mK7"
   },
   "outputs": [],
   "source": [
    "for sat_id in range(600):\n",
    "    sat_data = train_data[sat_ids_train == sat_id]\n",
    "    sat_labels = labels[sat_ids_train == sat_id]\n",
    "    train_size = int(sat_data.shape[0] * (1 - split_ratio))\n",
    "    train[sat_id] = sat_data.iloc[:train_size, :].reset_index(drop=True)\n",
    "    cv[sat_id] = sat_data.iloc[train_size:, :].reset_index(drop=True)\n",
    "    labels_train[sat_id] = sat_labels.iloc[:train_size, :].reset_index(drop=True)\n",
    "    labels_cv[sat_id] = sat_labels.iloc[train_size:, :].reset_index(drop=True)"
   ]
  },
  {
   "cell_type": "code",
   "execution_count": 23,
   "metadata": {
    "colab": {},
    "colab_type": "code",
    "collapsed": true,
    "id": "Dk2wl3Lw8c_2"
   },
   "outputs": [],
   "source": [
    "def relative_error(sat_id,field):\n",
    "    delta = np.mean(np.abs(labels_train[sat_id][field]))\n",
    "    den = np.mean(np.abs(train[sat_id][field]))\n",
    "    return delta/den"
   ]
  },
  {
   "cell_type": "markdown",
   "metadata": {
    "colab_type": "text",
    "id": "Ufn0_HEP4mLC"
   },
   "source": [
    "# Network Architecture"
   ]
  },
  {
   "cell_type": "code",
   "execution_count": 24,
   "metadata": {
    "colab": {},
    "colab_type": "code",
    "collapsed": true,
    "id": "aWe_zRdz4mLD"
   },
   "outputs": [],
   "source": [
    "class SatNet(nn.Module):\n",
    "    \n",
    "    def __init__(self, input_size, hidden_size):\n",
    "        super(SatNet, self).__init__()\n",
    "        self.fc1 = nn.Linear(input_size, hidden_size)\n",
    "        self.fc2 = nn.Linear(hidden_size, input_size)\n",
    "    \n",
    "    def forward(self, x):\n",
    "        a1 = torch.relu(self.fc1(x))\n",
    "        a2 = self.fc2(a1)\n",
    "        return a2+x"
   ]
  },
  {
   "cell_type": "code",
   "execution_count": 25,
   "metadata": {
    "colab": {},
    "colab_type": "code",
    "collapsed": true,
    "id": "JEW6QuMv4mLL"
   },
   "outputs": [],
   "source": [
    "def train_satnet(sat_data, satnet_params, iterations, lr,l2 = 1e-8):\n",
    "    train, cv, labels_train, labels_cv = [torch.from_numpy(data).float() for data in sat_data]\n",
    "    input_size, hidden_size = satnet_params\n",
    "    model = SatNet(input_size, hidden_size)\n",
    "    optim = torch.optim.Adam(model.parameters(), lr,weight_decay = l2)\n",
    "    \n",
    "    for itr in range(iterations):\n",
    "        optim.zero_grad()\n",
    "        pred = model(train)\n",
    "        pred_cv = model(cv)\n",
    "\n",
    "        axis_pred =  pred[:,:2]\n",
    "        trans_pred = pred[:,2:5]\n",
    "        rot_pred = pred[:,5:8]/(1e-5+torch.sqrt(torch.sum(pred[:,5:8]**2,dim=1,keepdim=True)))\n",
    "        phi_pred = torch.fmod(pred[:,8],2*np.pi)\n",
    "\n",
    "        axis_act =  labels_train[:,:2]\n",
    "        trans_act = labels_train[:,2:5]\n",
    "        rot_act = labels_train[:,5:8]/(1e-5+torch.sqrt(torch.sum(labels_train[:,5:8]**2,dim=1,keepdim=True)))\n",
    "        phi_act = torch.fmod(labels_train[:,8],2*np.pi)\n",
    "\n",
    "        loss = torch.mean((axis_pred-axis_act)**2) + torch.mean((trans_pred-trans_act)**2) + torch.mean((rot_pred-rot_act)**2) + torch.mean((phi_act-phi_pred)**2)\n",
    "        \n",
    "\n",
    "        loss.backward()\n",
    "        optim.step()\n",
    "        if(itr % 1000 == 0):\n",
    "            \n",
    "            axis_pred =  pred_cv[:,:2]\n",
    "            trans_pred = pred_cv[:,2:5]\n",
    "            rot_pred = pred_cv[:,5:8]/(1e-5+torch.sqrt(torch.sum(pred_cv[:,5:8]**2,dim=1,keepdim=True)))\n",
    "            phi_pred = torch.fmod(pred_cv[:,8],2*np.pi)\n",
    "\n",
    "            axis_act =  labels_cv[:,:2]\n",
    "            trans_act = labels_cv[:,2:5]\n",
    "            rot_act = labels_cv[:,5:8]/(1e-5+torch.sqrt(torch.sum(labels_cv[:,5:8]**2,dim=1,keepdim=True)))\n",
    "            phi_act = torch.fmod(labels_cv[:,8],2*np.pi)\n",
    "\n",
    "            axis_loss = torch.mean((axis_pred-axis_act)**2)\n",
    "            trans_loss = torch.mean((trans_pred-trans_act)**2) \n",
    "            rot_loss = torch.mean((rot_pred-rot_act)**2) \n",
    "            phi_loss = torch.mean((phi_act-phi_pred)**2) \n",
    "\n",
    "            cv_loss = axis_loss + trans_loss + rot_loss + phi_loss\n",
    "\n",
    "            print('Iteration: {} | Loss (Train): {} | Loss (CV): {}'.format(itr, loss.item(), cv_loss.item()))\n",
    "            print('CV - axis {} trans {} rot {} phi {}'.format(axis_loss.item(),trans_loss.item(),rot_loss.item(),phi_loss.item()))\n",
    "   \n",
    "    return model"
   ]
  },
  {
   "cell_type": "code",
   "execution_count": 26,
   "metadata": {
    "colab": {},
    "colab_type": "code",
    "collapsed": true,
    "id": "QOSQQ1sN4mLO"
   },
   "outputs": [],
   "source": [
    "input_size = train_data.shape[1]\n",
    "hidden_size = 60\n",
    "iterations = 10000\n",
    "lr = 0.0001\n",
    "satnet_params = [input_size, hidden_size]"
   ]
  },
  {
   "cell_type": "code",
   "execution_count": 27,
   "metadata": {
    "colab": {
     "base_uri": "https://localhost:8080/",
     "height": 698
    },
    "colab_type": "code",
    "collapsed": false,
    "id": "tPK6TLo34mLV",
    "outputId": "9cfe7f8a-bf7a-48b7-ca0e-c4b9ca14f993"
   },
   "outputs": [
    {
     "name": "stdout",
     "output_type": "stream",
     "text": [
      "\n",
      "Satellite ID: 464 \n",
      "\n",
      "Iteration: 0 | Loss (Train): 4.730100154876709 | Loss (CV): 0.24831189215183258\n",
      "CV - axis 0.11112047731876373 trans 0.09274056553840637 rot 0.044450268149375916 phi 5.794747153231583e-07\n",
      "Iteration: 1000 | Loss (Train): 0.5197770595550537 | Loss (CV): 4.0059814453125\n",
      "CV - axis 8.068723400356248e-05 trans 9.703503019409254e-05 rot 0.6182366609573364 phi 3.3875670433044434\n",
      "Iteration: 2000 | Loss (Train): 0.2726769745349884 | Loss (CV): 4.7191267013549805\n",
      "CV - axis 7.742835441604257e-05 trans 9.679208596935496e-05 rot 0.6327710151672363 phi 4.086181640625\n",
      "Iteration: 3000 | Loss (Train): 0.27124497294425964 | Loss (CV): 4.755521297454834\n",
      "CV - axis 5.227794827078469e-05 trans 6.796960951760411e-05 rot 0.628968358039856 phi 4.1264328956604\n",
      "Iteration: 4000 | Loss (Train): 0.2707412540912628 | Loss (CV): 4.715027809143066\n",
      "CV - axis 1.2558839443954639e-05 trans 1.9669761968543753e-05 rot 0.6165617108345032 phi 4.098433971405029\n",
      "Iteration: 5000 | Loss (Train): 0.2744807302951813 | Loss (CV): 4.445855617523193\n",
      "CV - axis 7.98264500190271e-06 trans 1.332517058472149e-05 rot 0.3617710769176483 phi 4.0840630531311035\n",
      "Iteration: 6000 | Loss (Train): 0.2697431445121765 | Loss (CV): 4.60986328125\n",
      "CV - axis 2.5205438305420103e-06 trans 5.504168257175479e-06 rot 0.5363290309906006 phi 4.073526382446289\n",
      "Iteration: 7000 | Loss (Train): 0.2706509232521057 | Loss (CV): 4.703064918518066\n",
      "CV - axis 1.7534575817990117e-05 trans 2.678443524928298e-05 rot 0.5989258289337158 phi 4.104094982147217\n",
      "Iteration: 8000 | Loss (Train): 0.2705990970134735 | Loss (CV): 4.698314666748047\n",
      "CV - axis 1.4004421245772392e-05 trans 2.0225337721058168e-05 rot 0.6010974645614624 phi 4.097182750701904\n",
      "Iteration: 9000 | Loss (Train): 0.27029430866241455 | Loss (CV): 4.664262771606445\n",
      "CV - axis 1.1723262105078902e-05 trans 1.389190674672136e-05 rot 0.573829174041748 phi 4.090407848358154\n"
     ]
    }
   ],
   "source": [
    "models = {}\n",
    "sat_id = np.random.randint(600)\n",
    "print('\\nSatellite ID:', sat_id,'\\n')\n",
    "sat_data = [train[sat_id].values, cv[sat_id].values, labels_train[sat_id].values, labels_cv[sat_id].values]\n",
    "models[sat_id] = train_satnet(sat_data, satnet_params, iterations, lr,l2 = 1e-5)"
   ]
  },
  {
   "cell_type": "code",
   "execution_count": 28,
   "metadata": {
    "collapsed": true
   },
   "outputs": [],
   "source": [
    "satnets = pickle_load('../data/satnets.pickle')"
   ]
  },
  {
   "cell_type": "code",
   "execution_count": 44,
   "metadata": {
    "collapsed": true
   },
   "outputs": [],
   "source": [
    "def cv_score(sat_id):\n",
    "    sat_cv = torch.from_numpy(cv[sat_id].values).float()\n",
    "    pred_cv = satnets[sat_id](sat_cv)\n",
    "    mse = pred_cv - torch.from_numpy(labels_cv[sat_id].values).float()\n",
    "    mse = torch.mean(mse ** 2).item()\n",
    "    return mse"
   ]
  },
  {
   "cell_type": "code",
   "execution_count": 51,
   "metadata": {
    "collapsed": false
   },
   "outputs": [
    {
     "name": "stdout",
     "output_type": "stream",
     "text": [
      "0 0.02037404477596283\n",
      "1 0.5222344398498535\n",
      "2 0.22667211294174194\n",
      "3 0.07419899106025696\n",
      "4 0.10231594741344452\n",
      "5 0.10988763719797134\n",
      "6 0.1876893788576126\n",
      "7 0.39337870478630066\n",
      "8 0.1258256733417511\n",
      "9 0.13783220946788788\n",
      "10 0.000905217370018363\n",
      "11 0.21004505455493927\n",
      "12 0.10607798397541046\n",
      "13 0.06882281601428986\n",
      "14 0.2971198856830597\n",
      "15 0.09913583844900131\n",
      "16 0.14530642330646515\n",
      "17 0.32698193192481995\n",
      "18 0.009965124540030956\n",
      "19 0.028068194165825844\n",
      "20 0.14388258755207062\n",
      "21 0.23603878915309906\n",
      "22 0.10253661125898361\n",
      "23 0.10837914794683456\n",
      "24 0.010680575855076313\n",
      "25 0.10977118462324142\n",
      "26 1.1370787620544434\n",
      "27 0.11047343164682388\n",
      "28 0.02859400399029255\n",
      "29 0.02570461481809616\n",
      "30 0.05909551680088043\n",
      "31 0.14499376714229584\n",
      "32 0.05390481278300285\n",
      "33 0.10786513984203339\n",
      "34 0.06427127122879028\n",
      "35 0.8254964351654053\n",
      "36 0.11031884700059891\n",
      "37 0.15440674126148224\n",
      "38 0.09727097302675247\n",
      "39 0.015676429495215416\n",
      "40 0.10112927854061127\n",
      "41 0.14696034789085388\n",
      "42 0.17483873665332794\n",
      "43 0.13476671278476715\n",
      "44 0.07647258043289185\n",
      "45 0.08951741456985474\n",
      "46 0.35679033398628235\n",
      "47 0.25226104259490967\n",
      "48 0.9569132328033447\n",
      "49 0.1653105616569519\n",
      "50 0.03128959238529205\n",
      "51 0.10392183065414429\n",
      "52 0.1676720529794693\n",
      "53 0.12024083733558655\n",
      "54 0.11444298177957535\n",
      "55 0.20283986628055573\n",
      "56 0.15442270040512085\n",
      "57 0.021182946860790253\n",
      "58 0.05364571139216423\n",
      "59 0.010386889800429344\n",
      "60 0.0761975571513176\n",
      "61 0.002136040246114135\n",
      "62 0.12072376161813736\n",
      "63 0.07911454141139984\n",
      "64 1.017194390296936\n",
      "65 0.09595814347267151\n",
      "66 0.12519431114196777\n",
      "67 0.10025830566883087\n",
      "68 0.09994812309741974\n",
      "69 0.1133611872792244\n",
      "70 0.10471639782190323\n",
      "71 0.05670072138309479\n",
      "72 0.14749406278133392\n",
      "73 0.1785421520471573\n",
      "74 0.13033005595207214\n",
      "75 0.08893444389104843\n",
      "76 0.3662499785423279\n",
      "77 0.05563723295927048\n",
      "78 0.08050023019313812\n",
      "79 0.03721318766474724\n",
      "80 0.10825647413730621\n",
      "81 0.10498691350221634\n",
      "82 0.39230960607528687\n",
      "83 0.01688826084136963\n",
      "84 0.06103280559182167\n",
      "85 0.10871535539627075\n",
      "86 0.07974801957607269\n",
      "87 0.10520045459270477\n",
      "88 0.5003588795661926\n",
      "89 0.060698457062244415\n",
      "90 0.3884454071521759\n",
      "91 0.07562767714262009\n",
      "92 0.140498548746109\n",
      "93 0.10476520657539368\n",
      "94 0.15621605515480042\n",
      "95 0.10852028429508209\n",
      "96 0.05874255672097206\n",
      "97 0.11649378389120102\n",
      "98 0.09127823263406754\n",
      "99 0.2569116950035095\n",
      "100 5.802925109863281\n",
      "101 0.00884886272251606\n",
      "102 0.12004702538251877\n",
      "103 0.4049016535282135\n",
      "104 0.1139950305223465\n",
      "105 0.00457751052454114\n",
      "106 0.08018969744443893\n",
      "107 0.0023952473420649767\n",
      "108 0.0013491774443536997\n",
      "109 0.0774666965007782\n",
      "110 0.0021624139044433832\n",
      "111 0.38155582547187805\n",
      "112 0.0005932311760261655\n",
      "113 0.10950762778520584\n",
      "114 0.11612207442522049\n",
      "115 0.006989694200456142\n",
      "116 0.2225589007139206\n",
      "117 0.0466582290828228\n",
      "118 0.09552780538797379\n",
      "119 0.00023125001462176442\n",
      "120 0.037375979125499725\n",
      "121 0.011293565854430199\n",
      "122 0.15737521648406982\n",
      "123 0.09393062442541122\n",
      "124 0.08226972818374634\n",
      "125 0.012298851273953915\n",
      "126 0.1892835646867752\n",
      "127 0.182960644364357\n",
      "128 0.7185274958610535\n",
      "129 0.09984999895095825\n",
      "130 0.19545936584472656\n",
      "131 0.3101709485054016\n",
      "132 0.017999883741140366\n",
      "133 0.10072764754295349\n",
      "134 0.4581821858882904\n",
      "135 0.10408321022987366\n",
      "136 0.33872219920158386\n",
      "137 0.11470019072294235\n",
      "138 0.10934149473905563\n",
      "139 0.23315365612506866\n",
      "140 0.7188870310783386\n",
      "141 6.111152470111847e-05\n",
      "142 0.14442481100559235\n",
      "143 0.09266795217990875\n",
      "144 0.09861093759536743\n",
      "145 0.08556537330150604\n",
      "146 0.043575119227170944\n",
      "147 0.10708040744066238\n",
      "148 0.10291916877031326\n",
      "149 0.10557129979133606\n",
      "150 0.002948742127045989\n",
      "151 0.3912661075592041\n",
      "152 0.09802401810884476\n",
      "153 4.8807830810546875\n",
      "154 0.14242950081825256\n",
      "155 0.10983442515134811\n",
      "156 0.17002031207084656\n",
      "157 0.0335443839430809\n",
      "158 0.04540008306503296\n",
      "159 0.23352141678333282\n",
      "160 0.02805059403181076\n",
      "161 0.10048528015613556\n",
      "162 4.253896713256836\n",
      "163 0.5985445380210876\n",
      "164 0.5355077981948853\n",
      "165 0.16664005815982819\n",
      "166 0.08066543191671371\n",
      "167 0.08738158643245697\n",
      "168 0.13097871840000153\n",
      "169 0.10306189954280853\n",
      "170 0.11564327776432037\n",
      "171 0.17834822833538055\n",
      "172 0.02460717223584652\n",
      "173 0.11659552156925201\n",
      "174 0.377426415681839\n",
      "175 0.11652260273694992\n",
      "176 0.10563322901725769\n",
      "177 0.747750461101532\n",
      "178 0.11452216655015945\n",
      "179 0.27139800786972046\n",
      "180 0.014617308974266052\n",
      "181 0.0446549616754055\n",
      "182 0.007335573434829712\n",
      "183 0.008405245840549469\n",
      "184 0.13439159095287323\n",
      "185 0.00011014055053237826\n",
      "186 0.08789347112178802\n",
      "187 0.1052057221531868\n",
      "188 0.19223317503929138\n",
      "189 0.0038101160898804665\n",
      "190 0.46031057834625244\n",
      "191 0.10855136811733246\n",
      "192 0.068426214158535\n",
      "193 0.38476139307022095\n",
      "194 1.3980097770690918\n",
      "195 0.03344787284731865\n",
      "196 0.11420627683401108\n",
      "197 0.2326781004667282\n",
      "198 0.04665524140000343\n",
      "199 0.3690810799598694\n",
      "200 0.08951064944267273\n",
      "201 2.2435149730881676e-05\n",
      "202 0.11529441922903061\n",
      "203 0.09784511476755142\n",
      "204 1.5316046476364136\n",
      "205 0.06052009388804436\n",
      "206 0.10794763267040253\n",
      "207 0.08455819636583328\n",
      "208 0.07282944768667221\n",
      "209 0.027124561369419098\n",
      "210 0.09276348352432251\n",
      "211 0.1694868803024292\n",
      "212 0.00197361852042377\n",
      "213 0.20688408613204956\n",
      "214 1.7010666131973267\n",
      "215 0.07401139289140701\n",
      "216 0.008644555695354939\n",
      "217 0.23051945865154266\n",
      "218 0.10313615947961807\n",
      "219 0.09321906417608261\n",
      "220 0.08729232102632523\n",
      "221 0.05436153709888458\n",
      "222 0.4723277688026428\n",
      "223 0.06295869499444962\n",
      "224 0.6021944880485535\n",
      "225 0.2144438624382019\n",
      "226 0.029046641662716866\n",
      "227 0.10718131065368652\n",
      "228 0.00025372413801960647\n",
      "229 0.02728968672454357\n",
      "230 0.40702205896377563\n",
      "231 0.09767819941043854\n",
      "232 0.10357040166854858\n",
      "233 0.4374801218509674\n",
      "234 0.15381355583667755\n",
      "235 0.12127816677093506\n",
      "236 0.13215163350105286\n",
      "237 0.024434231221675873\n",
      "238 0.06939920037984848\n",
      "239 0.06061219424009323\n",
      "240 1.0955853462219238\n",
      "241 0.10298356413841248\n",
      "242 1.320742130279541\n",
      "243 0.017193367704749107\n",
      "244 0.003781998762860894\n",
      "245 0.013257968239486217\n",
      "246 0.20019850134849548\n",
      "247 0.4848124086856842\n",
      "248 0.1670929342508316\n",
      "249 0.17923671007156372\n",
      "250 0.09834352880716324\n",
      "251 0.08695315569639206\n",
      "252 4.525951385498047\n",
      "253 0.18733759224414825\n",
      "254 0.45037904381752014\n",
      "255 0.19937139749526978\n",
      "256 0.3846524655818939\n",
      "257 0.08552103489637375\n",
      "258 0.22452762722969055\n",
      "259 0.0008149880450218916\n",
      "260 0.15086697041988373\n",
      "261 0.780418336391449\n",
      "262 0.11282820999622345\n",
      "263 0.0008988503832370043\n",
      "264 0.14550098776817322\n",
      "265 0.14132843911647797\n",
      "266 0.05244062468409538\n",
      "267 0.20321570336818695\n",
      "268 0.2503533363342285\n",
      "269 0.6614373922348022\n",
      "270 1.5781373977661133\n",
      "271 0.10486973822116852\n",
      "272 0.09990574419498444\n",
      "273 0.17707842588424683\n",
      "274 0.19138291478157043\n",
      "275 0.11111906915903091\n",
      "276 0.14252586662769318\n",
      "277 0.8611338138580322\n",
      "278 0.30166879296302795\n",
      "279 0.0044878823682665825\n",
      "280 0.10258448868989944\n",
      "281 0.30996572971343994\n",
      "282 0.06026088446378708\n",
      "283 0.00532776303589344\n",
      "284 0.10214976966381073\n",
      "285 0.3199203610420227\n",
      "286 0.0746273621916771\n",
      "287 0.09698071330785751\n",
      "288 0.05708756670355797\n",
      "289 0.05497809126973152\n",
      "290 0.2220173478126526\n",
      "291 0.1874702274799347\n",
      "292 0.8079096078872681\n",
      "293 0.2992386817932129\n",
      "294 1.1319828033447266\n",
      "295 0.10983976721763611\n",
      "296 0.3478265404701233\n",
      "297 0.000291075004497543\n",
      "298 0.06222410500049591\n",
      "299 0.29147112369537354\n",
      "300 0.36569100618362427\n",
      "301 0.6750345826148987\n",
      "302 0.27449867129325867\n",
      "303 0.11033521592617035\n",
      "304 0.04399377480149269\n",
      "305 0.09996675699949265\n",
      "306 0.08894085884094238\n",
      "307 0.11154060810804367\n",
      "308 0.016035668551921844\n",
      "309 0.5051826238632202\n",
      "310 0.14579983055591583\n",
      "311 0.1041320264339447\n",
      "312 0.08039741963148117\n",
      "313 0.10802915692329407\n",
      "314 0.08829446136951447\n",
      "315 0.12556083500385284\n",
      "316 0.11842531710863113\n",
      "317 0.0896507278084755\n",
      "318 0.08683483302593231\n",
      "319 0.08510837703943253\n",
      "320 0.4533369541168213\n",
      "321 0.5053538084030151\n",
      "322 0.08917874097824097\n",
      "323 0.18716740608215332\n",
      "324 0.0014462806284427643\n",
      "325 0.11303849518299103\n",
      "326 0.18248796463012695\n",
      "327 0.004142458550632\n",
      "328 1.418836236000061\n",
      "329 0.10723879188299179\n",
      "330 1.4243741035461426\n",
      "331 0.10828676074743271\n",
      "332 0.03739606961607933\n",
      "333 0.6937975287437439\n",
      "334 0.07975433766841888\n"
     ]
    }
   ],
   "source": [
    "scores = []\n",
    "for sat_id, _ in satnets.items():\n",
    "    score = cv_score(sat_id)\n",
    "    scores.append(score)\n",
    "    print(sat_id, score)"
   ]
  },
  {
   "cell_type": "code",
   "execution_count": 55,
   "metadata": {
    "collapsed": false
   },
   "outputs": [
    {
     "data": {
      "text/plain": [
       "0.2526441873541539"
      ]
     },
     "execution_count": 55,
     "metadata": {},
     "output_type": "execute_result"
    }
   ],
   "source": [
    "np.mean(scores)"
   ]
  },
  {
   "cell_type": "code",
   "execution_count": null,
   "metadata": {
    "collapsed": true
   },
   "outputs": [],
   "source": []
  }
 ],
 "metadata": {
  "colab": {
   "name": "train.ipynb",
   "provenance": []
  },
  "kernelspec": {
   "display_name": "Python 3",
   "language": "python",
   "name": "python3"
  },
  "language_info": {
   "codemirror_mode": {
    "name": "ipython",
    "version": 3
   },
   "file_extension": ".py",
   "mimetype": "text/x-python",
   "name": "python",
   "nbconvert_exporter": "python",
   "pygments_lexer": "ipython3",
   "version": "3.6.1"
  }
 },
 "nbformat": 4,
 "nbformat_minor": 0
}
