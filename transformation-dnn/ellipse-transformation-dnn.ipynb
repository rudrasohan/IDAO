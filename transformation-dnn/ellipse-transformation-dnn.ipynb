{
 "cells": [
  {
   "cell_type": "markdown",
   "metadata": {},
   "source": [
    "# Load Data and Modules"
   ]
  },
  {
   "cell_type": "code",
   "execution_count": 1,
   "metadata": {
    "collapsed": true
   },
   "outputs": [],
   "source": [
    "import pandas as pd\n",
    "import numpy as np\n",
    "import matplotlib.pyplot as plt\n",
    "%matplotlib inline"
   ]
  },
  {
   "cell_type": "code",
   "execution_count": 2,
   "metadata": {
    "collapsed": true
   },
   "outputs": [],
   "source": [
    "import torch\n",
    "import torch.nn as nn\n",
    "import torch.nn.functional as F"
   ]
  },
  {
   "cell_type": "code",
   "execution_count": 3,
   "metadata": {
    "collapsed": true
   },
   "outputs": [],
   "source": [
    "from sklearn.model_selection import train_test_split\n",
    "from scipy.spatial.transform import Rotation as R"
   ]
  },
  {
   "cell_type": "code",
   "execution_count": 4,
   "metadata": {
    "collapsed": true
   },
   "outputs": [],
   "source": [
    "ellipse_cols = ['sat_id', 'ellipse_id', 'major', 'minor', 'loss', 'r00', 'r01', 'r02', 'r10', 'r11', 'r12', 'r20', 'r21', 'r22',\n",
    "                't1', 't2', 't3']"
   ]
  },
  {
   "cell_type": "code",
   "execution_count": 5,
   "metadata": {
    "collapsed": true
   },
   "outputs": [],
   "source": [
    "data_sim = pd.read_csv('../data/data_sim.csv')\n",
    "data_real = pd.read_csv('../data/data_real.csv')"
   ]
  },
  {
   "cell_type": "code",
   "execution_count": 6,
   "metadata": {
    "collapsed": false
   },
   "outputs": [],
   "source": [
    "data_sim = pd.DataFrame(data_sim.values, columns = ellipse_cols)\n",
    "data_real = pd.DataFrame(data_real.values, columns = ellipse_cols)"
   ]
  },
  {
   "cell_type": "code",
   "execution_count": 7,
   "metadata": {
    "collapsed": false
   },
   "outputs": [
    {
     "data": {
      "text/plain": [
       "((38629, 17), (26790, 17))"
      ]
     },
     "execution_count": 7,
     "metadata": {},
     "output_type": "execute_result"
    }
   ],
   "source": [
    "data_sim.shape, data_real.shape"
   ]
  },
  {
   "cell_type": "markdown",
   "metadata": {},
   "source": [
    "# Axis Angle Representation"
   ]
  },
  {
   "cell_type": "code",
   "execution_count": 8,
   "metadata": {
    "collapsed": false
   },
   "outputs": [],
   "source": [
    "def convert_matrix(data):\n",
    "    matrix = data.loc[:, 'r00':'r22'].values.reshape(-1, 3, 3)\n",
    "    rotvec = np.array([R.from_matrix(m).as_rotvec() for m in matrix])\n",
    "    data['r1'], data['r2'], data['r3'] = np.transpose(rotvec)\n",
    "    data.drop(['r00', 'r01', 'r02', 'r10', 'r11', 'r12', 'r20', 'r21', 'r22'], axis=1, inplace=True)"
   ]
  },
  {
   "cell_type": "code",
   "execution_count": 9,
   "metadata": {
    "collapsed": false
   },
   "outputs": [],
   "source": [
    "convert_matrix(data_sim)\n",
    "convert_matrix(data_real)"
   ]
  },
  {
   "cell_type": "markdown",
   "metadata": {},
   "source": [
    "# Train-Test Segregation"
   ]
  },
  {
   "cell_type": "code",
   "execution_count": 10,
   "metadata": {
    "collapsed": false
   },
   "outputs": [],
   "source": [
    "merged_data = data_sim.merge(data_real, how='outer', on=['sat_id', 'ellipse_id'], suffixes=['_sim', '_real'], indicator=True)\n",
    "merge = merged_data['_merge']\n",
    "merged_data.drop(['ellipse_id', 'loss_sim', 'loss_real'], axis=1, inplace=True)"
   ]
  },
  {
   "cell_type": "code",
   "execution_count": 11,
   "metadata": {
    "collapsed": false
   },
   "outputs": [],
   "source": [
    "train_data = merged_data[merged_data['_merge'] == 'both'].drop('_merge', axis=1).reset_index(drop=True)\n",
    "test_data = merged_data[merged_data['_merge'] == 'left_only'].drop('_merge', axis=1).dropna(axis=1).reset_index(drop=True)"
   ]
  },
  {
   "cell_type": "code",
   "execution_count": 12,
   "metadata": {
    "collapsed": true
   },
   "outputs": [],
   "source": [
    "sat_ids_train = train_data['sat_id']\n",
    "sat_ids_test = test_data['sat_id']"
   ]
  },
  {
   "cell_type": "code",
   "execution_count": 13,
   "metadata": {
    "collapsed": true
   },
   "outputs": [],
   "source": [
    "train_data.drop('sat_id', axis=1, inplace=True)\n",
    "test_data.drop('sat_id', axis=1, inplace=True)"
   ]
  },
  {
   "cell_type": "code",
   "execution_count": 14,
   "metadata": {
    "collapsed": false
   },
   "outputs": [],
   "source": [
    "labels = train_data.loc[:, 'major_real':]\n",
    "train_data = train_data.loc[:, :'r3_sim']"
   ]
  },
  {
   "cell_type": "code",
   "execution_count": 15,
   "metadata": {
    "collapsed": true
   },
   "outputs": [],
   "source": [
    "cols = ['major', 'minor', 't1', 't2', 't3', 'r1', 'r2', 'r3']"
   ]
  },
  {
   "cell_type": "code",
   "execution_count": 16,
   "metadata": {
    "collapsed": false
   },
   "outputs": [],
   "source": [
    "train_data = pd.DataFrame(train_data.values, columns=cols)\n",
    "test_data = pd.DataFrame(test_data.values, columns=cols)\n",
    "labels = pd.DataFrame(labels.values, columns=cols)"
   ]
  },
  {
   "cell_type": "code",
   "execution_count": 17,
   "metadata": {
    "collapsed": false
   },
   "outputs": [],
   "source": [
    "labels = labels - train_data"
   ]
  },
  {
   "cell_type": "code",
   "execution_count": 18,
   "metadata": {
    "collapsed": false
   },
   "outputs": [
    {
     "data": {
      "text/plain": [
       "((26790, 8), (11839, 8), (26790, 8))"
      ]
     },
     "execution_count": 18,
     "metadata": {},
     "output_type": "execute_result"
    }
   ],
   "source": [
    "train_data.shape, test_data.shape, labels.shape"
   ]
  },
  {
   "cell_type": "markdown",
   "metadata": {},
   "source": [
    "# Train-CV Split per Satellite"
   ]
  },
  {
   "cell_type": "code",
   "execution_count": 47,
   "metadata": {
    "collapsed": true
   },
   "outputs": [],
   "source": [
    "split_ratio = 0.1"
   ]
  },
  {
   "cell_type": "code",
   "execution_count": 48,
   "metadata": {
    "collapsed": true
   },
   "outputs": [],
   "source": [
    "train = {}\n",
    "cv = {}\n",
    "labels_train = {}\n",
    "labels_cv = {}"
   ]
  },
  {
   "cell_type": "code",
   "execution_count": 49,
   "metadata": {
    "collapsed": false
   },
   "outputs": [],
   "source": [
    "for sat_id in range(600):\n",
    "    sat_data = train_data[sat_ids_train == sat_id]\n",
    "    sat_labels = labels[sat_ids_train == sat_id]\n",
    "    train_size = int(sat_data.shape[0] * (1 - split_ratio))\n",
    "    train[sat_id] = sat_data.iloc[:train_size, :].reset_index(drop=True)\n",
    "    cv[sat_id] = sat_data.iloc[train_size:, :].reset_index(drop=True)\n",
    "    labels_train[sat_id] = sat_labels.iloc[:train_size, :].reset_index(drop=True)\n",
    "    labels_cv[sat_id] = sat_labels.iloc[train_size:, :].reset_index(drop=True)"
   ]
  },
  {
   "cell_type": "markdown",
   "metadata": {},
   "source": [
    "# Network Architecture"
   ]
  },
  {
   "cell_type": "code",
   "execution_count": 186,
   "metadata": {
    "collapsed": false
   },
   "outputs": [],
   "source": [
    "class SatNet(nn.Module):\n",
    "    \n",
    "    def __init__(self, input_size, hidden_size):\n",
    "        super(SatNet, self).__init__()\n",
    "        self.fc1 = nn.Linear(input_size, hidden_size)\n",
    "        self.fc2 = nn.Linear(hidden_size, input_size)\n",
    "    \n",
    "    def forward(self, x):\n",
    "        a1 = self.fc1(x) * torch.sigmoid(self.fc1(x))\n",
    "        a2 = self.fc2(a1)\n",
    "        return a2"
   ]
  },
  {
   "cell_type": "code",
   "execution_count": 187,
   "metadata": {
    "collapsed": false
   },
   "outputs": [],
   "source": [
    "def train_satnet(sat_data, satnet_params, iterations, lr):\n",
    "    train, cv, labels_train, labels_cv = [torch.from_numpy(data).float() for data in sat_data]\n",
    "    input_size, hidden_size = satnet_params\n",
    "    model = SatNet(input_size, hidden_size)\n",
    "    optim = torch.optim.Adam(model.parameters(), lr)\n",
    "    \n",
    "    for itr in range(iterations):\n",
    "        optim.zero_grad()\n",
    "        pred = model(train)\n",
    "        pred_cv = model(cv)\n",
    "        loss = torch.mean((pred - labels_train) ** 2)\n",
    "        loss_cv = torch.mean((pred_cv - labels_cv) ** 2)\n",
    "        loss.backward()\n",
    "        optim.step()\n",
    "        if(itr % 1000 == 0):\n",
    "            print('Iteration: {} | Loss (Train): {} | Loss (CV): {}'.format(itr, loss.item(), loss_cv.item()))\n",
    "        \n",
    "    return model"
   ]
  },
  {
   "cell_type": "code",
   "execution_count": 188,
   "metadata": {
    "collapsed": true
   },
   "outputs": [],
   "source": [
    "input_size = train_data.shape[1]\n",
    "hidden_size = 20\n",
    "iterations = 10000\n",
    "lr = 0.0001\n",
    "satnet_params = [input_size, hidden_size]"
   ]
  },
  {
   "cell_type": "code",
   "execution_count": 189,
   "metadata": {
    "collapsed": false
   },
   "outputs": [
    {
     "name": "stdout",
     "output_type": "stream",
     "text": [
      "\n",
      "Satellited ID: 0 \n",
      "\n",
      "Iteration: 0 | Loss (Train): 0.31311190128326416 | Loss (CV): 0.13717742264270782\n",
      "Iteration: 1000 | Loss (Train): 0.04977244511246681 | Loss (CV): 0.00917617417871952\n",
      "Iteration: 2000 | Loss (Train): 0.007535585202276707 | Loss (CV): 8.043511479627341e-05\n",
      "Iteration: 3000 | Loss (Train): 0.0069084870629012585 | Loss (CV): 0.00017290777759626508\n",
      "Iteration: 4000 | Loss (Train): 0.006907558999955654 | Loss (CV): 0.0001841871126089245\n",
      "Iteration: 5000 | Loss (Train): 0.00690749567002058 | Loss (CV): 0.00018431752687320113\n",
      "Iteration: 6000 | Loss (Train): 0.006907396949827671 | Loss (CV): 0.00018445646855980158\n",
      "Iteration: 7000 | Loss (Train): 0.006907228380441666 | Loss (CV): 0.00018469039059709758\n",
      "Iteration: 8000 | Loss (Train): 0.00690695084631443 | Loss (CV): 0.00018507562344893813\n",
      "Iteration: 9000 | Loss (Train): 0.006906498689204454 | Loss (CV): 0.00018571160035207868\n",
      "\n",
      "Satellited ID: 1 \n",
      "\n",
      "Iteration: 0 | Loss (Train): 0.13920392096042633 | Loss (CV): 0.8090184330940247\n",
      "Iteration: 1000 | Loss (Train): 0.02330515719950199 | Loss (CV): 0.5167638063430786\n",
      "Iteration: 2000 | Loss (Train): 0.02316613309085369 | Loss (CV): 0.5154883861541748\n",
      "Iteration: 3000 | Loss (Train): 0.02293575555086136 | Loss (CV): 0.5147721767425537\n",
      "Iteration: 4000 | Loss (Train): 0.02248537354171276 | Loss (CV): 0.5132530927658081\n",
      "Iteration: 5000 | Loss (Train): 0.021469291299581528 | Loss (CV): 0.5110297799110413\n",
      "Iteration: 6000 | Loss (Train): 0.019995061680674553 | Loss (CV): 0.5154781341552734\n",
      "Iteration: 7000 | Loss (Train): 0.018963592126965523 | Loss (CV): 0.5292081832885742\n",
      "Iteration: 8000 | Loss (Train): 0.018614139407873154 | Loss (CV): 0.540556788444519\n",
      "Iteration: 9000 | Loss (Train): 0.01858663745224476 | Loss (CV): 0.5419337749481201\n",
      "\n",
      "Satellited ID: 2 \n",
      "\n",
      "Iteration: 0 | Loss (Train): 2.0706214904785156 | Loss (CV): 0.18506604433059692\n",
      "Iteration: 1000 | Loss (Train): 0.8258790969848633 | Loss (CV): 0.04680192470550537\n",
      "Iteration: 2000 | Loss (Train): 0.6457501649856567 | Loss (CV): 0.4330689013004303\n",
      "Iteration: 3000 | Loss (Train): 0.6141032576560974 | Loss (CV): 0.3974640965461731\n",
      "Iteration: 4000 | Loss (Train): 0.5940844416618347 | Loss (CV): 0.269336074590683\n",
      "Iteration: 5000 | Loss (Train): 0.5889540314674377 | Loss (CV): 0.2067520022392273\n",
      "Iteration: 6000 | Loss (Train): 0.587997555732727 | Loss (CV): 0.1958160400390625\n",
      "Iteration: 7000 | Loss (Train): 0.5869753360748291 | Loss (CV): 0.1961144059896469\n",
      "Iteration: 8000 | Loss (Train): 0.5855523943901062 | Loss (CV): 0.19760918617248535\n",
      "Iteration: 9000 | Loss (Train): 0.5832618474960327 | Loss (CV): 0.20091214776039124\n",
      "\n",
      "Satellited ID: 3 \n",
      "\n",
      "Iteration: 0 | Loss (Train): 0.6234248876571655 | Loss (CV): 1.6875797510147095\n",
      "Iteration: 1000 | Loss (Train): 0.20160417258739471 | Loss (CV): 0.8787308931350708\n",
      "Iteration: 2000 | Loss (Train): 0.1725034862756729 | Loss (CV): 0.6778576970100403\n",
      "Iteration: 3000 | Loss (Train): 0.17023372650146484 | Loss (CV): 0.699441134929657\n",
      "Iteration: 4000 | Loss (Train): 0.1701032668352127 | Loss (CV): 0.7046381235122681\n",
      "Iteration: 5000 | Loss (Train): 0.1698983758687973 | Loss (CV): 0.7041409015655518\n",
      "Iteration: 6000 | Loss (Train): 0.16953666508197784 | Loss (CV): 0.7034878730773926\n",
      "Iteration: 7000 | Loss (Train): 0.1688632369041443 | Loss (CV): 0.7023406028747559\n",
      "Iteration: 8000 | Loss (Train): 0.16774873435497284 | Loss (CV): 0.7003451585769653\n",
      "Iteration: 9000 | Loss (Train): 0.16616719961166382 | Loss (CV): 0.6978659629821777\n",
      "\n",
      "Satellited ID: 4 \n",
      "\n",
      "Iteration: 0 | Loss (Train): 0.1678660660982132 | Loss (CV): 0.11393119394779205\n",
      "Iteration: 1000 | Loss (Train): 0.05933059751987457 | Loss (CV): 0.006233809981495142\n",
      "Iteration: 2000 | Loss (Train): 0.059328533709049225 | Loss (CV): 0.006228843703866005\n",
      "Iteration: 3000 | Loss (Train): 0.05932491272687912 | Loss (CV): 0.006220255512744188\n",
      "Iteration: 4000 | Loss (Train): 0.059318870306015015 | Loss (CV): 0.006205979268997908\n",
      "Iteration: 5000 | Loss (Train): 0.05930895730853081 | Loss (CV): 0.00618254579603672\n",
      "Iteration: 6000 | Loss (Train): 0.05929229408502579 | Loss (CV): 0.006143167149275541\n",
      "Iteration: 7000 | Loss (Train): 0.05926133692264557 | Loss (CV): 0.006069804076105356\n",
      "Iteration: 8000 | Loss (Train): 0.05918663367629051 | Loss (CV): 0.005888407118618488\n",
      "Iteration: 9000 | Loss (Train): 0.058973900973796844 | Loss (CV): 0.005367008037865162\n",
      "\n",
      "Satellited ID: 5 \n",
      "\n",
      "Iteration: 0 | Loss (Train): 1.3448433876037598 | Loss (CV): 0.8999217748641968\n",
      "Iteration: 1000 | Loss (Train): 0.457210898399353 | Loss (CV): 0.5604250431060791\n",
      "Iteration: 2000 | Loss (Train): 0.3898622393608093 | Loss (CV): 0.7525501847267151\n",
      "Iteration: 3000 | Loss (Train): 0.38071486353874207 | Loss (CV): 0.7745442986488342\n",
      "Iteration: 4000 | Loss (Train): 0.3728758692741394 | Loss (CV): 0.7930591702461243\n",
      "Iteration: 5000 | Loss (Train): 0.36365482211112976 | Loss (CV): 0.8138193488121033\n",
      "Iteration: 6000 | Loss (Train): 0.35465604066848755 | Loss (CV): 0.8417657017707825\n",
      "Iteration: 7000 | Loss (Train): 0.34361597895622253 | Loss (CV): 0.8806760907173157\n",
      "Iteration: 8000 | Loss (Train): 0.3262667655944824 | Loss (CV): 0.9440569281578064\n",
      "Iteration: 9000 | Loss (Train): 0.303325891494751 | Loss (CV): 1.042402982711792\n",
      "\n",
      "Satellited ID: 6 \n",
      "\n",
      "Iteration: 0 | Loss (Train): 0.9674608707427979 | Loss (CV): 0.8132121562957764\n",
      "Iteration: 1000 | Loss (Train): 0.5560964345932007 | Loss (CV): 0.47989869117736816\n",
      "Iteration: 2000 | Loss (Train): 0.5560498833656311 | Loss (CV): 0.479767382144928\n",
      "Iteration: 3000 | Loss (Train): 0.5559698939323425 | Loss (CV): 0.4795948565006256\n",
      "Iteration: 4000 | Loss (Train): 0.5558300018310547 | Loss (CV): 0.4792763590812683\n",
      "Iteration: 5000 | Loss (Train): 0.5554981827735901 | Loss (CV): 0.4784373641014099\n",
      "Iteration: 6000 | Loss (Train): 0.5543479323387146 | Loss (CV): 0.47606635093688965\n",
      "Iteration: 7000 | Loss (Train): 0.5511041283607483 | Loss (CV): 0.46853524446487427\n",
      "Iteration: 8000 | Loss (Train): 0.5450935363769531 | Loss (CV): 0.4538993239402771\n",
      "Iteration: 9000 | Loss (Train): 0.53586745262146 | Loss (CV): 0.43013712763786316\n",
      "\n",
      "Satellited ID: 7 \n",
      "\n",
      "Iteration: 0 | Loss (Train): 0.5905635356903076 | Loss (CV): 0.6127458810806274\n",
      "Iteration: 1000 | Loss (Train): 0.016350172460079193 | Loss (CV): 0.002229724545031786\n",
      "Iteration: 2000 | Loss (Train): 0.007477018982172012 | Loss (CV): 0.0009678570786491036\n",
      "Iteration: 3000 | Loss (Train): 0.0039365943521261215 | Loss (CV): 0.0005295032751746476\n",
      "Iteration: 4000 | Loss (Train): 0.003635150846093893 | Loss (CV): 0.0004941849038004875\n",
      "Iteration: 5000 | Loss (Train): 0.0036238019820302725 | Loss (CV): 0.0004869985277764499\n",
      "Iteration: 6000 | Loss (Train): 0.003612132743000984 | Loss (CV): 0.0004741345765069127\n",
      "Iteration: 7000 | Loss (Train): 0.0035905588883906603 | Loss (CV): 0.00045075188972987235\n",
      "Iteration: 8000 | Loss (Train): 0.003549988614395261 | Loss (CV): 0.0004113769100513309\n",
      "Iteration: 9000 | Loss (Train): 0.0034605981782078743 | Loss (CV): 0.0003399951965548098\n",
      "\n",
      "Satellited ID: 8 \n",
      "\n",
      "Iteration: 0 | Loss (Train): 1.4231758117675781 | Loss (CV): 4.434916019439697\n",
      "Iteration: 1000 | Loss (Train): 0.8796855807304382 | Loss (CV): 2.641771078109741\n",
      "Iteration: 2000 | Loss (Train): 0.8764729499816895 | Loss (CV): 2.5020854473114014\n",
      "Iteration: 3000 | Loss (Train): 0.8759791851043701 | Loss (CV): 2.4992902278900146\n",
      "Iteration: 4000 | Loss (Train): 0.8750874996185303 | Loss (CV): 2.494727849960327\n",
      "Iteration: 5000 | Loss (Train): 0.8734675049781799 | Loss (CV): 2.487236261367798\n",
      "Iteration: 6000 | Loss (Train): 0.870127260684967 | Loss (CV): 2.473959445953369\n",
      "Iteration: 7000 | Loss (Train): 0.8633037209510803 | Loss (CV): 2.446187734603882\n",
      "Iteration: 8000 | Loss (Train): 0.8515963554382324 | Loss (CV): 2.399718999862671\n",
      "Iteration: 9000 | Loss (Train): 0.834316074848175 | Loss (CV): 2.330597400665283\n",
      "\n",
      "Satellited ID: 9 \n",
      "\n",
      "Iteration: 0 | Loss (Train): 2.9167723655700684 | Loss (CV): 3.827193260192871\n",
      "Iteration: 1000 | Loss (Train): 0.23252683877944946 | Loss (CV): 1.927633285522461\n",
      "Iteration: 2000 | Loss (Train): 0.22508731484413147 | Loss (CV): 1.9914093017578125\n",
      "Iteration: 3000 | Loss (Train): 0.22506512701511383 | Loss (CV): 1.991480827331543\n",
      "Iteration: 4000 | Loss (Train): 0.2250191569328308 | Loss (CV): 1.9915825128555298\n",
      "Iteration: 5000 | Loss (Train): 0.22492553293704987 | Loss (CV): 1.9913709163665771\n",
      "Iteration: 6000 | Loss (Train): 0.22475768625736237 | Loss (CV): 1.9903981685638428\n",
      "Iteration: 7000 | Loss (Train): 0.22443914413452148 | Loss (CV): 1.9886994361877441\n",
      "Iteration: 8000 | Loss (Train): 0.2238200306892395 | Loss (CV): 1.9860258102416992\n",
      "Iteration: 9000 | Loss (Train): 0.22268261015415192 | Loss (CV): 1.9818421602249146\n"
     ]
    }
   ],
   "source": [
    "models = {}\n",
    "for sat_id in range(10):\n",
    "    print('\\nSatellited ID:', sat_id,'\\n')\n",
    "    sat_data = [train[sat_id].values, cv[sat_id].values, labels_train[sat_id].values, labels_cv[sat_id].values]\n",
    "    models[sat_id] = train_satnet(sat_data, satnet_params, iterations, lr)"
   ]
  },
  {
   "cell_type": "code",
   "execution_count": null,
   "metadata": {
    "collapsed": true
   },
   "outputs": [],
   "source": []
  }
 ],
 "metadata": {
  "kernelspec": {
   "display_name": "Python 3",
   "language": "python",
   "name": "python3"
  },
  "language_info": {
   "codemirror_mode": {
    "name": "ipython",
    "version": 3
   },
   "file_extension": ".py",
   "mimetype": "text/x-python",
   "name": "python",
   "nbconvert_exporter": "python",
   "pygments_lexer": "ipython3",
   "version": "3.6.1"
  }
 },
 "nbformat": 4,
 "nbformat_minor": 2
}
