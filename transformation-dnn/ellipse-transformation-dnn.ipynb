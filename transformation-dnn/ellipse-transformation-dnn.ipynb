{
 "cells": [
  {
   "cell_type": "markdown",
   "metadata": {},
   "source": [
    "# Load Data and Modules"
   ]
  },
  {
   "cell_type": "code",
   "execution_count": 1,
   "metadata": {
    "collapsed": true
   },
   "outputs": [],
   "source": [
    "import pandas as pd\n",
    "import numpy as np\n",
    "import matplotlib.pyplot as plt\n",
    "%matplotlib inline"
   ]
  },
  {
   "cell_type": "code",
   "execution_count": 2,
   "metadata": {
    "collapsed": true
   },
   "outputs": [],
   "source": [
    "import torch\n",
    "import torch.nn as nn\n",
    "import torch.nn.functional as F"
   ]
  },
  {
   "cell_type": "code",
   "execution_count": 3,
   "metadata": {
    "collapsed": false
   },
   "outputs": [],
   "source": [
    "from sklearn.model_selection import train_test_split\n",
    "from scipy.spatial.transform import Rotation as R\n",
    "from preprocessing_utils import pickle_load, pickle_save"
   ]
  },
  {
   "cell_type": "code",
   "execution_count": 4,
   "metadata": {
    "collapsed": true
   },
   "outputs": [],
   "source": [
    "ellipse_cols = ['sat_id', 'ellipse_id', 'major', 'minor', 'loss', 'r00', 'r01', 'r02', 'r10', 'r11', 'r12', 'r20', 'r21', 'r22',\n",
    "                't1', 't2', 't3']"
   ]
  },
  {
   "cell_type": "code",
   "execution_count": 5,
   "metadata": {
    "collapsed": true
   },
   "outputs": [],
   "source": [
    "data_sim = pd.read_csv('../data/data_sim.csv')\n",
    "data_real = pd.read_csv('../data/data_real.csv')"
   ]
  },
  {
   "cell_type": "code",
   "execution_count": 6,
   "metadata": {
    "collapsed": false
   },
   "outputs": [],
   "source": [
    "data_sim = pd.DataFrame(data_sim.values, columns = ellipse_cols)\n",
    "data_real = pd.DataFrame(data_real.values, columns = ellipse_cols)"
   ]
  },
  {
   "cell_type": "code",
   "execution_count": 7,
   "metadata": {
    "collapsed": false
   },
   "outputs": [
    {
     "data": {
      "text/plain": [
       "((38629, 17), (26790, 17))"
      ]
     },
     "execution_count": 7,
     "metadata": {},
     "output_type": "execute_result"
    }
   ],
   "source": [
    "data_sim.shape, data_real.shape"
   ]
  },
  {
   "cell_type": "markdown",
   "metadata": {},
   "source": [
    "# Axis Angle Representation"
   ]
  },
  {
   "cell_type": "code",
   "execution_count": 8,
   "metadata": {
    "collapsed": false
   },
   "outputs": [],
   "source": [
    "def convert_matrix(data):\n",
    "    matrix = data.loc[:, 'r00':'r22'].values.reshape(-1, 3, 3)\n",
    "    rotvec = np.array([R.from_matrix(m).as_rotvec() for m in matrix])\n",
    "    data['r1'], data['r2'], data['r3'] = np.transpose(rotvec)\n",
    "    data.drop(['r00', 'r01', 'r02', 'r10', 'r11', 'r12', 'r20', 'r21', 'r22'], axis=1, inplace=True)"
   ]
  },
  {
   "cell_type": "code",
   "execution_count": 9,
   "metadata": {
    "collapsed": false
   },
   "outputs": [],
   "source": [
    "convert_matrix(data_sim)\n",
    "convert_matrix(data_real)"
   ]
  },
  {
   "cell_type": "markdown",
   "metadata": {},
   "source": [
    "# Train-Test Segregation"
   ]
  },
  {
   "cell_type": "code",
   "execution_count": 10,
   "metadata": {
    "collapsed": false
   },
   "outputs": [],
   "source": [
    "merged_data = data_sim.merge(data_real, how='outer', on=['sat_id', 'ellipse_id'], suffixes=['_sim', '_real'], indicator=True)\n",
    "merge = merged_data['_merge']\n",
    "merged_data.drop(['ellipse_id', 'loss_sim', 'loss_real'], axis=1, inplace=True)"
   ]
  },
  {
   "cell_type": "code",
   "execution_count": 11,
   "metadata": {
    "collapsed": false
   },
   "outputs": [],
   "source": [
    "train_data = merged_data[merged_data['_merge'] == 'both'].drop('_merge', axis=1).reset_index(drop=True)\n",
    "test_data = merged_data[merged_data['_merge'] == 'left_only'].drop('_merge', axis=1).dropna(axis=1).reset_index(drop=True)"
   ]
  },
  {
   "cell_type": "code",
   "execution_count": 12,
   "metadata": {
    "collapsed": true
   },
   "outputs": [],
   "source": [
    "sat_ids_train = train_data['sat_id']\n",
    "sat_ids_test = test_data['sat_id']"
   ]
  },
  {
   "cell_type": "code",
   "execution_count": 13,
   "metadata": {
    "collapsed": true
   },
   "outputs": [],
   "source": [
    "train_data.drop('sat_id', axis=1, inplace=True)\n",
    "test_data.drop('sat_id', axis=1, inplace=True)"
   ]
  },
  {
   "cell_type": "code",
   "execution_count": 14,
   "metadata": {
    "collapsed": false
   },
   "outputs": [],
   "source": [
    "labels = train_data.loc[:, 'major_real':]\n",
    "train_data = train_data.loc[:, :'r3_sim']"
   ]
  },
  {
   "cell_type": "code",
   "execution_count": 15,
   "metadata": {
    "collapsed": true
   },
   "outputs": [],
   "source": [
    "cols = ['major', 'minor', 't1', 't2', 't3', 'r1', 'r2', 'r3']"
   ]
  },
  {
   "cell_type": "code",
   "execution_count": 16,
   "metadata": {
    "collapsed": false
   },
   "outputs": [],
   "source": [
    "train_data = pd.DataFrame(train_data.values, columns=cols)\n",
    "test_data = pd.DataFrame(test_data.values, columns=cols)\n",
    "labels = pd.DataFrame(labels.values, columns=cols)"
   ]
  },
  {
   "cell_type": "code",
   "execution_count": 17,
   "metadata": {
    "collapsed": false
   },
   "outputs": [],
   "source": [
    "#labels = labels - train_data"
   ]
  },
  {
   "cell_type": "code",
   "execution_count": 18,
   "metadata": {
    "collapsed": false
   },
   "outputs": [
    {
     "data": {
      "text/plain": [
       "((26790, 8), (11839, 8), (26790, 8))"
      ]
     },
     "execution_count": 18,
     "metadata": {},
     "output_type": "execute_result"
    }
   ],
   "source": [
    "train_data.shape, test_data.shape, labels.shape"
   ]
  },
  {
   "cell_type": "markdown",
   "metadata": {},
   "source": [
    "# Train-CV Split per Satellite"
   ]
  },
  {
   "cell_type": "code",
   "execution_count": 19,
   "metadata": {
    "collapsed": true
   },
   "outputs": [],
   "source": [
    "split_ratio = 0.1"
   ]
  },
  {
   "cell_type": "code",
   "execution_count": 20,
   "metadata": {
    "collapsed": true
   },
   "outputs": [],
   "source": [
    "train = {}\n",
    "cv = {}\n",
    "labels_train = {}\n",
    "labels_cv = {}"
   ]
  },
  {
   "cell_type": "code",
   "execution_count": 21,
   "metadata": {
    "collapsed": false
   },
   "outputs": [],
   "source": [
    "for sat_id in range(600):\n",
    "    sat_data = train_data[sat_ids_train == sat_id]\n",
    "    sat_labels = labels[sat_ids_train == sat_id]\n",
    "    train_size = int(sat_data.shape[0] * (1 - split_ratio))\n",
    "    train[sat_id] = sat_data.iloc[:train_size, :].reset_index(drop=True)\n",
    "    cv[sat_id] = sat_data.iloc[train_size:, :].reset_index(drop=True)\n",
    "    labels_train[sat_id] = sat_labels.iloc[:train_size, :].reset_index(drop=True)\n",
    "    labels_cv[sat_id] = sat_labels.iloc[train_size:, :].reset_index(drop=True)"
   ]
  },
  {
   "cell_type": "markdown",
   "metadata": {},
   "source": [
    "# Network Architecture"
   ]
  },
  {
   "cell_type": "code",
   "execution_count": 23,
   "metadata": {
    "collapsed": false
   },
   "outputs": [],
   "source": [
    "class SatNet(nn.Module):\n",
    "    \n",
    "    def __init__(self, input_size, hidden_size):\n",
    "        super(SatNet, self).__init__()\n",
    "        self.fc1 = nn.Linear(input_size, hidden_size)\n",
    "        self.fc2 = nn.Linear(hidden_size, 16)\n",
    "        self.fc3 = nn.Linear(16, input_size)\n",
    "    \n",
    "    def forward(self, x):\n",
    "        a1 = self.fc1(x) * torch.sigmoid(self.fc1(x))\n",
    "        a2 = torch.tanh(self.fc2(a1))\n",
    "        a3 = self.fc3(a2)\n",
    "        return a3"
   ]
  },
  {
   "cell_type": "code",
   "execution_count": 34,
   "metadata": {
    "collapsed": false
   },
   "outputs": [],
   "source": [
    "def train_satnet(sat_data, satnet_params, iterations, lr):\n",
    "    train, cv, labels_train, labels_cv = [torch.from_numpy(data).float() for data in sat_data]\n",
    "    input_size, hidden_size = satnet_params\n",
    "    model = SatNet(input_size, hidden_size)\n",
    "    optim = torch.optim.Adam(model.parameters(), lr)\n",
    "    \n",
    "    for itr in range(iterations):\n",
    "        optim.zero_grad()\n",
    "        pred = model(train)\n",
    "        pred_cv = model(cv)\n",
    "        loss = torch.mean((pred - labels_train) ** 2)\n",
    "        loss_cv = torch.mean((pred_cv - labels_cv) ** 2)\n",
    "        loss.backward()\n",
    "        optim.step()\n",
    "        if(itr % 1000 == 0):\n",
    "            print('Iteration: {} | Loss (Train): {} | Loss (CV): {}'.format(itr, loss.item(), loss_cv.item()))\n",
    "        \n",
    "    return model"
   ]
  },
  {
   "cell_type": "code",
   "execution_count": 35,
   "metadata": {
    "collapsed": true
   },
   "outputs": [],
   "source": [
    "input_size = train_data.shape[1]\n",
    "hidden_size = 32\n",
    "iterations = 10000\n",
    "lr = 0.0001\n",
    "satnet_params = [input_size, hidden_size]"
   ]
  },
  {
   "cell_type": "code",
   "execution_count": 36,
   "metadata": {
    "collapsed": false
   },
   "outputs": [
    {
     "name": "stdout",
     "output_type": "stream",
     "text": [
      "\n",
      "Satellited ID: 0 \n",
      "\n",
      "Iteration: 0 | Loss (Train): 2.748077869415283 | Loss (CV): 2.7471532821655273\n",
      "Iteration: 1000 | Loss (Train): 0.19799302518367767 | Loss (CV): 0.1924707442522049\n",
      "Iteration: 2000 | Loss (Train): 0.011511015705764294 | Loss (CV): 0.004765321500599384\n",
      "Iteration: 3000 | Loss (Train): 0.007106676697731018 | Loss (CV): 0.00039597373688593507\n",
      "Iteration: 4000 | Loss (Train): 0.0070907375775277615 | Loss (CV): 0.0003892779059242457\n",
      "Iteration: 5000 | Loss (Train): 0.0070821018889546394 | Loss (CV): 0.0003840412537101656\n",
      "Iteration: 6000 | Loss (Train): 0.007065028417855501 | Loss (CV): 0.00037295627407729626\n",
      "Iteration: 7000 | Loss (Train): 0.00701206224039197 | Loss (CV): 0.0003335139772389084\n",
      "Iteration: 8000 | Loss (Train): 0.006923464592546225 | Loss (CV): 0.0002113649097736925\n",
      "Iteration: 9000 | Loss (Train): 0.006915824953466654 | Loss (CV): 0.0001950891746673733\n",
      "\n",
      "Satellited ID: 1 \n",
      "\n",
      "Iteration: 0 | Loss (Train): 2.429593086242676 | Loss (CV): 1.752434253692627\n",
      "Iteration: 1000 | Loss (Train): 0.05779030919075012 | Loss (CV): 0.4389989972114563\n",
      "Iteration: 2000 | Loss (Train): 0.023235442116856575 | Loss (CV): 0.5119404792785645\n",
      "Iteration: 3000 | Loss (Train): 0.023224176838994026 | Loss (CV): 0.5136747360229492\n",
      "Iteration: 4000 | Loss (Train): 0.023213470354676247 | Loss (CV): 0.5136860609054565\n",
      "Iteration: 5000 | Loss (Train): 0.023193486034870148 | Loss (CV): 0.513629138469696\n",
      "Iteration: 6000 | Loss (Train): 0.02314784564077854 | Loss (CV): 0.5134459733963013\n",
      "Iteration: 7000 | Loss (Train): 0.023005535826086998 | Loss (CV): 0.5130547881126404\n",
      "Iteration: 8000 | Loss (Train): 0.022216521203517914 | Loss (CV): 0.511352002620697\n",
      "Iteration: 9000 | Loss (Train): 0.019239841029047966 | Loss (CV): 0.51509690284729\n",
      "\n",
      "Satellited ID: 2 \n",
      "\n",
      "Iteration: 0 | Loss (Train): 9.878388404846191 | Loss (CV): 9.719280242919922\n",
      "Iteration: 1000 | Loss (Train): 3.0614824295043945 | Loss (CV): 2.9891107082366943\n",
      "Iteration: 2000 | Loss (Train): 1.4058316946029663 | Loss (CV): 1.3407371044158936\n",
      "Iteration: 3000 | Loss (Train): 0.8274512887001038 | Loss (CV): 0.7624098062515259\n",
      "Iteration: 4000 | Loss (Train): 0.6921002864837646 | Loss (CV): 0.6270577907562256\n",
      "Iteration: 5000 | Loss (Train): 0.6791830658912659 | Loss (CV): 0.6142269372940063\n",
      "Iteration: 6000 | Loss (Train): 0.6789191365242004 | Loss (CV): 0.6140048503875732\n",
      "Iteration: 7000 | Loss (Train): 0.6789174675941467 | Loss (CV): 0.6140175461769104\n",
      "Iteration: 8000 | Loss (Train): 0.6789149641990662 | Loss (CV): 0.6140359044075012\n",
      "Iteration: 9000 | Loss (Train): 0.6789100170135498 | Loss (CV): 0.6140725612640381\n",
      "\n",
      "Satellited ID: 3 \n",
      "\n",
      "Iteration: 0 | Loss (Train): 12.296839714050293 | Loss (CV): 12.497233390808105\n",
      "Iteration: 1000 | Loss (Train): 3.5947225093841553 | Loss (CV): 3.692673683166504\n",
      "Iteration: 2000 | Loss (Train): 1.3703073263168335 | Loss (CV): 1.289350152015686\n",
      "Iteration: 3000 | Loss (Train): 0.528910219669342 | Loss (CV): 0.3959643542766571\n",
      "Iteration: 4000 | Loss (Train): 0.27655893564224243 | Loss (CV): 0.13629043102264404\n",
      "Iteration: 5000 | Loss (Train): 0.2382727861404419 | Loss (CV): 0.09653136134147644\n",
      "Iteration: 6000 | Loss (Train): 0.23662430047988892 | Loss (CV): 0.09455899894237518\n",
      "Iteration: 7000 | Loss (Train): 0.23660063743591309 | Loss (CV): 0.09456217288970947\n",
      "Iteration: 8000 | Loss (Train): 0.23651640117168427 | Loss (CV): 0.09481795132160187\n",
      "Iteration: 9000 | Loss (Train): 0.21328067779541016 | Loss (CV): 0.32890966534614563\n",
      "\n",
      "Satellited ID: 4 \n",
      "\n",
      "Iteration: 0 | Loss (Train): 3.1470282077789307 | Loss (CV): 3.1164016723632812\n",
      "Iteration: 1000 | Loss (Train): 0.13476897776126862 | Loss (CV): 0.0761490911245346\n",
      "Iteration: 2000 | Loss (Train): 0.05968066304922104 | Loss (CV): 0.006741748191416264\n",
      "Iteration: 3000 | Loss (Train): 0.05947035178542137 | Loss (CV): 0.006558866705745459\n",
      "Iteration: 4000 | Loss (Train): 0.05947032943367958 | Loss (CV): 0.006558370776474476\n",
      "Iteration: 5000 | Loss (Train): 0.05947032570838928 | Loss (CV): 0.006558316294103861\n",
      "Iteration: 6000 | Loss (Train): 0.05947029963135719 | Loss (CV): 0.006558273918926716\n",
      "Iteration: 7000 | Loss (Train): 0.0594702772796154 | Loss (CV): 0.00655821617692709\n",
      "Iteration: 8000 | Loss (Train): 0.05947024002671242 | Loss (CV): 0.006558110471814871\n",
      "Iteration: 9000 | Loss (Train): 0.05947016179561615 | Loss (CV): 0.00655793771147728\n",
      "\n",
      "Satellited ID: 5 \n",
      "\n",
      "Iteration: 0 | Loss (Train): 1.905167579650879 | Loss (CV): 2.134852170944214\n",
      "Iteration: 1000 | Loss (Train): 0.5008144378662109 | Loss (CV): 0.7721459269523621\n",
      "Iteration: 2000 | Loss (Train): 0.3957068920135498 | Loss (CV): 0.7664174437522888\n",
      "Iteration: 3000 | Loss (Train): 0.3780374228954315 | Loss (CV): 0.7769497036933899\n",
      "Iteration: 4000 | Loss (Train): 0.36757948994636536 | Loss (CV): 0.7954380512237549\n",
      "Iteration: 5000 | Loss (Train): 0.3612639605998993 | Loss (CV): 0.8126287460327148\n",
      "Iteration: 6000 | Loss (Train): 0.33913034200668335 | Loss (CV): 0.8784648180007935\n",
      "Iteration: 7000 | Loss (Train): 0.2559329867362976 | Loss (CV): 1.2737780809402466\n",
      "Iteration: 8000 | Loss (Train): 0.1787814497947693 | Loss (CV): 2.1010234355926514\n",
      "Iteration: 9000 | Loss (Train): 0.15830302238464355 | Loss (CV): 2.2672717571258545\n",
      "\n",
      "Satellited ID: 6 \n",
      "\n",
      "Iteration: 0 | Loss (Train): 10.188980102539062 | Loss (CV): 10.605402946472168\n",
      "Iteration: 1000 | Loss (Train): 3.735053062438965 | Loss (CV): 3.8331754207611084\n",
      "Iteration: 2000 | Loss (Train): 1.7614063024520874 | Loss (CV): 1.7889944314956665\n",
      "Iteration: 3000 | Loss (Train): 0.8933305144309998 | Loss (CV): 0.866082489490509\n",
      "Iteration: 4000 | Loss (Train): 0.6095796227455139 | Loss (CV): 0.5479554533958435\n",
      "Iteration: 5000 | Loss (Train): 0.5582180023193359 | Loss (CV): 0.48229968547821045\n",
      "Iteration: 6000 | Loss (Train): 0.5548250079154968 | Loss (CV): 0.4760817289352417\n",
      "Iteration: 7000 | Loss (Train): 0.5547834038734436 | Loss (CV): 0.4758635461330414\n",
      "Iteration: 8000 | Loss (Train): 0.5547834038734436 | Loss (CV): 0.475861132144928\n",
      "Iteration: 9000 | Loss (Train): 0.5547834038734436 | Loss (CV): 0.47586071491241455\n",
      "\n",
      "Satellited ID: 7 \n",
      "\n",
      "Iteration: 0 | Loss (Train): 19.787668228149414 | Loss (CV): 19.772750854492188\n",
      "Iteration: 1000 | Loss (Train): 7.538588047027588 | Loss (CV): 7.544307231903076\n",
      "Iteration: 2000 | Loss (Train): 3.4120821952819824 | Loss (CV): 3.4191341400146484\n",
      "Iteration: 3000 | Loss (Train): 1.3421822786331177 | Loss (CV): 1.3453199863433838\n",
      "Iteration: 4000 | Loss (Train): 0.4047934114933014 | Loss (CV): 0.4038674533367157\n",
      "Iteration: 5000 | Loss (Train): 0.08131029456853867 | Loss (CV): 0.07831407338380814\n",
      "Iteration: 6000 | Loss (Train): 0.011869056150317192 | Loss (CV): 0.007856694981455803\n",
      "Iteration: 7000 | Loss (Train): 0.005413679871708155 | Loss (CV): 0.0008324122754856944\n",
      "Iteration: 8000 | Loss (Train): 0.005273638758808374 | Loss (CV): 0.000560086453333497\n",
      "Iteration: 9000 | Loss (Train): 0.005273386370390654 | Loss (CV): 0.0005534398951567709\n",
      "\n",
      "Satellited ID: 8 \n",
      "\n",
      "Iteration: 0 | Loss (Train): 1.8910776376724243 | Loss (CV): 1.9512715339660645\n",
      "Iteration: 1000 | Loss (Train): 0.880527675151825 | Loss (CV): 2.477545976638794\n",
      "Iteration: 2000 | Loss (Train): 0.8762595653533936 | Loss (CV): 2.496389627456665\n",
      "Iteration: 3000 | Loss (Train): 0.8760371804237366 | Loss (CV): 2.495351552963257\n",
      "Iteration: 4000 | Loss (Train): 0.8751967549324036 | Loss (CV): 2.490323781967163\n",
      "Iteration: 5000 | Loss (Train): 0.869638979434967 | Loss (CV): 2.4679441452026367\n",
      "Iteration: 6000 | Loss (Train): 0.8319966793060303 | Loss (CV): 2.322561264038086\n",
      "Iteration: 7000 | Loss (Train): 0.6911376118659973 | Loss (CV): 1.7812080383300781\n",
      "Iteration: 8000 | Loss (Train): 0.5492395162582397 | Loss (CV): 1.2098640203475952\n",
      "Iteration: 9000 | Loss (Train): 0.4820699691772461 | Loss (CV): 0.8796882629394531\n",
      "\n",
      "Satellited ID: 9 \n",
      "\n",
      "Iteration: 0 | Loss (Train): 14.198138236999512 | Loss (CV): 13.809867858886719\n",
      "Iteration: 1000 | Loss (Train): 5.095047950744629 | Loss (CV): 5.92724609375\n",
      "Iteration: 2000 | Loss (Train): 2.177154779434204 | Loss (CV): 3.6508193016052246\n",
      "Iteration: 3000 | Loss (Train): 0.8883507251739502 | Loss (CV): 2.5994772911071777\n",
      "Iteration: 4000 | Loss (Train): 0.37888050079345703 | Loss (CV): 2.1331448554992676\n",
      "Iteration: 5000 | Loss (Train): 0.24312147498130798 | Loss (CV): 2.0052995681762695\n",
      "Iteration: 6000 | Loss (Train): 0.22593499720096588 | Loss (CV): 1.990473985671997\n",
      "Iteration: 7000 | Loss (Train): 0.22530841827392578 | Loss (CV): 1.990196943283081\n",
      "Iteration: 8000 | Loss (Train): 0.22530561685562134 | Loss (CV): 1.9902094602584839\n",
      "Iteration: 9000 | Loss (Train): 0.22530564665794373 | Loss (CV): 1.9902094602584839\n"
     ]
    }
   ],
   "source": [
    "models = {}\n",
    "for sat_id in range(0):\n",
    "    print('\\nSatellited ID:', sat_id,'\\n')\n",
    "    sat_data = [train[sat_id].values, cv[sat_id].values, labels_train[sat_id].values, labels_cv[sat_id].values]\n",
    "    models[sat_id] = train_satnet(sat_data, satnet_params, iterations, lr)"
   ]
  },
  {
   "cell_type": "code",
   "execution_count": 73,
   "metadata": {
    "collapsed": false
   },
   "outputs": [
    {
     "data": {
      "text/plain": [
       "{0: SatNet(\n",
       "   (fc1): Linear(in_features=8, out_features=32, bias=True)\n",
       "   (fc2): Linear(in_features=32, out_features=16, bias=True)\n",
       "   (fc3): Linear(in_features=16, out_features=8, bias=True)\n",
       " ), 1: SatNet(\n",
       "   (fc1): Linear(in_features=8, out_features=32, bias=True)\n",
       "   (fc2): Linear(in_features=32, out_features=16, bias=True)\n",
       "   (fc3): Linear(in_features=16, out_features=8, bias=True)\n",
       " ), 2: SatNet(\n",
       "   (fc1): Linear(in_features=8, out_features=32, bias=True)\n",
       "   (fc2): Linear(in_features=32, out_features=16, bias=True)\n",
       "   (fc3): Linear(in_features=16, out_features=8, bias=True)\n",
       " ), 3: SatNet(\n",
       "   (fc1): Linear(in_features=8, out_features=32, bias=True)\n",
       "   (fc2): Linear(in_features=32, out_features=16, bias=True)\n",
       "   (fc3): Linear(in_features=16, out_features=8, bias=True)\n",
       " ), 4: SatNet(\n",
       "   (fc1): Linear(in_features=8, out_features=32, bias=True)\n",
       "   (fc2): Linear(in_features=32, out_features=16, bias=True)\n",
       "   (fc3): Linear(in_features=16, out_features=8, bias=True)\n",
       " ), 5: SatNet(\n",
       "   (fc1): Linear(in_features=8, out_features=32, bias=True)\n",
       "   (fc2): Linear(in_features=32, out_features=16, bias=True)\n",
       "   (fc3): Linear(in_features=16, out_features=8, bias=True)\n",
       " ), 6: SatNet(\n",
       "   (fc1): Linear(in_features=8, out_features=32, bias=True)\n",
       "   (fc2): Linear(in_features=32, out_features=16, bias=True)\n",
       "   (fc3): Linear(in_features=16, out_features=8, bias=True)\n",
       " ), 7: SatNet(\n",
       "   (fc1): Linear(in_features=8, out_features=32, bias=True)\n",
       "   (fc2): Linear(in_features=32, out_features=16, bias=True)\n",
       "   (fc3): Linear(in_features=16, out_features=8, bias=True)\n",
       " ), 8: SatNet(\n",
       "   (fc1): Linear(in_features=8, out_features=32, bias=True)\n",
       "   (fc2): Linear(in_features=32, out_features=16, bias=True)\n",
       "   (fc3): Linear(in_features=16, out_features=8, bias=True)\n",
       " ), 9: SatNet(\n",
       "   (fc1): Linear(in_features=8, out_features=32, bias=True)\n",
       "   (fc2): Linear(in_features=32, out_features=16, bias=True)\n",
       "   (fc3): Linear(in_features=16, out_features=8, bias=True)\n",
       " )}"
      ]
     },
     "execution_count": 73,
     "metadata": {},
     "output_type": "execute_result"
    }
   ],
   "source": [
    "models"
   ]
  },
  {
   "cell_type": "code",
   "execution_count": 76,
   "metadata": {
    "collapsed": true
   },
   "outputs": [],
   "source": [
    "satnets = pickle_load('../data/satnets.pickle')"
   ]
  },
  {
   "cell_type": "code",
   "execution_count": 78,
   "metadata": {
    "collapsed": false
   },
   "outputs": [
    {
     "data": {
      "text/plain": [
       "SatNet(\n",
       "  (fc1): Linear(in_features=9, out_features=60, bias=True)\n",
       "  (fc2): Linear(in_features=60, out_features=9, bias=True)\n",
       ")"
      ]
     },
     "execution_count": 78,
     "metadata": {},
     "output_type": "execute_result"
    }
   ],
   "source": [
    "satnets[0]"
   ]
  },
  {
   "cell_type": "code",
   "execution_count": null,
   "metadata": {
    "collapsed": true
   },
   "outputs": [],
   "source": []
  }
 ],
 "metadata": {
  "kernelspec": {
   "display_name": "Python 3",
   "language": "python",
   "name": "python3"
  },
  "language_info": {
   "codemirror_mode": {
    "name": "ipython",
    "version": 3
   },
   "file_extension": ".py",
   "mimetype": "text/x-python",
   "name": "python",
   "nbconvert_exporter": "python",
   "pygments_lexer": "ipython3",
   "version": "3.6.1"
  }
 },
 "nbformat": 4,
 "nbformat_minor": 2
}
