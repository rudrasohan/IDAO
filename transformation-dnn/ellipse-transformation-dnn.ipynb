{
 "cells": [
  {
   "cell_type": "markdown",
   "metadata": {
    "colab_type": "text",
    "id": "Q7DD0vPf4mHr"
   },
   "source": [
    "# Load Data and Modules"
   ]
  },
  {
   "cell_type": "code",
   "execution_count": 1,
   "metadata": {
    "colab": {},
    "colab_type": "code",
    "collapsed": true,
    "id": "phjzREQj4mH1"
   },
   "outputs": [],
   "source": [
    "import pandas as pd\n",
    "import numpy as np\n",
    "import matplotlib.pyplot as plt\n",
    "%matplotlib inline"
   ]
  },
  {
   "cell_type": "code",
   "execution_count": 2,
   "metadata": {
    "colab": {},
    "colab_type": "code",
    "collapsed": true,
    "id": "UKXudR8U4mIB"
   },
   "outputs": [],
   "source": [
    "import torch\n",
    "import torch.nn as nn\n",
    "import torch.nn.functional as F"
   ]
  },
  {
   "cell_type": "code",
   "execution_count": 3,
   "metadata": {
    "collapsed": true
   },
   "outputs": [],
   "source": [
    "from preprocessing_utils import pickle_save, pickle_load"
   ]
  },
  {
   "cell_type": "code",
   "execution_count": 4,
   "metadata": {
    "colab": {},
    "colab_type": "code",
    "collapsed": true,
    "id": "bxAu4_W64mIM"
   },
   "outputs": [],
   "source": [
    "from sklearn.model_selection import train_test_split\n",
    "from scipy.spatial.transform import Rotation as R"
   ]
  },
  {
   "cell_type": "code",
   "execution_count": 5,
   "metadata": {
    "colab": {},
    "colab_type": "code",
    "collapsed": true,
    "id": "9LOublIv4mIZ"
   },
   "outputs": [],
   "source": [
    "ellipse_cols = ['sat_id', 'ellipse_id', 'major', 'minor', 'loss', 'r00', 'r01', 'r02', 'r10', 'r11', 'r12', 'r20', 'r21', 'r22',\n",
    "                't1', 't2', 't3']"
   ]
  },
  {
   "cell_type": "code",
   "execution_count": 6,
   "metadata": {
    "colab": {},
    "colab_type": "code",
    "collapsed": true,
    "id": "79wJOfdy4mIm"
   },
   "outputs": [],
   "source": [
    "data_sim = pd.read_csv('../data/data_sim.csv')\n",
    "data_real = pd.read_csv('../data/data_real.csv')"
   ]
  },
  {
   "cell_type": "code",
   "execution_count": 7,
   "metadata": {
    "colab": {},
    "colab_type": "code",
    "collapsed": true,
    "id": "30RnsoCy4mIw"
   },
   "outputs": [],
   "source": [
    "data_sim = pd.DataFrame(data_sim.values, columns = ellipse_cols)\n",
    "data_real = pd.DataFrame(data_real.values, columns = ellipse_cols)"
   ]
  },
  {
   "cell_type": "code",
   "execution_count": 8,
   "metadata": {
    "colab": {
     "base_uri": "https://localhost:8080/",
     "height": 34
    },
    "colab_type": "code",
    "collapsed": false,
    "id": "ZBay2msM4mJG",
    "outputId": "4f293b34-3c39-4a15-c23b-ea47ede686d1"
   },
   "outputs": [
    {
     "data": {
      "text/plain": [
       "((38629, 17), (26790, 17))"
      ]
     },
     "execution_count": 8,
     "metadata": {},
     "output_type": "execute_result"
    }
   ],
   "source": [
    "data_sim.shape, data_real.shape"
   ]
  },
  {
   "cell_type": "markdown",
   "metadata": {
    "colab_type": "text",
    "id": "njVxUEuO4mJQ"
   },
   "source": [
    "# Axis Angle Representation"
   ]
  },
  {
   "cell_type": "code",
   "execution_count": 9,
   "metadata": {
    "colab": {},
    "colab_type": "code",
    "collapsed": true,
    "id": "BMfqKBPZ4mJR"
   },
   "outputs": [],
   "source": [
    "def convert_matrix(data):\n",
    "    matrix = data.loc[:, 'r00':'r22'].values.reshape(-1, 3, 3)\n",
    "    rotvec = np.array([R.from_matrix(m).as_rotvec() for m in matrix])\n",
    "    phis = np.linalg.norm(rotvec,axis=1,keepdims=True)\n",
    "    rotvec = rotvec/phis\n",
    "    data['r1'], data['r2'], data['r3'] = np.transpose(rotvec)\n",
    "    data['phi'] = phis[:,0]\n",
    "    print(rotvec.shape)\n",
    "    data.drop(['r00', 'r01', 'r02', 'r10', 'r11', 'r12', 'r20', 'r21', 'r22'], axis=1, inplace=True)"
   ]
  },
  {
   "cell_type": "code",
   "execution_count": 10,
   "metadata": {
    "colab": {
     "base_uri": "https://localhost:8080/",
     "height": 51
    },
    "colab_type": "code",
    "collapsed": false,
    "id": "tgyDajPE4mJY",
    "outputId": "ab13b303-f42f-4eb6-dca8-edf0dac6860b"
   },
   "outputs": [
    {
     "name": "stdout",
     "output_type": "stream",
     "text": [
      "(38629, 3)\n",
      "(26790, 3)\n"
     ]
    }
   ],
   "source": [
    "convert_matrix(data_sim)\n",
    "convert_matrix(data_real)"
   ]
  },
  {
   "cell_type": "markdown",
   "metadata": {
    "colab_type": "text",
    "id": "OVuGyRd84mJm"
   },
   "source": [
    "# Train-Test Segregation"
   ]
  },
  {
   "cell_type": "code",
   "execution_count": 11,
   "metadata": {
    "colab": {},
    "colab_type": "code",
    "collapsed": true,
    "id": "6mqEbKJB4mJr"
   },
   "outputs": [],
   "source": [
    "merged_data = data_sim.merge(data_real, how='outer', on=['sat_id', 'ellipse_id'], suffixes=['_sim', '_real'], indicator=True)\n",
    "merge = merged_data['_merge']\n",
    "merged_data.drop(['ellipse_id', 'loss_sim', 'loss_real'], axis=1, inplace=True)"
   ]
  },
  {
   "cell_type": "code",
   "execution_count": 12,
   "metadata": {
    "colab": {},
    "colab_type": "code",
    "collapsed": true,
    "id": "CL6rZ69D4mJx"
   },
   "outputs": [],
   "source": [
    "train_data = merged_data[merged_data['_merge'] == 'both'].drop('_merge', axis=1).reset_index(drop=True)\n",
    "test_data = merged_data[merged_data['_merge'] == 'left_only'].drop('_merge', axis=1).dropna(axis=1).reset_index(drop=True)"
   ]
  },
  {
   "cell_type": "code",
   "execution_count": 13,
   "metadata": {
    "colab": {},
    "colab_type": "code",
    "collapsed": false,
    "id": "GZAhmGya4mJ2"
   },
   "outputs": [],
   "source": [
    "sat_ids_train = train_data['sat_id'].astype(int)\n",
    "sat_ids_test = test_data['sat_id'].astype(int)"
   ]
  },
  {
   "cell_type": "code",
   "execution_count": 14,
   "metadata": {
    "colab": {},
    "colab_type": "code",
    "collapsed": true,
    "id": "FXnD6i0Z4mJ_"
   },
   "outputs": [],
   "source": [
    "train_data.drop('sat_id', axis=1, inplace=True)\n",
    "test_data.drop('sat_id', axis=1, inplace=True)"
   ]
  },
  {
   "cell_type": "code",
   "execution_count": 15,
   "metadata": {
    "colab": {},
    "colab_type": "code",
    "collapsed": true,
    "id": "ZooA_W6b4mKF"
   },
   "outputs": [],
   "source": [
    "labels = train_data.loc[:, 'major_real':]\n",
    "train_data = train_data.loc[:, :'phi_sim']"
   ]
  },
  {
   "cell_type": "code",
   "execution_count": 16,
   "metadata": {
    "colab": {},
    "colab_type": "code",
    "collapsed": true,
    "id": "mWinUkpJ4mKQ"
   },
   "outputs": [],
   "source": [
    "cols = ['major', 'minor', 't1', 't2', 't3', 'r1', 'r2', 'r3','phi']"
   ]
  },
  {
   "cell_type": "code",
   "execution_count": 17,
   "metadata": {
    "colab": {},
    "colab_type": "code",
    "collapsed": true,
    "id": "KV0Du7HP4mKa"
   },
   "outputs": [],
   "source": [
    "train_data = pd.DataFrame(train_data.values, columns=cols)\n",
    "test_data = pd.DataFrame(test_data.values, columns=cols)\n",
    "labels = pd.DataFrame(labels.values, columns=cols)"
   ]
  },
  {
   "cell_type": "code",
   "execution_count": 18,
   "metadata": {
    "colab": {
     "base_uri": "https://localhost:8080/",
     "height": 34
    },
    "colab_type": "code",
    "collapsed": false,
    "id": "SSNgt5WW4mKm",
    "outputId": "2fd14a6e-250a-49ee-950c-07734bcb3618"
   },
   "outputs": [
    {
     "data": {
      "text/plain": [
       "((26790, 9), (11839, 9), (26790, 9))"
      ]
     },
     "execution_count": 18,
     "metadata": {},
     "output_type": "execute_result"
    }
   ],
   "source": [
    "train_data.shape, test_data.shape, labels.shape"
   ]
  },
  {
   "cell_type": "markdown",
   "metadata": {
    "colab_type": "text",
    "id": "QljXZlYo4mKr"
   },
   "source": [
    "# Train-CV Split per Satellite"
   ]
  },
  {
   "cell_type": "code",
   "execution_count": 19,
   "metadata": {
    "colab": {},
    "colab_type": "code",
    "collapsed": true,
    "id": "JkwkQAmK4mKt"
   },
   "outputs": [],
   "source": [
    "split_ratio = 0.1"
   ]
  },
  {
   "cell_type": "code",
   "execution_count": 20,
   "metadata": {
    "colab": {},
    "colab_type": "code",
    "collapsed": true,
    "id": "CWNHFora4mKy"
   },
   "outputs": [],
   "source": [
    "train = {}\n",
    "cv = {}\n",
    "labels_train = {}\n",
    "labels_cv = {}"
   ]
  },
  {
   "cell_type": "code",
   "execution_count": 21,
   "metadata": {
    "colab": {},
    "colab_type": "code",
    "collapsed": true,
    "id": "8bGiSWgL4mK7"
   },
   "outputs": [],
   "source": [
    "for sat_id in range(600):\n",
    "    sat_data = train_data[sat_ids_train == sat_id]\n",
    "    sat_labels = labels[sat_ids_train == sat_id]\n",
    "    train_size = int(sat_data.shape[0] * (1 - split_ratio))\n",
    "    train[sat_id] = sat_data.iloc[:train_size, :].reset_index(drop=True)\n",
    "    cv[sat_id] = sat_data.iloc[train_size:, :].reset_index(drop=True)\n",
    "    labels_train[sat_id] = sat_labels.iloc[:train_size, :].reset_index(drop=True)\n",
    "    labels_cv[sat_id] = sat_labels.iloc[train_size:, :].reset_index(drop=True)"
   ]
  },
  {
   "cell_type": "code",
   "execution_count": 22,
   "metadata": {
    "colab": {},
    "colab_type": "code",
    "collapsed": true,
    "id": "Dk2wl3Lw8c_2"
   },
   "outputs": [],
   "source": [
    "def relative_error(sat_id,field):\n",
    "    delta = np.mean(np.abs(labels_train[sat_id][field]))\n",
    "    den = np.mean(np.abs(train[sat_id][field]))\n",
    "    return delta/den"
   ]
  },
  {
   "cell_type": "markdown",
   "metadata": {
    "colab_type": "text",
    "id": "Ufn0_HEP4mLC"
   },
   "source": [
    "# Network Architecture"
   ]
  },
  {
   "cell_type": "code",
   "execution_count": 23,
   "metadata": {
    "colab": {},
    "colab_type": "code",
    "collapsed": true,
    "id": "aWe_zRdz4mLD"
   },
   "outputs": [],
   "source": [
    "class SatNet(nn.Module):\n",
    "    \n",
    "    def __init__(self, input_size, hidden_size):\n",
    "        super(SatNet, self).__init__()\n",
    "        self.fc1 = nn.Linear(input_size, hidden_size)\n",
    "        self.fc2 = nn.Linear(hidden_size, input_size)\n",
    "    \n",
    "    def forward(self, x):\n",
    "        a1 = torch.relu(self.fc1(x))\n",
    "        a2 = self.fc2(a1)\n",
    "        return a2+x"
   ]
  },
  {
   "cell_type": "code",
   "execution_count": 24,
   "metadata": {
    "colab": {},
    "colab_type": "code",
    "collapsed": true,
    "id": "JEW6QuMv4mLL"
   },
   "outputs": [],
   "source": [
    "def train_satnet(sat_data, satnet_params, iterations, lr,l2 = 1e-8):\n",
    "    train, cv, labels_train, labels_cv = [torch.from_numpy(data).float() for data in sat_data]\n",
    "    input_size, hidden_size = satnet_params\n",
    "    model = SatNet(input_size, hidden_size)\n",
    "    optim = torch.optim.Adam(model.parameters(), lr,weight_decay = l2)\n",
    "    \n",
    "    for itr in range(iterations):\n",
    "        optim.zero_grad()\n",
    "        pred = model(train)\n",
    "        pred_cv = model(cv)\n",
    "\n",
    "        axis_pred =  pred[:,:2]\n",
    "        trans_pred = pred[:,2:5]\n",
    "        rot_pred = pred[:,5:8]/(1e-5+torch.sqrt(torch.sum(pred[:,5:8]**2,dim=1,keepdim=True)))\n",
    "        phi_pred = torch.fmod(pred[:,8],2*np.pi)\n",
    "\n",
    "        axis_act =  labels_train[:,:2]\n",
    "        trans_act = labels_train[:,2:5]\n",
    "        rot_act = labels_train[:,5:8]/(1e-5+torch.sqrt(torch.sum(labels_train[:,5:8]**2,dim=1,keepdim=True)))\n",
    "        phi_act = torch.fmod(labels_train[:,8],2*np.pi)\n",
    "\n",
    "        loss = torch.mean((axis_pred-axis_act)**2) + torch.mean((trans_pred-trans_act)**2) + torch.mean((rot_pred-rot_act)**2) + torch.mean((phi_act-phi_pred)**2)\n",
    "        \n",
    "\n",
    "        loss.backward()\n",
    "        optim.step()\n",
    "        if(itr % 1000 == 0):\n",
    "            \n",
    "            axis_pred =  pred_cv[:,:2]\n",
    "            trans_pred = pred_cv[:,2:5]\n",
    "            rot_pred = pred_cv[:,5:8]/(1e-5+torch.sqrt(torch.sum(pred_cv[:,5:8]**2,dim=1,keepdim=True)))\n",
    "            phi_pred = torch.fmod(pred_cv[:,8],2*np.pi)\n",
    "\n",
    "            axis_act =  labels_cv[:,:2]\n",
    "            trans_act = labels_cv[:,2:5]\n",
    "            rot_act = labels_cv[:,5:8]/(1e-5+torch.sqrt(torch.sum(labels_cv[:,5:8]**2,dim=1,keepdim=True)))\n",
    "            phi_act = torch.fmod(labels_cv[:,8],2*np.pi)\n",
    "\n",
    "            axis_loss = torch.mean((axis_pred-axis_act)**2)\n",
    "            trans_loss = torch.mean((trans_pred-trans_act)**2) \n",
    "            rot_loss = torch.mean((rot_pred-rot_act)**2) \n",
    "            phi_loss = torch.mean((phi_act-phi_pred)**2) \n",
    "\n",
    "            cv_loss = axis_loss + trans_loss + rot_loss + phi_loss\n",
    "\n",
    "            print('Iteration: {} | Loss (Train): {} | Loss (CV): {}'.format(itr, loss.item(), cv_loss.item()))\n",
    "            print('CV - axis {} trans {} rot {} phi {}'.format(axis_loss.item(),trans_loss.item(),rot_loss.item(),phi_loss.item()))\n",
    "   \n",
    "    return model"
   ]
  },
  {
   "cell_type": "code",
   "execution_count": 25,
   "metadata": {
    "colab": {},
    "colab_type": "code",
    "collapsed": true,
    "id": "QOSQQ1sN4mLO"
   },
   "outputs": [],
   "source": [
    "input_size = train_data.shape[1]\n",
    "hidden_size = 60\n",
    "iterations = 10000\n",
    "lr = 0.0001\n",
    "satnet_params = [input_size, hidden_size]"
   ]
  },
  {
   "cell_type": "code",
   "execution_count": 26,
   "metadata": {
    "collapsed": true
   },
   "outputs": [],
   "source": [
    "train_satnets = False"
   ]
  },
  {
   "cell_type": "code",
   "execution_count": 27,
   "metadata": {
    "colab": {},
    "colab_type": "code",
    "collapsed": false,
    "id": "l63pVfu27Uxg"
   },
   "outputs": [],
   "source": [
    "if (train_satnets):\n",
    "    models = {}\n",
    "    for sat_id in range(600):\n",
    "        print('\\nSatellite ID:', sat_id,'\\n')\n",
    "        sat_data = [train[sat_id].values, cv[sat_id].values, labels_train[sat_id].values, labels_cv[sat_id].values]\n",
    "        models[sat_id] = train_satnet(sat_data, satnet_params, iterations, lr, l2=1e-5)\n",
    "        pickle_save(models, '../data/satnets.pickle')\n",
    "else:\n",
    "    models = pickle_load('../data/satnets.pickle')"
   ]
  },
  {
   "cell_type": "markdown",
   "metadata": {},
   "source": [
    "# Predictions"
   ]
  },
  {
   "cell_type": "code",
   "execution_count": 73,
   "metadata": {
    "collapsed": false,
    "scrolled": false
   },
   "outputs": [],
   "source": [
    "data_pred = np.array([])\n",
    "data_sim_format = data_sim.drop(['sat_id', 'ellipse_id', 'loss'], axis=1)\n",
    "for sat_id in range(600):\n",
    "    sat_data = torch.from_numpy(data_sim_format[data_sim['sat_id'] == sat_id].values).float()\n",
    "    sat_pred = models[sat_id](sat_data).view(-1).detach().numpy()\n",
    "    data_pred = np.concatenate([data_pred, sat_pred])"
   ]
  },
  {
   "cell_type": "code",
   "execution_count": 74,
   "metadata": {
    "collapsed": false
   },
   "outputs": [],
   "source": [
    "data_pred = data_pred.reshape(-1, data_sim_format.shape[1])"
   ]
  },
  {
   "cell_type": "code",
   "execution_count": 89,
   "metadata": {
    "collapsed": false
   },
   "outputs": [],
   "source": [
    "data_pred = data_sim.loc[:, ['sat_id', 'ellipse_id']].astype(int).join(pd.DataFrame(data_pred, columns=test_data.columns))"
   ]
  },
  {
   "cell_type": "code",
   "execution_count": 97,
   "metadata": {
    "collapsed": false
   },
   "outputs": [],
   "source": [
    "# Axis Angle Format\n",
    "for i in range(1,4):\n",
    "    col = 'r' + str(i)\n",
    "    data_pred[col] = data_pred[col] * data_pred['phi']"
   ]
  },
  {
   "cell_type": "code",
   "execution_count": 98,
   "metadata": {
    "collapsed": true
   },
   "outputs": [],
   "source": [
    "data_pred.drop('phi', axis=1, inplace=True)"
   ]
  },
  {
   "cell_type": "code",
   "execution_count": 100,
   "metadata": {
    "collapsed": false
   },
   "outputs": [],
   "source": [
    "data_pred.to_csv('../data/data_pred.csv', index=False)"
   ]
  }
 ],
 "metadata": {
  "colab": {
   "name": "train.ipynb",
   "provenance": []
  },
  "kernelspec": {
   "display_name": "Python 3",
   "language": "python",
   "name": "python3"
  },
  "language_info": {
   "codemirror_mode": {
    "name": "ipython",
    "version": 3
   },
   "file_extension": ".py",
   "mimetype": "text/x-python",
   "name": "python",
   "nbconvert_exporter": "python",
   "pygments_lexer": "ipython3",
   "version": "3.6.1"
  }
 },
 "nbformat": 4,
 "nbformat_minor": 0
}
