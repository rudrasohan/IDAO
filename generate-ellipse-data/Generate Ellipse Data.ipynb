{
 "cells": [
  {
   "cell_type": "code",
   "execution_count": 1,
   "metadata": {
    "collapsed": true
   },
   "outputs": [],
   "source": [
    "import pandas as pd\n",
    "import numpy as np\n",
    "import matplotlib.pyplot as plt\n",
    "%matplotlib inline"
   ]
  },
  {
   "cell_type": "code",
   "execution_count": 2,
   "metadata": {
    "collapsed": false
   },
   "outputs": [
    {
     "name": "stderr",
     "output_type": "stream",
     "text": [
      "C:\\Users\\Utkarsh Sah\\Anaconda3\\lib\\site-packages\\h5py\\__init__.py:34: FutureWarning: Conversion of the second argument of issubdtype from `float` to `np.floating` is deprecated. In future, it will be treated as `np.float64 == np.dtype(float).type`.\n",
      "  from ._conv import register_converters as _register_converters\n"
     ]
    }
   ],
   "source": [
    "import torch\n",
    "import torch.nn as nn\n",
    "import visdom\n",
    "import h5py"
   ]
  },
  {
   "cell_type": "code",
   "execution_count": 3,
   "metadata": {
    "collapsed": false
   },
   "outputs": [],
   "source": [
    "from sklearn.decomposition import PCA\n",
    "from scipy.spatial.transform import Rotation as R"
   ]
  },
  {
   "cell_type": "code",
   "execution_count": 4,
   "metadata": {
    "collapsed": true
   },
   "outputs": [],
   "source": [
    "from preprocessing_utils import process_sat_data"
   ]
  },
  {
   "cell_type": "code",
   "execution_count": 5,
   "metadata": {
    "collapsed": true
   },
   "outputs": [],
   "source": [
    "data_train = pd.read_csv('../data/train.csv')\n",
    "data_test = pd.read_csv('../data/track1/test.csv')"
   ]
  },
  {
   "cell_type": "code",
   "execution_count": 6,
   "metadata": {
    "collapsed": true
   },
   "outputs": [],
   "source": [
    "train_data = data_train.copy(deep=True)\n",
    "test_data = data_test.copy(deep=True)"
   ]
  },
  {
   "cell_type": "code",
   "execution_count": 7,
   "metadata": {
    "collapsed": true
   },
   "outputs": [],
   "source": [
    "process_sat_data(train_data, test_data, scale=10000)"
   ]
  },
  {
   "cell_type": "markdown",
   "metadata": {},
   "source": [
    "# Arrange Data: 24-Point Ellipse Format"
   ]
  },
  {
   "cell_type": "code",
   "execution_count": 8,
   "metadata": {
    "collapsed": true
   },
   "outputs": [],
   "source": [
    "def get_sat_ellipse_ids(n):\n",
    "    ids = []\n",
    "    incomplete = (n%24)\n",
    "    for i in range(n-incomplete):\n",
    "        ids.append(int(i/24))\n",
    "    prev = ids[-1]\n",
    "    for i in range(incomplete):\n",
    "        ids.append(prev)\n",
    "    return ids"
   ]
  },
  {
   "cell_type": "code",
   "execution_count": 9,
   "metadata": {
    "collapsed": true
   },
   "outputs": [],
   "source": [
    "def generate_ellipse_ids(data):\n",
    "    ids = []\n",
    "    counts = np.unique(data['sat_id'], return_counts=True)[1]\n",
    "    for count in counts:\n",
    "        sat_ellipse_ids = get_sat_ellipse_ids(count)\n",
    "        ids += sat_ellipse_ids\n",
    "    return ids"
   ]
  },
  {
   "cell_type": "code",
   "execution_count": 10,
   "metadata": {
    "collapsed": true
   },
   "outputs": [],
   "source": [
    "def arrange_data(train_data, test_data):\n",
    "    cols_sim = ['x_sim', 'y_sim', 'z_sim', 'Vx_sim', 'Vy_sim', 'Vz_sim', 'sat_id', 'id']\n",
    "    cols_real = ['x', 'y', 'z', 'Vx', 'Vy', 'Vz', 'sat_id']\n",
    "    data_sim = train_data.loc[:, cols_sim].append(test_data.loc[:, cols_sim])\n",
    "    data_sim = data_sim.sort_values('id').drop('id', axis=1)\n",
    "    data_real = train_data.loc[:, cols_real]\n",
    "    data_sim['ellipse_id'] = generate_ellipse_ids(data_sim)\n",
    "    data_real['ellipse_id'] = generate_ellipse_ids(data_real)\n",
    "    return [data_sim, data_real]"
   ]
  },
  {
   "cell_type": "code",
   "execution_count": 11,
   "metadata": {
    "collapsed": false
   },
   "outputs": [],
   "source": [
    "data_sim, data_real = arrange_data(train_data, test_data)"
   ]
  },
  {
   "cell_type": "code",
   "execution_count": 12,
   "metadata": {
    "collapsed": true
   },
   "outputs": [],
   "source": [
    "def format_data(pos, vel):\n",
    "    last_index = int(len(pos)/24) * 24\n",
    "    pos = pos[:last_index, :].reshape(-1,24,3)\n",
    "    vel = vel[:last_index, :].reshape(-1,24,3)\n",
    "    return [pos, vel]"
   ]
  },
  {
   "cell_type": "code",
   "execution_count": 13,
   "metadata": {
    "collapsed": true
   },
   "outputs": [],
   "source": [
    "pos_sim = {}\n",
    "vel_sim = {}\n",
    "pos_real = {}\n",
    "vel_real = {}"
   ]
  },
  {
   "cell_type": "code",
   "execution_count": 14,
   "metadata": {
    "collapsed": false
   },
   "outputs": [],
   "source": [
    "for sat_id in range(2):\n",
    "    sat_sim = data_sim[data_sim['sat_id'] == sat_id].loc[:, ['x_sim', 'y_sim', 'z_sim', 'Vx_sim', 'Vy_sim', 'Vz_sim']].values\n",
    "    sat_real = data_real[data_real['sat_id'] == sat_id].loc[:, ['x', 'y', 'z', 'Vx', 'Vy', 'Vz']].values\n",
    "    pos_sim[sat_id], vel_sim[sat_id] = format_data(sat_sim[:, [0,1,2]], sat_sim[:, [3,4,5]])\n",
    "    pos_real[sat_id], vel_real[sat_id] = format_data(sat_real[:, [0,1,2]], sat_real[:, [3,4,5]])"
   ]
  },
  {
   "cell_type": "markdown",
   "metadata": {},
   "source": [
    "# Compute Transformation"
   ]
  },
  {
   "cell_type": "markdown",
   "metadata": {},
   "source": [
    "3D_Point . Inv(M) = 2D_Point <br>\n",
    "2D_Point . M = 3D_Point"
   ]
  },
  {
   "cell_type": "code",
   "execution_count": 34,
   "metadata": {
    "collapsed": true
   },
   "outputs": [],
   "source": [
    "class Ellipse(nn.Module):\n",
    "    \n",
    "    def __init__(self, name, a, b, cx, cy):\n",
    "        super(Ellipse, self).__init__()\n",
    "        self.name = name\n",
    "        self.alpha = nn.Parameter(1/(a**2))\n",
    "        self.beta = nn.Parameter(1/(b**2))\n",
    "        self.cx = nn.Parameter(cx)\n",
    "        self.cy = nn.Parameter(cy)\n",
    "        self.loss = -1\n",
    "    \n",
    "    def forward(self, data):\n",
    "        x = data[:, 0] - self.cx\n",
    "        y = data[:, 1] - self.cy\n",
    "        res = (self.alpha * x**2 + self.beta * y**2 - 1) ** 2\n",
    "        return res\n",
    "    \n",
    "    def get_parameters(self):\n",
    "        a = np.sqrt(1/self.alpha.item())\n",
    "        b = np.sqrt(1/self.beta.item())\n",
    "        cx = self.cx.item()\n",
    "        cy = self.cy.item()\n",
    "        loss = self.loss\n",
    "        return [a, b, loss]"
   ]
  },
  {
   "cell_type": "code",
   "execution_count": 35,
   "metadata": {
    "collapsed": true
   },
   "outputs": [],
   "source": [
    "def fit_ellipse(transformed, iterations=2500, learning_rate=0.001):\n",
    "    transformed = torch.from_numpy(transformed).float()\n",
    "    a = 0.5 * (transformed[:, 0].max() - transformed[:, 0].min())\n",
    "    b = 0.5 * (transformed[:, 1].max() - transformed[:, 1].min())\n",
    "    cx = torch.mean(transformed[:, 0])\n",
    "    cy = torch.mean(transformed[:, 1])\n",
    "    name = 's' + str(sat_id) + 'e' + str(ellipse_id)\n",
    "    ellipse = Ellipse(name, a, b, cx, cy)\n",
    "    optim = torch.optim.Adam(ellipse.parameters(), learning_rate)\n",
    "    for itr in range(iterations):\n",
    "        optim.zero_grad()\n",
    "        pred = ellipse(transformed)\n",
    "        loss = torch.sum(pred)\n",
    "        loss.backward()\n",
    "        optim.step()\n",
    "    ellipse.loss = loss.item()\n",
    "    return ellipse"
   ]
  },
  {
   "cell_type": "code",
   "execution_count": 36,
   "metadata": {
    "collapsed": true
   },
   "outputs": [],
   "source": [
    "def get_pca_estimates(ellipse_data):\n",
    "    pca = PCA(3)\n",
    "    pca.fit(ellipse_data)\n",
    "    transformation = np.append(pca.components_, [ellipse_data.mean(axis=0)], axis=0)\n",
    "    transformation = np.concatenate([transformation, [[0],[0],[0],[1]]], axis=1)\n",
    "    return transformation"
   ]
  },
  {
   "cell_type": "code",
   "execution_count": 39,
   "metadata": {
    "collapsed": true
   },
   "outputs": [],
   "source": [
    "def compute_transformation(sat_id, ellipse_id, ellipse_data):\n",
    "    transformation = get_pca_estimates(ellipse_data)\n",
    "    ellipse_data = np.concatenate([ellipse_data, np.ones((24,1))], axis=1)\n",
    "    transformed_data = ellipse_data.dot(np.linalg.inv(transformation))\n",
    "    ellipse = fit_ellipse(transformed_data, 2500, 0.001)\n",
    "    center_2d = np.array([ellipse.cx, ellipse.cy, 0, 1])\n",
    "    center_3d = center_2d.dot(transformation)\n",
    "    transformation[-1] = center_3d\n",
    "    return [transformation, ellipse]"
   ]
  },
  {
   "cell_type": "markdown",
   "metadata": {},
   "source": [
    "# Data Generation"
   ]
  },
  {
   "cell_type": "markdown",
   "metadata": {},
   "source": [
    "Format: <br>\n",
    "sat_id, ellipse_id, major, minor, loss, rotation (3x3), translation (1x3)"
   ]
  },
  {
   "cell_type": "code",
   "execution_count": 58,
   "metadata": {
    "collapsed": true
   },
   "outputs": [],
   "source": [
    "trans_sim = np.array([])\n",
    "trans_real = np.array([])"
   ]
  },
  {
   "cell_type": "code",
   "execution_count": 60,
   "metadata": {
    "collapsed": false
   },
   "outputs": [],
   "source": [
    "for sat_id, sat_data in pos_sim.items():\n",
    "    for ellipse_id, ellipse_data in enumerate(sat_data):\n",
    "        transformation, ellipse = compute_transformation(sat_id, ellipse_id, ellipse_data)\n",
    "        R = transformation[:3, :3].ravel()\n",
    "        T = transformation[3, :3]\n",
    "        ids = [sat_id, ellipse_id]\n",
    "        ellipse_parameters = ellipse.get_parameters()\n",
    "        row = np.concatenate([ids, ellipse_parameters, R, T], axis=0)\n",
    "        break\n",
    "    break"
   ]
  },
  {
   "cell_type": "code",
   "execution_count": 63,
   "metadata": {
    "collapsed": false
   },
   "outputs": [
    {
     "data": {
      "text/plain": [
       "array([ 0.00000000e+00,  0.00000000e+00,  3.57505567e+00,  3.44214199e+00,\n",
       "        1.27772850e-08, -3.38716892e-01,  5.03950418e-01, -7.94546942e-01,\n",
       "        2.06261768e-01,  8.63694451e-01,  4.59878222e-01, -9.18001607e-01,\n",
       "        8.11613448e-03,  3.96493604e-01,  3.27021718e-01, -4.86909628e-01,\n",
       "        7.66896605e-01])"
      ]
     },
     "execution_count": 63,
     "metadata": {},
     "output_type": "execute_result"
    }
   ],
   "source": [
    "row #Successive Rows will be stacked into a csv"
   ]
  },
  {
   "cell_type": "code",
   "execution_count": null,
   "metadata": {
    "collapsed": true
   },
   "outputs": [],
   "source": []
  }
 ],
 "metadata": {
  "kernelspec": {
   "display_name": "Python 3",
   "language": "python",
   "name": "python3"
  },
  "language_info": {
   "codemirror_mode": {
    "name": "ipython",
    "version": 3
   },
   "file_extension": ".py",
   "mimetype": "text/x-python",
   "name": "python",
   "nbconvert_exporter": "python",
   "pygments_lexer": "ipython3",
   "version": "3.6.1"
  }
 },
 "nbformat": 4,
 "nbformat_minor": 2
}
