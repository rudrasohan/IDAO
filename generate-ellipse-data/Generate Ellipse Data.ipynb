{
 "cells": [
  {
   "cell_type": "code",
   "execution_count": 1,
   "metadata": {
    "collapsed": true
   },
   "outputs": [],
   "source": [
    "import pandas as pd\n",
    "import numpy as np\n",
    "import matplotlib.pyplot as plt\n",
    "%matplotlib inline"
   ]
  },
  {
   "cell_type": "code",
   "execution_count": 2,
   "metadata": {
    "collapsed": false
   },
   "outputs": [
    {
     "name": "stderr",
     "output_type": "stream",
     "text": [
      "C:\\Users\\Utkarsh Sah\\Anaconda3\\lib\\site-packages\\h5py\\__init__.py:34: FutureWarning: Conversion of the second argument of issubdtype from `float` to `np.floating` is deprecated. In future, it will be treated as `np.float64 == np.dtype(float).type`.\n",
      "  from ._conv import register_converters as _register_converters\n"
     ]
    }
   ],
   "source": [
    "import torch\n",
    "import torch.nn as nn\n",
    "import visdom\n",
    "import h5py"
   ]
  },
  {
   "cell_type": "code",
   "execution_count": 3,
   "metadata": {
    "collapsed": false
   },
   "outputs": [],
   "source": [
    "from sklearn.decomposition import PCA\n",
    "from scipy.spatial.transform import Rotation as R"
   ]
  },
  {
   "cell_type": "code",
   "execution_count": 4,
   "metadata": {
    "collapsed": true
   },
   "outputs": [],
   "source": [
    "from preprocessing_utils import process_sat_data"
   ]
  },
  {
   "cell_type": "code",
   "execution_count": 5,
   "metadata": {
    "collapsed": true
   },
   "outputs": [],
   "source": [
    "data_train = pd.read_csv('../data/train.csv')\n",
    "data_test = pd.read_csv('../data/track1/test.csv')"
   ]
  },
  {
   "cell_type": "code",
   "execution_count": 6,
   "metadata": {
    "collapsed": true
   },
   "outputs": [],
   "source": [
    "train_data = data_train.copy(deep=True)\n",
    "test_data = data_test.copy(deep=True)"
   ]
  },
  {
   "cell_type": "code",
   "execution_count": 7,
   "metadata": {
    "collapsed": true
   },
   "outputs": [],
   "source": [
    "process_sat_data(train_data, test_data, scale=10000)"
   ]
  },
  {
   "cell_type": "markdown",
   "metadata": {},
   "source": [
    "# Arrange Data: 24-Point Ellipse Format"
   ]
  },
  {
   "cell_type": "code",
   "execution_count": 80,
   "metadata": {
    "collapsed": true
   },
   "outputs": [],
   "source": [
    "def get_sat_ellipse_ids(n):\n",
    "    ids = []\n",
    "    incomplete = (n%24)\n",
    "    for i in range(n-incomplete):\n",
    "        ids.append(int(i/24))\n",
    "    prev = ids[-1]\n",
    "    for i in range(incomplete):\n",
    "        ids.append(prev)\n",
    "    return ids"
   ]
  },
  {
   "cell_type": "code",
   "execution_count": 81,
   "metadata": {
    "collapsed": true
   },
   "outputs": [],
   "source": [
    "def generate_ellipse_ids(data):\n",
    "    ids = []\n",
    "    counts = np.unique(data['sat_id'], return_counts=True)[1]\n",
    "    for count in counts:\n",
    "        sat_ellipse_ids = get_sat_ellipse_ids(count)\n",
    "        ids += sat_ellipse_ids\n",
    "    return ids"
   ]
  },
  {
   "cell_type": "code",
   "execution_count": 82,
   "metadata": {
    "collapsed": true
   },
   "outputs": [],
   "source": [
    "def arrange_data(train_data, test_data):\n",
    "    cols_sim = ['x_sim', 'y_sim', 'z_sim', 'Vx_sim', 'Vy_sim', 'Vz_sim', 'sat_id', 'id']\n",
    "    cols_real = ['x', 'y', 'z', 'Vx', 'Vy', 'Vz', 'sat_id']\n",
    "    data_sim = train_data.loc[:, cols_sim].append(test_data.loc[:, cols_sim])\n",
    "    data_sim = data_sim.sort_values('id').drop('id', axis=1)\n",
    "    data_real = train_data.loc[:, cols_real]\n",
    "    data_sim['ellipse_id'] = generate_ellipse_ids(data_sim)\n",
    "    data_real['ellipse_id'] = generate_ellipse_ids(data_real)\n",
    "    return [data_sim, data_real]"
   ]
  },
  {
   "cell_type": "code",
   "execution_count": 83,
   "metadata": {
    "collapsed": false
   },
   "outputs": [],
   "source": [
    "data_sim, data_real = arrange_data(train_data, test_data)"
   ]
  },
  {
   "cell_type": "code",
   "execution_count": 84,
   "metadata": {
    "collapsed": true
   },
   "outputs": [],
   "source": [
    "def format_data(pos, vel):\n",
    "    last_index = int(len(pos)/24) * 24\n",
    "    pos = pos[:last_index, :].reshape(-1,24,3)\n",
    "    vel = vel[:last_index, :].reshape(-1,24,3)\n",
    "    return [pos, vel]"
   ]
  },
  {
   "cell_type": "code",
   "execution_count": 85,
   "metadata": {
    "collapsed": true
   },
   "outputs": [],
   "source": [
    "pos_sim = {}\n",
    "vel_sim = {}\n",
    "pos_real = {}\n",
    "vel_real = {}"
   ]
  },
  {
   "cell_type": "code",
   "execution_count": 86,
   "metadata": {
    "collapsed": false
   },
   "outputs": [],
   "source": [
    "for sat_id in range(600):\n",
    "    sat_sim = data_sim[data_sim['sat_id'] == sat_id].loc[:, ['x_sim', 'y_sim', 'z_sim', 'Vx_sim', 'Vy_sim', 'Vz_sim']].values\n",
    "    sat_real = data_real[data_real['sat_id'] == sat_id].loc[:, ['x', 'y', 'z', 'Vx', 'Vy', 'Vz']].values\n",
    "    pos_sim[sat_id], vel_sim[sat_id] = format_data(sat_sim[:, [0,1,2]], sat_sim[:, [3,4,5]])\n",
    "    pos_real[sat_id], vel_real[sat_id] = format_data(sat_real[:, [0,1,2]], sat_real[:, [3,4,5]])"
   ]
  },
  {
   "cell_type": "markdown",
   "metadata": {},
   "source": [
    "# Compute Transformation"
   ]
  },
  {
   "cell_type": "markdown",
   "metadata": {},
   "source": [
    "3D_Point . Inv(M) = 2D_Point <br>\n",
    "2D_Point . M = 3D_Point"
   ]
  },
  {
   "cell_type": "code",
   "execution_count": 87,
   "metadata": {
    "collapsed": true
   },
   "outputs": [],
   "source": [
    "class Ellipse(nn.Module):\n",
    "    \n",
    "    def __init__(self, name, a, b, cx, cy):\n",
    "        super(Ellipse, self).__init__()\n",
    "        self.name = name\n",
    "        self.alpha = nn.Parameter(1/(a**2))\n",
    "        self.beta = nn.Parameter(1/(b**2))\n",
    "        self.cx = nn.Parameter(cx)\n",
    "        self.cy = nn.Parameter(cy)\n",
    "        self.loss = -1\n",
    "    \n",
    "    def forward(self, data):\n",
    "        x = data[:, 0] - self.cx\n",
    "        y = data[:, 1] - self.cy\n",
    "        res = (self.alpha * x**2 + self.beta * y**2 - 1) ** 2\n",
    "        return res\n",
    "    \n",
    "    def get_parameters(self):\n",
    "        a = np.sqrt(1/self.alpha.item())\n",
    "        b = np.sqrt(1/self.beta.item())\n",
    "        cx = self.cx.item()\n",
    "        cy = self.cy.item()\n",
    "        loss = self.loss\n",
    "        return [a, b, loss]"
   ]
  },
  {
   "cell_type": "code",
   "execution_count": 88,
   "metadata": {
    "collapsed": true
   },
   "outputs": [],
   "source": [
    "def fit_ellipse(transformed, iterations=2500, learning_rate=0.001):\n",
    "    transformed = torch.from_numpy(transformed).float()\n",
    "    a = 0.5 * (transformed[:, 0].max() - transformed[:, 0].min())\n",
    "    b = 0.5 * (transformed[:, 1].max() - transformed[:, 1].min())\n",
    "    cx = torch.mean(transformed[:, 0])\n",
    "    cy = torch.mean(transformed[:, 1])\n",
    "    name = 's' + str(sat_id) + 'e' + str(ellipse_id)\n",
    "    ellipse = Ellipse(name, a, b, cx, cy)\n",
    "    optim = torch.optim.Adam(ellipse.parameters(), learning_rate)\n",
    "    for itr in range(iterations):\n",
    "        optim.zero_grad()\n",
    "        pred = ellipse(transformed)\n",
    "        loss = torch.sum(pred)\n",
    "        loss.backward()\n",
    "        optim.step()\n",
    "    ellipse.loss = loss.item()\n",
    "    return ellipse"
   ]
  },
  {
   "cell_type": "code",
   "execution_count": 89,
   "metadata": {
    "collapsed": true
   },
   "outputs": [],
   "source": [
    "def get_pca_estimates(ellipse_data):\n",
    "    pca = PCA(3)\n",
    "    pca.fit(ellipse_data)\n",
    "    transformation = np.append(pca.components_, [ellipse_data.mean(axis=0)], axis=0)\n",
    "    transformation = np.concatenate([transformation, [[0],[0],[0],[1]]], axis=1)\n",
    "    return transformation"
   ]
  },
  {
   "cell_type": "code",
   "execution_count": 90,
   "metadata": {
    "collapsed": true
   },
   "outputs": [],
   "source": [
    "def compute_transformation(sat_id, ellipse_id, ellipse_data):\n",
    "    transformation = get_pca_estimates(ellipse_data)\n",
    "    ellipse_data = np.concatenate([ellipse_data, np.ones((24,1))], axis=1)\n",
    "    transformed_data = ellipse_data.dot(np.linalg.inv(transformation))\n",
    "    ellipse = fit_ellipse(transformed_data, 2500, 0.001)\n",
    "    center_2d = np.array([ellipse.cx, ellipse.cy, 0, 1])\n",
    "    center_3d = center_2d.dot(transformation)\n",
    "    transformation[-1] = center_3d\n",
    "    return [transformation, ellipse]"
   ]
  },
  {
   "cell_type": "markdown",
   "metadata": {},
   "source": [
    "# Data Generation"
   ]
  },
  {
   "cell_type": "markdown",
   "metadata": {},
   "source": [
    "Format: <br>\n",
    "sat_id, ellipse_id, major, minor, loss, rotation (3x3), translation (1x3)"
   ]
  },
  {
   "cell_type": "code",
   "execution_count": 94,
   "metadata": {
    "collapsed": true
   },
   "outputs": [],
   "source": [
    "trans_sim = []\n",
    "trans_real = []"
   ]
  },
  {
   "cell_type": "code",
   "execution_count": 95,
   "metadata": {
    "collapsed": false
   },
   "outputs": [
    {
     "name": "stdout",
     "output_type": "stream",
     "text": [
      "Satellite ID: 0, Ellipse Id: 0 | Loss: 1.2777285007814498e-08\n",
      "Satellite ID 0 Saved\n",
      "Satellite ID: 1, Ellipse Id: 0 | Loss: 5.7523866558994996e-08\n",
      "Satellite ID 1 Saved\n",
      "Satellite ID: 2, Ellipse Id: 0 | Loss: 0.0006194846937432885\n",
      "Satellite ID 2 Saved\n",
      "Satellite ID: 3, Ellipse Id: 0 | Loss: 0.06424389034509659\n",
      "Satellite ID 3 Saved\n"
     ]
    },
    {
     "ename": "KeyboardInterrupt",
     "evalue": "",
     "output_type": "error",
     "traceback": [
      "\u001b[0;31m---------------------------------------------------------------------------\u001b[0m",
      "\u001b[0;31mKeyboardInterrupt\u001b[0m                         Traceback (most recent call last)",
      "\u001b[0;32m<ipython-input-95-50af95608ab2>\u001b[0m in \u001b[0;36m<module>\u001b[0;34m()\u001b[0m\n\u001b[1;32m      1\u001b[0m \u001b[1;32mfor\u001b[0m \u001b[0msat_id\u001b[0m\u001b[1;33m,\u001b[0m \u001b[0msat_data\u001b[0m \u001b[1;32min\u001b[0m \u001b[0mpos_sim\u001b[0m\u001b[1;33m.\u001b[0m\u001b[0mitems\u001b[0m\u001b[1;33m(\u001b[0m\u001b[1;33m)\u001b[0m\u001b[1;33m:\u001b[0m\u001b[1;33m\u001b[0m\u001b[0m\n\u001b[1;32m      2\u001b[0m     \u001b[1;32mfor\u001b[0m \u001b[0mellipse_id\u001b[0m\u001b[1;33m,\u001b[0m \u001b[0mellipse_data\u001b[0m \u001b[1;32min\u001b[0m \u001b[0menumerate\u001b[0m\u001b[1;33m(\u001b[0m\u001b[0msat_data\u001b[0m\u001b[1;33m)\u001b[0m\u001b[1;33m:\u001b[0m\u001b[1;33m\u001b[0m\u001b[0m\n\u001b[0;32m----> 3\u001b[0;31m         \u001b[0mtransformation\u001b[0m\u001b[1;33m,\u001b[0m \u001b[0mellipse\u001b[0m \u001b[1;33m=\u001b[0m \u001b[0mcompute_transformation\u001b[0m\u001b[1;33m(\u001b[0m\u001b[0msat_id\u001b[0m\u001b[1;33m,\u001b[0m \u001b[0mellipse_id\u001b[0m\u001b[1;33m,\u001b[0m \u001b[0mellipse_data\u001b[0m\u001b[1;33m)\u001b[0m\u001b[1;33m\u001b[0m\u001b[0m\n\u001b[0m\u001b[1;32m      4\u001b[0m         \u001b[0mR\u001b[0m \u001b[1;33m=\u001b[0m \u001b[0mtransformation\u001b[0m\u001b[1;33m[\u001b[0m\u001b[1;33m:\u001b[0m\u001b[1;36m3\u001b[0m\u001b[1;33m,\u001b[0m \u001b[1;33m:\u001b[0m\u001b[1;36m3\u001b[0m\u001b[1;33m]\u001b[0m\u001b[1;33m.\u001b[0m\u001b[0mravel\u001b[0m\u001b[1;33m(\u001b[0m\u001b[1;33m)\u001b[0m\u001b[1;33m\u001b[0m\u001b[0m\n\u001b[1;32m      5\u001b[0m         \u001b[0mT\u001b[0m \u001b[1;33m=\u001b[0m \u001b[0mtransformation\u001b[0m\u001b[1;33m[\u001b[0m\u001b[1;36m3\u001b[0m\u001b[1;33m,\u001b[0m \u001b[1;33m:\u001b[0m\u001b[1;36m3\u001b[0m\u001b[1;33m]\u001b[0m\u001b[1;33m\u001b[0m\u001b[0m\n",
      "\u001b[0;32m<ipython-input-90-3bd4f074c064>\u001b[0m in \u001b[0;36mcompute_transformation\u001b[0;34m(sat_id, ellipse_id, ellipse_data)\u001b[0m\n\u001b[1;32m      3\u001b[0m     \u001b[0mellipse_data\u001b[0m \u001b[1;33m=\u001b[0m \u001b[0mnp\u001b[0m\u001b[1;33m.\u001b[0m\u001b[0mconcatenate\u001b[0m\u001b[1;33m(\u001b[0m\u001b[1;33m[\u001b[0m\u001b[0mellipse_data\u001b[0m\u001b[1;33m,\u001b[0m \u001b[0mnp\u001b[0m\u001b[1;33m.\u001b[0m\u001b[0mones\u001b[0m\u001b[1;33m(\u001b[0m\u001b[1;33m(\u001b[0m\u001b[1;36m24\u001b[0m\u001b[1;33m,\u001b[0m\u001b[1;36m1\u001b[0m\u001b[1;33m)\u001b[0m\u001b[1;33m)\u001b[0m\u001b[1;33m]\u001b[0m\u001b[1;33m,\u001b[0m \u001b[0maxis\u001b[0m\u001b[1;33m=\u001b[0m\u001b[1;36m1\u001b[0m\u001b[1;33m)\u001b[0m\u001b[1;33m\u001b[0m\u001b[0m\n\u001b[1;32m      4\u001b[0m     \u001b[0mtransformed_data\u001b[0m \u001b[1;33m=\u001b[0m \u001b[0mellipse_data\u001b[0m\u001b[1;33m.\u001b[0m\u001b[0mdot\u001b[0m\u001b[1;33m(\u001b[0m\u001b[0mnp\u001b[0m\u001b[1;33m.\u001b[0m\u001b[0mlinalg\u001b[0m\u001b[1;33m.\u001b[0m\u001b[0minv\u001b[0m\u001b[1;33m(\u001b[0m\u001b[0mtransformation\u001b[0m\u001b[1;33m)\u001b[0m\u001b[1;33m)\u001b[0m\u001b[1;33m\u001b[0m\u001b[0m\n\u001b[0;32m----> 5\u001b[0;31m     \u001b[0mellipse\u001b[0m \u001b[1;33m=\u001b[0m \u001b[0mfit_ellipse\u001b[0m\u001b[1;33m(\u001b[0m\u001b[0mtransformed_data\u001b[0m\u001b[1;33m,\u001b[0m \u001b[1;36m2500\u001b[0m\u001b[1;33m,\u001b[0m \u001b[1;36m0.001\u001b[0m\u001b[1;33m)\u001b[0m\u001b[1;33m\u001b[0m\u001b[0m\n\u001b[0m\u001b[1;32m      6\u001b[0m     \u001b[0mcenter_2d\u001b[0m \u001b[1;33m=\u001b[0m \u001b[0mnp\u001b[0m\u001b[1;33m.\u001b[0m\u001b[0marray\u001b[0m\u001b[1;33m(\u001b[0m\u001b[1;33m[\u001b[0m\u001b[0mellipse\u001b[0m\u001b[1;33m.\u001b[0m\u001b[0mcx\u001b[0m\u001b[1;33m,\u001b[0m \u001b[0mellipse\u001b[0m\u001b[1;33m.\u001b[0m\u001b[0mcy\u001b[0m\u001b[1;33m,\u001b[0m \u001b[1;36m0\u001b[0m\u001b[1;33m,\u001b[0m \u001b[1;36m1\u001b[0m\u001b[1;33m]\u001b[0m\u001b[1;33m)\u001b[0m\u001b[1;33m\u001b[0m\u001b[0m\n\u001b[1;32m      7\u001b[0m     \u001b[0mcenter_3d\u001b[0m \u001b[1;33m=\u001b[0m \u001b[0mcenter_2d\u001b[0m\u001b[1;33m.\u001b[0m\u001b[0mdot\u001b[0m\u001b[1;33m(\u001b[0m\u001b[0mtransformation\u001b[0m\u001b[1;33m)\u001b[0m\u001b[1;33m\u001b[0m\u001b[0m\n",
      "\u001b[0;32m<ipython-input-88-c69527182982>\u001b[0m in \u001b[0;36mfit_ellipse\u001b[0;34m(transformed, iterations, learning_rate)\u001b[0m\n\u001b[1;32m     13\u001b[0m         \u001b[0mloss\u001b[0m \u001b[1;33m=\u001b[0m \u001b[0mtorch\u001b[0m\u001b[1;33m.\u001b[0m\u001b[0msum\u001b[0m\u001b[1;33m(\u001b[0m\u001b[0mpred\u001b[0m\u001b[1;33m)\u001b[0m\u001b[1;33m\u001b[0m\u001b[0m\n\u001b[1;32m     14\u001b[0m         \u001b[0mloss\u001b[0m\u001b[1;33m.\u001b[0m\u001b[0mbackward\u001b[0m\u001b[1;33m(\u001b[0m\u001b[1;33m)\u001b[0m\u001b[1;33m\u001b[0m\u001b[0m\n\u001b[0;32m---> 15\u001b[0;31m         \u001b[0moptim\u001b[0m\u001b[1;33m.\u001b[0m\u001b[0mstep\u001b[0m\u001b[1;33m(\u001b[0m\u001b[1;33m)\u001b[0m\u001b[1;33m\u001b[0m\u001b[0m\n\u001b[0m\u001b[1;32m     16\u001b[0m     \u001b[0mellipse\u001b[0m\u001b[1;33m.\u001b[0m\u001b[0mloss\u001b[0m \u001b[1;33m=\u001b[0m \u001b[0mloss\u001b[0m\u001b[1;33m.\u001b[0m\u001b[0mitem\u001b[0m\u001b[1;33m(\u001b[0m\u001b[1;33m)\u001b[0m\u001b[1;33m\u001b[0m\u001b[0m\n\u001b[1;32m     17\u001b[0m     \u001b[1;32mreturn\u001b[0m \u001b[0mellipse\u001b[0m\u001b[1;33m\u001b[0m\u001b[0m\n",
      "\u001b[0;32mC:\\Users\\Utkarsh Sah\\Anaconda3\\lib\\site-packages\\torch\\optim\\adam.py\u001b[0m in \u001b[0;36mstep\u001b[0;34m(self, closure)\u001b[0m\n\u001b[1;32m     99\u001b[0m                     \u001b[0mdenom\u001b[0m \u001b[1;33m=\u001b[0m \u001b[0mmax_exp_avg_sq\u001b[0m\u001b[1;33m.\u001b[0m\u001b[0msqrt\u001b[0m\u001b[1;33m(\u001b[0m\u001b[1;33m)\u001b[0m\u001b[1;33m.\u001b[0m\u001b[0madd_\u001b[0m\u001b[1;33m(\u001b[0m\u001b[0mgroup\u001b[0m\u001b[1;33m[\u001b[0m\u001b[1;34m'eps'\u001b[0m\u001b[1;33m]\u001b[0m\u001b[1;33m)\u001b[0m\u001b[1;33m\u001b[0m\u001b[0m\n\u001b[1;32m    100\u001b[0m                 \u001b[1;32melse\u001b[0m\u001b[1;33m:\u001b[0m\u001b[1;33m\u001b[0m\u001b[0m\n\u001b[0;32m--> 101\u001b[0;31m                     \u001b[0mdenom\u001b[0m \u001b[1;33m=\u001b[0m \u001b[0mexp_avg_sq\u001b[0m\u001b[1;33m.\u001b[0m\u001b[0msqrt\u001b[0m\u001b[1;33m(\u001b[0m\u001b[1;33m)\u001b[0m\u001b[1;33m.\u001b[0m\u001b[0madd_\u001b[0m\u001b[1;33m(\u001b[0m\u001b[0mgroup\u001b[0m\u001b[1;33m[\u001b[0m\u001b[1;34m'eps'\u001b[0m\u001b[1;33m]\u001b[0m\u001b[1;33m)\u001b[0m\u001b[1;33m\u001b[0m\u001b[0m\n\u001b[0m\u001b[1;32m    102\u001b[0m \u001b[1;33m\u001b[0m\u001b[0m\n\u001b[1;32m    103\u001b[0m                 \u001b[0mbias_correction1\u001b[0m \u001b[1;33m=\u001b[0m \u001b[1;36m1\u001b[0m \u001b[1;33m-\u001b[0m \u001b[0mbeta1\u001b[0m \u001b[1;33m**\u001b[0m \u001b[0mstate\u001b[0m\u001b[1;33m[\u001b[0m\u001b[1;34m'step'\u001b[0m\u001b[1;33m]\u001b[0m\u001b[1;33m\u001b[0m\u001b[0m\n",
      "\u001b[0;31mKeyboardInterrupt\u001b[0m: "
     ]
    }
   ],
   "source": [
    "for sat_id, sat_data in pos_sim.items():\n",
    "    for ellipse_id, ellipse_data in enumerate(sat_data):\n",
    "        transformation, ellipse = compute_transformation(sat_id, ellipse_id, ellipse_data)\n",
    "        R = transformation[:3, :3].ravel()\n",
    "        T = transformation[3, :3]\n",
    "        ids = [sat_id, ellipse_id]\n",
    "        ellipse_parameters = ellipse.get_parameters()\n",
    "        row = np.concatenate([ids, ellipse_parameters, R, T], axis=0)\n",
    "        trans_sim.append(row)\n",
    "        print('Satellite ID: {}, Ellipse Id: {} | Loss: {} [Sim]'.format(sat_id, ellipse_id, ellipse_parameters[-1]))\n",
    "        break\n",
    "    df_sim = pd.DataFrame(trans_sim)\n",
    "    df_sim.to_csv('../data/data_sim.csv', index=False)\n",
    "    print ('Satellite ID', sat_id, 'Saved')"
   ]
  },
  {
   "cell_type": "code",
   "execution_count": 96,
   "metadata": {
    "collapsed": false
   },
   "outputs": [
    {
     "name": "stdout",
     "output_type": "stream",
     "text": [
      "Satellite ID: 0, Ellipse Id: 0 | Loss: 3.128792513962253e-07 [Real]\n",
      "Satellite ID 0 Saved\n",
      "Satellite ID: 1, Ellipse Id: 0 | Loss: 7.44943235986284e-06 [Real]\n",
      "Satellite ID 1 Saved\n",
      "Satellite ID: 2, Ellipse Id: 0 | Loss: 0.000582799082621932 [Real]\n",
      "Satellite ID 2 Saved\n",
      "Satellite ID: 3, Ellipse Id: 0 | Loss: 0.06324034929275513 [Real]\n",
      "Satellite ID 3 Saved\n",
      "Satellite ID: 4, Ellipse Id: 0 | Loss: 3.391565428501053e-07 [Real]\n",
      "Satellite ID 4 Saved\n",
      "Satellite ID: 5, Ellipse Id: 0 | Loss: 5.061700676378678e-07 [Real]\n",
      "Satellite ID 5 Saved\n",
      "Satellite ID: 6, Ellipse Id: 0 | Loss: 0.0014275091234594584 [Real]\n",
      "Satellite ID 6 Saved\n",
      "Satellite ID: 7, Ellipse Id: 0 | Loss: 0.3032127320766449 [Real]\n",
      "Satellite ID 7 Saved\n",
      "Satellite ID: 8, Ellipse Id: 0 | Loss: 1.2872040144884522e-07 [Real]\n",
      "Satellite ID 8 Saved\n",
      "Satellite ID: 9, Ellipse Id: 0 | Loss: 0.007866712287068367 [Real]\n",
      "Satellite ID 9 Saved\n",
      "Satellite ID: 10, Ellipse Id: 0 | Loss: 6.638579748141638e-07 [Real]\n",
      "Satellite ID 10 Saved\n",
      "Satellite ID: 11, Ellipse Id: 0 | Loss: 1.2693246389972046e-05 [Real]\n",
      "Satellite ID 11 Saved\n",
      "Satellite ID: 12, Ellipse Id: 0 | Loss: 0.01562831737101078 [Real]\n",
      "Satellite ID 12 Saved\n",
      "Satellite ID: 13, Ellipse Id: 0 | Loss: 1.602699740033131e-05 [Real]\n",
      "Satellite ID 13 Saved\n",
      "Satellite ID: 14, Ellipse Id: 0 | Loss: 2.9820703275618143e-06 [Real]\n",
      "Satellite ID 14 Saved\n",
      "Satellite ID: 15, Ellipse Id: 0 | Loss: 1.1878521036123857e-05 [Real]\n",
      "Satellite ID 15 Saved\n",
      "Satellite ID: 16, Ellipse Id: 0 | Loss: 0.3447408378124237 [Real]\n",
      "Satellite ID 16 Saved\n",
      "Satellite ID: 17, Ellipse Id: 0 | Loss: 0.0001901659124996513 [Real]\n",
      "Satellite ID 17 Saved\n",
      "Satellite ID: 18, Ellipse Id: 0 | Loss: 1.7555774434185878e-07 [Real]\n",
      "Satellite ID 18 Saved\n",
      "Satellite ID: 19, Ellipse Id: 0 | Loss: 3.34540544599804e-07 [Real]\n",
      "Satellite ID 19 Saved\n",
      "Satellite ID: 20, Ellipse Id: 0 | Loss: 0.7694154381752014 [Real]\n",
      "Satellite ID 20 Saved\n",
      "Satellite ID: 21, Ellipse Id: 0 | Loss: 0.00028553995070979 [Real]\n",
      "Satellite ID 21 Saved\n"
     ]
    },
    {
     "ename": "KeyboardInterrupt",
     "evalue": "",
     "output_type": "error",
     "traceback": [
      "\u001b[0;31m---------------------------------------------------------------------------\u001b[0m",
      "\u001b[0;31mKeyboardInterrupt\u001b[0m                         Traceback (most recent call last)",
      "\u001b[0;32m<ipython-input-96-a52a70c5e3f0>\u001b[0m in \u001b[0;36m<module>\u001b[0;34m()\u001b[0m\n\u001b[1;32m      1\u001b[0m \u001b[1;32mfor\u001b[0m \u001b[0msat_id\u001b[0m\u001b[1;33m,\u001b[0m \u001b[0msat_data\u001b[0m \u001b[1;32min\u001b[0m \u001b[0mpos_real\u001b[0m\u001b[1;33m.\u001b[0m\u001b[0mitems\u001b[0m\u001b[1;33m(\u001b[0m\u001b[1;33m)\u001b[0m\u001b[1;33m:\u001b[0m\u001b[1;33m\u001b[0m\u001b[0m\n\u001b[1;32m      2\u001b[0m     \u001b[1;32mfor\u001b[0m \u001b[0mellipse_id\u001b[0m\u001b[1;33m,\u001b[0m \u001b[0mellipse_data\u001b[0m \u001b[1;32min\u001b[0m \u001b[0menumerate\u001b[0m\u001b[1;33m(\u001b[0m\u001b[0msat_data\u001b[0m\u001b[1;33m)\u001b[0m\u001b[1;33m:\u001b[0m\u001b[1;33m\u001b[0m\u001b[0m\n\u001b[0;32m----> 3\u001b[0;31m         \u001b[0mtransformation\u001b[0m\u001b[1;33m,\u001b[0m \u001b[0mellipse\u001b[0m \u001b[1;33m=\u001b[0m \u001b[0mcompute_transformation\u001b[0m\u001b[1;33m(\u001b[0m\u001b[0msat_id\u001b[0m\u001b[1;33m,\u001b[0m \u001b[0mellipse_id\u001b[0m\u001b[1;33m,\u001b[0m \u001b[0mellipse_data\u001b[0m\u001b[1;33m)\u001b[0m\u001b[1;33m\u001b[0m\u001b[0m\n\u001b[0m\u001b[1;32m      4\u001b[0m         \u001b[0mR\u001b[0m \u001b[1;33m=\u001b[0m \u001b[0mtransformation\u001b[0m\u001b[1;33m[\u001b[0m\u001b[1;33m:\u001b[0m\u001b[1;36m3\u001b[0m\u001b[1;33m,\u001b[0m \u001b[1;33m:\u001b[0m\u001b[1;36m3\u001b[0m\u001b[1;33m]\u001b[0m\u001b[1;33m.\u001b[0m\u001b[0mravel\u001b[0m\u001b[1;33m(\u001b[0m\u001b[1;33m)\u001b[0m\u001b[1;33m\u001b[0m\u001b[0m\n\u001b[1;32m      5\u001b[0m         \u001b[0mT\u001b[0m \u001b[1;33m=\u001b[0m \u001b[0mtransformation\u001b[0m\u001b[1;33m[\u001b[0m\u001b[1;36m3\u001b[0m\u001b[1;33m,\u001b[0m \u001b[1;33m:\u001b[0m\u001b[1;36m3\u001b[0m\u001b[1;33m]\u001b[0m\u001b[1;33m\u001b[0m\u001b[0m\n",
      "\u001b[0;32m<ipython-input-90-3bd4f074c064>\u001b[0m in \u001b[0;36mcompute_transformation\u001b[0;34m(sat_id, ellipse_id, ellipse_data)\u001b[0m\n\u001b[1;32m      3\u001b[0m     \u001b[0mellipse_data\u001b[0m \u001b[1;33m=\u001b[0m \u001b[0mnp\u001b[0m\u001b[1;33m.\u001b[0m\u001b[0mconcatenate\u001b[0m\u001b[1;33m(\u001b[0m\u001b[1;33m[\u001b[0m\u001b[0mellipse_data\u001b[0m\u001b[1;33m,\u001b[0m \u001b[0mnp\u001b[0m\u001b[1;33m.\u001b[0m\u001b[0mones\u001b[0m\u001b[1;33m(\u001b[0m\u001b[1;33m(\u001b[0m\u001b[1;36m24\u001b[0m\u001b[1;33m,\u001b[0m\u001b[1;36m1\u001b[0m\u001b[1;33m)\u001b[0m\u001b[1;33m)\u001b[0m\u001b[1;33m]\u001b[0m\u001b[1;33m,\u001b[0m \u001b[0maxis\u001b[0m\u001b[1;33m=\u001b[0m\u001b[1;36m1\u001b[0m\u001b[1;33m)\u001b[0m\u001b[1;33m\u001b[0m\u001b[0m\n\u001b[1;32m      4\u001b[0m     \u001b[0mtransformed_data\u001b[0m \u001b[1;33m=\u001b[0m \u001b[0mellipse_data\u001b[0m\u001b[1;33m.\u001b[0m\u001b[0mdot\u001b[0m\u001b[1;33m(\u001b[0m\u001b[0mnp\u001b[0m\u001b[1;33m.\u001b[0m\u001b[0mlinalg\u001b[0m\u001b[1;33m.\u001b[0m\u001b[0minv\u001b[0m\u001b[1;33m(\u001b[0m\u001b[0mtransformation\u001b[0m\u001b[1;33m)\u001b[0m\u001b[1;33m)\u001b[0m\u001b[1;33m\u001b[0m\u001b[0m\n\u001b[0;32m----> 5\u001b[0;31m     \u001b[0mellipse\u001b[0m \u001b[1;33m=\u001b[0m \u001b[0mfit_ellipse\u001b[0m\u001b[1;33m(\u001b[0m\u001b[0mtransformed_data\u001b[0m\u001b[1;33m,\u001b[0m \u001b[1;36m2500\u001b[0m\u001b[1;33m,\u001b[0m \u001b[1;36m0.001\u001b[0m\u001b[1;33m)\u001b[0m\u001b[1;33m\u001b[0m\u001b[0m\n\u001b[0m\u001b[1;32m      6\u001b[0m     \u001b[0mcenter_2d\u001b[0m \u001b[1;33m=\u001b[0m \u001b[0mnp\u001b[0m\u001b[1;33m.\u001b[0m\u001b[0marray\u001b[0m\u001b[1;33m(\u001b[0m\u001b[1;33m[\u001b[0m\u001b[0mellipse\u001b[0m\u001b[1;33m.\u001b[0m\u001b[0mcx\u001b[0m\u001b[1;33m,\u001b[0m \u001b[0mellipse\u001b[0m\u001b[1;33m.\u001b[0m\u001b[0mcy\u001b[0m\u001b[1;33m,\u001b[0m \u001b[1;36m0\u001b[0m\u001b[1;33m,\u001b[0m \u001b[1;36m1\u001b[0m\u001b[1;33m]\u001b[0m\u001b[1;33m)\u001b[0m\u001b[1;33m\u001b[0m\u001b[0m\n\u001b[1;32m      7\u001b[0m     \u001b[0mcenter_3d\u001b[0m \u001b[1;33m=\u001b[0m \u001b[0mcenter_2d\u001b[0m\u001b[1;33m.\u001b[0m\u001b[0mdot\u001b[0m\u001b[1;33m(\u001b[0m\u001b[0mtransformation\u001b[0m\u001b[1;33m)\u001b[0m\u001b[1;33m\u001b[0m\u001b[0m\n",
      "\u001b[0;32m<ipython-input-88-c69527182982>\u001b[0m in \u001b[0;36mfit_ellipse\u001b[0;34m(transformed, iterations, learning_rate)\u001b[0m\n\u001b[1;32m     12\u001b[0m         \u001b[0mpred\u001b[0m \u001b[1;33m=\u001b[0m \u001b[0mellipse\u001b[0m\u001b[1;33m(\u001b[0m\u001b[0mtransformed\u001b[0m\u001b[1;33m)\u001b[0m\u001b[1;33m\u001b[0m\u001b[0m\n\u001b[1;32m     13\u001b[0m         \u001b[0mloss\u001b[0m \u001b[1;33m=\u001b[0m \u001b[0mtorch\u001b[0m\u001b[1;33m.\u001b[0m\u001b[0msum\u001b[0m\u001b[1;33m(\u001b[0m\u001b[0mpred\u001b[0m\u001b[1;33m)\u001b[0m\u001b[1;33m\u001b[0m\u001b[0m\n\u001b[0;32m---> 14\u001b[0;31m         \u001b[0mloss\u001b[0m\u001b[1;33m.\u001b[0m\u001b[0mbackward\u001b[0m\u001b[1;33m(\u001b[0m\u001b[1;33m)\u001b[0m\u001b[1;33m\u001b[0m\u001b[0m\n\u001b[0m\u001b[1;32m     15\u001b[0m         \u001b[0moptim\u001b[0m\u001b[1;33m.\u001b[0m\u001b[0mstep\u001b[0m\u001b[1;33m(\u001b[0m\u001b[1;33m)\u001b[0m\u001b[1;33m\u001b[0m\u001b[0m\n\u001b[1;32m     16\u001b[0m     \u001b[0mellipse\u001b[0m\u001b[1;33m.\u001b[0m\u001b[0mloss\u001b[0m \u001b[1;33m=\u001b[0m \u001b[0mloss\u001b[0m\u001b[1;33m.\u001b[0m\u001b[0mitem\u001b[0m\u001b[1;33m(\u001b[0m\u001b[1;33m)\u001b[0m\u001b[1;33m\u001b[0m\u001b[0m\n",
      "\u001b[0;32mC:\\Users\\Utkarsh Sah\\Anaconda3\\lib\\site-packages\\torch\\tensor.py\u001b[0m in \u001b[0;36mbackward\u001b[0;34m(self, gradient, retain_graph, create_graph)\u001b[0m\n\u001b[1;32m    100\u001b[0m                 \u001b[0mproducts\u001b[0m\u001b[1;33m.\u001b[0m \u001b[0mDefaults\u001b[0m \u001b[0mto\u001b[0m\u001b[0;31m \u001b[0m\u001b[0;31m`\u001b[0m\u001b[0;31m`\u001b[0m\u001b[1;32mFalse\u001b[0m\u001b[0;31m`\u001b[0m\u001b[0;31m`\u001b[0m\u001b[1;33m.\u001b[0m\u001b[1;33m\u001b[0m\u001b[0m\n\u001b[1;32m    101\u001b[0m         \"\"\"\n\u001b[0;32m--> 102\u001b[0;31m         \u001b[0mtorch\u001b[0m\u001b[1;33m.\u001b[0m\u001b[0mautograd\u001b[0m\u001b[1;33m.\u001b[0m\u001b[0mbackward\u001b[0m\u001b[1;33m(\u001b[0m\u001b[0mself\u001b[0m\u001b[1;33m,\u001b[0m \u001b[0mgradient\u001b[0m\u001b[1;33m,\u001b[0m \u001b[0mretain_graph\u001b[0m\u001b[1;33m,\u001b[0m \u001b[0mcreate_graph\u001b[0m\u001b[1;33m)\u001b[0m\u001b[1;33m\u001b[0m\u001b[0m\n\u001b[0m\u001b[1;32m    103\u001b[0m \u001b[1;33m\u001b[0m\u001b[0m\n\u001b[1;32m    104\u001b[0m     \u001b[1;32mdef\u001b[0m \u001b[0mregister_hook\u001b[0m\u001b[1;33m(\u001b[0m\u001b[0mself\u001b[0m\u001b[1;33m,\u001b[0m \u001b[0mhook\u001b[0m\u001b[1;33m)\u001b[0m\u001b[1;33m:\u001b[0m\u001b[1;33m\u001b[0m\u001b[0m\n",
      "\u001b[0;32mC:\\Users\\Utkarsh Sah\\Anaconda3\\lib\\site-packages\\torch\\autograd\\__init__.py\u001b[0m in \u001b[0;36mbackward\u001b[0;34m(tensors, grad_tensors, retain_graph, create_graph, grad_variables)\u001b[0m\n\u001b[1;32m     88\u001b[0m     Variable._execution_engine.run_backward(\n\u001b[1;32m     89\u001b[0m         \u001b[0mtensors\u001b[0m\u001b[1;33m,\u001b[0m \u001b[0mgrad_tensors\u001b[0m\u001b[1;33m,\u001b[0m \u001b[0mretain_graph\u001b[0m\u001b[1;33m,\u001b[0m \u001b[0mcreate_graph\u001b[0m\u001b[1;33m,\u001b[0m\u001b[1;33m\u001b[0m\u001b[0m\n\u001b[0;32m---> 90\u001b[0;31m         allow_unreachable=True)  # allow_unreachable flag\n\u001b[0m\u001b[1;32m     91\u001b[0m \u001b[1;33m\u001b[0m\u001b[0m\n\u001b[1;32m     92\u001b[0m \u001b[1;33m\u001b[0m\u001b[0m\n",
      "\u001b[0;31mKeyboardInterrupt\u001b[0m: "
     ]
    }
   ],
   "source": [
    "for sat_id, sat_data in pos_real.items():\n",
    "    for ellipse_id, ellipse_data in enumerate(sat_data):\n",
    "        transformation, ellipse = compute_transformation(sat_id, ellipse_id, ellipse_data)\n",
    "        R = transformation[:3, :3].ravel()\n",
    "        T = transformation[3, :3]\n",
    "        ids = [sat_id, ellipse_id]\n",
    "        ellipse_parameters = ellipse.get_parameters()\n",
    "        row = np.concatenate([ids, ellipse_parameters, R, T], axis=0)\n",
    "        trans_real.append(row)\n",
    "        print('Satellite ID: {}, Ellipse Id: {} | Loss: {} [Real]'.format(sat_id, ellipse_id, ellipse_parameters[-1]))\n",
    "        break\n",
    "    df_real = pd.DataFrame(trans_real)\n",
    "    df_real.to_csv('../data/data_real.csv', index=False)\n",
    "    print ('Satellite ID', sat_id, 'Saved')"
   ]
  },
  {
   "cell_type": "code",
   "execution_count": null,
   "metadata": {
    "collapsed": true
   },
   "outputs": [],
   "source": []
  }
 ],
 "metadata": {
  "kernelspec": {
   "display_name": "Python 3",
   "language": "python",
   "name": "python3"
  },
  "language_info": {
   "codemirror_mode": {
    "name": "ipython",
    "version": 3
   },
   "file_extension": ".py",
   "mimetype": "text/x-python",
   "name": "python",
   "nbconvert_exporter": "python",
   "pygments_lexer": "ipython3",
   "version": "3.6.1"
  }
 },
 "nbformat": 4,
 "nbformat_minor": 2
}
