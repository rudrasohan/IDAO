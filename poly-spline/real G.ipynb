{
 "cells": [
  {
   "cell_type": "code",
   "execution_count": 48,
   "metadata": {
    "collapsed": true
   },
   "outputs": [],
   "source": [
    "import pandas as pd\n",
    "import numpy as np\n",
    "from datetime import datetime"
   ]
  },
  {
   "cell_type": "code",
   "execution_count": 3,
   "metadata": {
    "collapsed": false
   },
   "outputs": [],
   "source": [
    "from trajectory import trajectory"
   ]
  },
  {
   "cell_type": "code",
   "execution_count": 4,
   "metadata": {
    "collapsed": true
   },
   "outputs": [],
   "source": [
    "data_train = pd.read_csv('../data/train.csv')\n",
    "data_test = pd.read_csv('../data/track1/test.csv')"
   ]
  },
  {
   "cell_type": "code",
   "execution_count": 5,
   "metadata": {
    "collapsed": true
   },
   "outputs": [],
   "source": [
    "train_data = data_train.copy(deep=True)\n",
    "test_data = data_test.copy(deep=True)"
   ]
  },
  {
   "cell_type": "code",
   "execution_count": 63,
   "metadata": {
    "collapsed": false
   },
   "outputs": [],
   "source": [
    "time = []\n",
    "for t in train_data['epoch']:\n",
    "    time.append(datetime.strptime(t,\"%Y-%m-%dT%H:%M:%S.%f\"))\n",
    "time = np.array(time)\n",
    "time -= min(time)"
   ]
  },
  {
   "cell_type": "code",
   "execution_count": 67,
   "metadata": {
    "collapsed": true
   },
   "outputs": [],
   "source": [
    "time = [t.total_seconds() for t in time]"
   ]
  },
  {
   "cell_type": "code",
   "execution_count": 68,
   "metadata": {
    "collapsed": false
   },
   "outputs": [],
   "source": [
    "train_data['epoch'] = time"
   ]
  },
  {
   "cell_type": "code",
   "execution_count": 70,
   "metadata": {
    "collapsed": true
   },
   "outputs": [],
   "source": [
    "def generate_labels(n):\n",
    "    labels = []\n",
    "    for i in range(0,n):\n",
    "        labels.append(i%24 + 1)\n",
    "    return labels"
   ]
  },
  {
   "cell_type": "code",
   "execution_count": 71,
   "metadata": {
    "collapsed": false
   },
   "outputs": [],
   "source": [
    "cluster_labels = []\n",
    "for sat_id in range(0,600):\n",
    "    sat_data = data_train[data_train['sat_id'] == sat_id]\n",
    "    cluster_labels += generate_labels(len(sat_data))"
   ]
  },
  {
   "cell_type": "code",
   "execution_count": 72,
   "metadata": {
    "collapsed": false
   },
   "outputs": [],
   "source": [
    "train_data['Cluster Label'] = cluster_labels"
   ]
  },
  {
   "cell_type": "code",
   "execution_count": 73,
   "metadata": {
    "collapsed": true
   },
   "outputs": [],
   "source": [
    "import visdom"
   ]
  },
  {
   "cell_type": "code",
   "execution_count": 74,
   "metadata": {
    "collapsed": false
   },
   "outputs": [
    {
     "name": "stderr",
     "output_type": "stream",
     "text": [
      "Setting up a new session...\n"
     ]
    }
   ],
   "source": [
    "vis = visdom.Visdom()"
   ]
  },
  {
   "cell_type": "code",
   "execution_count": 112,
   "metadata": {
    "collapsed": false
   },
   "outputs": [],
   "source": [
    "def plot_axis(sat_id, axis, ellipse_index, span=1):\n",
    "    data = train_data[train_data['sat_id'] == sat_id]\n",
    "    label = data['Cluster Label']\n",
    "    time = data['epoch']\n",
    "    data = data.loc[:, ['x_sim', 'y_sim', 'z_sim']].values\n",
    "    vis.line(data[ellipse_index * 24: (ellipse_index + span) * 24, 2], time[ellipse_index * 24: (ellipse_index + span) * 24], opts={'markersize': 4}, win='Axis'+str(axis))"
   ]
  },
  {
   "cell_type": "code",
   "execution_count": 122,
   "metadata": {
    "collapsed": false
   },
   "outputs": [],
   "source": [
    "sat_id = 1\n",
    "plot_axis(sat_id, 0, 0, 11)\n",
    "plot_axis(sat_id, 1, 0, 11)\n",
    "plot_axis(sat_id, 2, 0, 11)"
   ]
  },
  {
   "cell_type": "code",
   "execution_count": 123,
   "metadata": {
    "collapsed": true
   },
   "outputs": [],
   "source": [
    "import torch\n",
    "import torch.nn as nn"
   ]
  },
  {
   "cell_type": "code",
   "execution_count": 173,
   "metadata": {
    "collapsed": true
   },
   "outputs": [],
   "source": [
    "from torch.utils.data import DataLoader\n",
    "import torch.optim as optim"
   ]
  },
  {
   "cell_type": "code",
   "execution_count": 357,
   "metadata": {
    "collapsed": true
   },
   "outputs": [],
   "source": [
    "class SatNet(nn.Module):\n",
    "\n",
    "    def __init__(self, name,omega, mean, diff):\n",
    "        super(SatNet, self).__init__()\n",
    "        self.name = name\n",
    "        self.A = nn.Parameter(diff)\n",
    "        self.B = nn.Parameter(diff)\n",
    "        self.W = nn.Parameter(omega)\n",
    "        self.P1 = nn.Parameter(torch.randn(1))\n",
    "        self.P2 = nn.Parameter(torch.randn(1))\n",
    "        self.off = nn.Parameter(mean)\n",
    "\n",
    "\n",
    "    def forward(self, t):\n",
    "\n",
    "        x = self.A*torch.cos(self.W*t + self.P1) + self.B*torch.cos(2.0*self.W*t + self.P2) + self.off\n",
    "        vx = -self.A*self.W*torch.sin(self.W*t + self.P1) - 2.0*self.B*self.W*torch.sin(self.W*t + self.P2) \n",
    "\n",
    "        return x, vx"
   ]
  },
  {
   "cell_type": "code",
   "execution_count": 345,
   "metadata": {
    "collapsed": false
   },
   "outputs": [
    {
     "ename": "TypeError",
     "evalue": "__init__() missing 2 required positional arguments: 'mean' and 'diff'",
     "output_type": "error",
     "traceback": [
      "\u001b[0;31m---------------------------------------------------------------------------\u001b[0m",
      "\u001b[0;31mTypeError\u001b[0m                                 Traceback (most recent call last)",
      "\u001b[0;32m<ipython-input-345-948cbf0be8f8>\u001b[0m in \u001b[0;36m<module>\u001b[0;34m()\u001b[0m\n\u001b[1;32m      1\u001b[0m \u001b[0mt\u001b[0m \u001b[1;33m=\u001b[0m \u001b[0mtorch\u001b[0m\u001b[1;33m.\u001b[0m\u001b[0mzeros\u001b[0m\u001b[1;33m(\u001b[0m\u001b[1;33m(\u001b[0m\u001b[1;36m2\u001b[0m\u001b[1;33m)\u001b[0m\u001b[1;33m)\u001b[0m\u001b[1;33m\u001b[0m\u001b[0m\n\u001b[0;32m----> 2\u001b[0;31m \u001b[0mmodel\u001b[0m \u001b[1;33m=\u001b[0m \u001b[0mSatNet\u001b[0m\u001b[1;33m(\u001b[0m\u001b[1;34m\"abc\"\u001b[0m\u001b[1;33m)\u001b[0m\u001b[1;33m\u001b[0m\u001b[0m\n\u001b[0m\u001b[1;32m      3\u001b[0m \u001b[1;31m# print(\"B \",model.off.item())\u001b[0m\u001b[1;33m\u001b[0m\u001b[1;33m\u001b[0m\u001b[0m\n\u001b[1;32m      4\u001b[0m \u001b[1;31m# print(\"A \",model.A.item())\u001b[0m\u001b[1;33m\u001b[0m\u001b[1;33m\u001b[0m\u001b[0m\n\u001b[1;32m      5\u001b[0m \u001b[1;31m# print(\"w \",model.W.item())\u001b[0m\u001b[1;33m\u001b[0m\u001b[1;33m\u001b[0m\u001b[0m\n",
      "\u001b[0;31mTypeError\u001b[0m: __init__() missing 2 required positional arguments: 'mean' and 'diff'"
     ]
    }
   ],
   "source": [
    "t = torch.zeros((2))\n",
    "model = SatNet(\"abc\")\n",
    "# print(\"B \",model.off.item())\n",
    "# print(\"A \",model.A.item())\n",
    "# print(\"w \",model.W.item())\n",
    "# print(\"phi \",model.P.item())\n",
    "print(model(t))\n"
   ]
  },
  {
   "cell_type": "code",
   "execution_count": 346,
   "metadata": {
    "collapsed": false
   },
   "outputs": [],
   "source": [
    "zeroes = {}\n",
    "for i in range(n_sat):\n",
    "    times = train_data[train_data['sat_id']==i].loc[:,'epoch']\n",
    "    zeroes[i] = np.min(times)\n",
    "#zeroes"
   ]
  },
  {
   "cell_type": "code",
   "execution_count": 347,
   "metadata": {
    "collapsed": false
   },
   "outputs": [],
   "source": [
    "def smape(satellite_predicted_values, satellite_true_values): \n",
    "    # the division, addition and subtraction are pointwise \n",
    "    return np.mean(np.abs((satellite_predicted_values - satellite_true_values) \n",
    "        / (np.abs(satellite_predicted_values) + np.abs(satellite_true_values))))"
   ]
  },
  {
   "cell_type": "code",
   "execution_count": 386,
   "metadata": {
    "collapsed": false
   },
   "outputs": [],
   "source": [
    "div = 10000\n",
    "\n",
    "def train(train_data):\n",
    "    \n",
    "    sat_net = {}\n",
    "    \n",
    "    for i in [150]:\n",
    "        sat_data = train_data[train_data['sat_id']==i].loc[:, ['x_sim', 'y_sim', 'z_sim', 'Vx_sim', 'Vy_sim', 'Vz_sim', 'epoch']].values\n",
    "        sat_net[i] = {}\n",
    "        \n",
    "        \n",
    "        data_ = DataLoader(sat_data, batch_size=24)\n",
    "        data_iters = iter(data_)\n",
    "        for j, dat in enumerate(data_iters):\n",
    "            omega_ = 2*div*np.pi/(torch.max(dat[:, 6])-torch.min(dat[:, 6]))\n",
    "            sat_net[i][j] = {'x': SatNet(name='x', omega=omega_, mean=torch.mean(dat[:,0]/div), diff=0.5/div*(torch.max(dat[:,0]) - torch.min(dat[:,0]))).float(), \n",
    "                             'y': SatNet(name='y', omega=omega_, mean=torch.mean(dat[:,1]/div), diff=0.5/div*(torch.max(dat[:,1]) - torch.min(dat[:,1]))).float(), \n",
    "                             'z': SatNet(name='z', omega=omega_, mean=torch.mean(dat[:,2]/div), diff=0.5/div*(torch.max(dat[:,2]) - torch.min(dat[:,2]))).float()}\n",
    "            opt_x = optim.Adam(sat_net[i][j]['x'].parameters(), lr=0.05, betas = (0.9,0.999))\n",
    "            opt_y = optim.Adam(sat_net[i][j]['y'].parameters(), lr=0.05, betas = (0.9,0.999))\n",
    "            opt_z = optim.Adam(sat_net[i][j]['z'].parameters(), lr=0.05, betas = (0.9,0.999))\n",
    "            \n",
    "            last_loss = 0\n",
    "            for its in range(10000):\n",
    "                opt_x.zero_grad()\n",
    "                opt_y.zero_grad()\n",
    "                opt_z.zero_grad()\n",
    "                \n",
    "                time = dat[:,6]/div\n",
    "                time = time.float()\n",
    "                \n",
    "                x_pred, vx_pred = sat_net[i][j]['x'](time)\n",
    "                y_pred, vy_pred = sat_net[i][j]['y'](time)\n",
    "                z_pred, vz_pred = sat_net[i][j]['z'](time)\n",
    "                \n",
    "                \n",
    "                loss_x = torch.mean((x_pred - dat[:,0].float()/div)**2) \n",
    "                loss_y = torch.mean((y_pred - dat[:,1].float()/div)**2) \n",
    "                loss_z  = torch.mean((z_pred - dat[:,2].float()/div)**2)\n",
    "                \n",
    "                loss_vx = torch.mean((vx_pred - dat[:,3].float())**2) \n",
    "                loss_vy = torch.mean((vy_pred - dat[:,4].float())**2) \n",
    "                loss_vz =  torch.mean((vz_pred - dat[:,5].float())**2)\n",
    "                \n",
    "                loss_x_net = loss_x + loss_vx\n",
    "                loss_y_net = loss_y + loss_vy\n",
    "                loss_z_net = loss_z + loss_vz\n",
    "                \n",
    "                loss_x_net.backward()\n",
    "                loss_y_net.backward()\n",
    "                loss_z_net.backward()\n",
    "                \n",
    "                opt_x.step()\n",
    "                opt_y.step()\n",
    "                opt_z.step()\n",
    "                \n",
    "                \n",
    "                \n",
    "                if its % 1000 == 0:\n",
    "                    print(\"Satellite Number {} Ellipse Number {} Loss x {} Loss y {} Loss z {}\".format(i,j,loss_x.item(),\\\n",
    "                                                                                                loss_y.item(),loss_z.item()))\n",
    "                   \n",
    "                    print(\"Smape Loss X {} Smape Y {} Smape Z {}\".format(smape(x_pred.detach().numpy()*div,dat[:,0].numpy()),\n",
    "                                                                         smape(y_pred.detach().numpy()*div,dat[:,1].numpy()),\n",
    "                                                                         smape(z_pred.detach().numpy()*div,dat[:,2].numpy())\n",
    "                                                                            )\n",
    "                         )\n",
    "                \n",
    "    return sat_net "
   ]
  },
  {
   "cell_type": "code",
   "execution_count": 387,
   "metadata": {
    "collapsed": false
   },
   "outputs": [
    {
     "name": "stdout",
     "output_type": "stream",
     "text": [
      "Satellite Number 150 Ellipse Number 0 Loss x 36.12395477294922 Loss y 8.856234550476074 Loss z 6.997781276702881\n",
      "Smape Loss X 0.7960624152518454 Smape Y 0.4372787480822833 Smape Z 0.5373274700909129\n",
      "Satellite Number 150 Ellipse Number 0 Loss x 0.1360863298177719 Loss y 0.12732772529125214 Loss z 0.02119872160255909\n",
      "Smape Loss X 0.058213176472154925 Smape Y 0.0699211355684911 Smape Z 0.0702646029831856\n",
      "Satellite Number 150 Ellipse Number 0 Loss x 0.13608558475971222 Loss y 0.1273275911808014 Loss z 0.020213643088936806\n",
      "Smape Loss X 0.0582129114532472 Smape Y 0.06992110062144043 Smape Z 0.06836079185922816\n",
      "Satellite Number 150 Ellipse Number 0 Loss x 0.13608555495738983 Loss y 0.12732776999473572 Loss z 0.019750364124774933\n",
      "Smape Loss X 0.05821287096545652 Smape Y 0.06992111407804251 Smape Z 0.06776253154112193\n",
      "Satellite Number 150 Ellipse Number 0 Loss x 0.13608552515506744 Loss y 0.12784133851528168 Loss z 0.01972309686243534\n",
      "Smape Loss X 0.05821302930431674 Smape Y 0.06995266690580486 Smape Z 0.06776738001039578\n",
      "Satellite Number 150 Ellipse Number 0 Loss x 0.13608551025390625 Loss y 0.12732720375061035 Loss z 0.019717885181307793\n",
      "Smape Loss X 0.058212965642535475 Smape Y 0.06992099880104002 Smape Z 0.0677672568637153\n",
      "Satellite Number 150 Ellipse Number 0 Loss x 0.13608551025390625 Loss y 0.16925354301929474 Loss z 0.019515590742230415\n",
      "Smape Loss X 0.05821293844533849 Smape Y 0.07408499915193205 Smape Z 0.06792080535754995\n",
      "Satellite Number 150 Ellipse Number 0 Loss x 0.1360844522714615 Loss y 0.12617790699005127 Loss z 0.019965514540672302\n",
      "Smape Loss X 0.05820185717909281 Smape Y 0.0698415645553968 Smape Z 0.06780046786627816\n",
      "Satellite Number 150 Ellipse Number 0 Loss x 0.13608554005622864 Loss y 0.12784287333488464 Loss z 0.019688380882143974\n",
      "Smape Loss X 0.05821294848716521 Smape Y 0.06997314296905906 Smape Z 0.06777740846945783\n",
      "Satellite Number 150 Ellipse Number 0 Loss x 0.13604693114757538 Loss y 0.12590950727462769 Loss z 0.019612813368439674\n",
      "Smape Loss X 0.05835696339114755 Smape Y 0.06981947600675957 Smape Z 0.06781869250191486\n",
      "Satellite Number 150 Ellipse Number 1 Loss x 23.52031707763672 Loss y 9.196056365966797 Loss z 8.238364219665527\n",
      "Smape Loss X 0.6195145899805096 Smape Y 0.453170334816744 Smape Z 0.6519581409030061\n",
      "Satellite Number 150 Ellipse Number 1 Loss x 0.12242963165044785 Loss y 0.10461154580116272 Loss z 0.007431980222463608\n",
      "Smape Loss X 0.09256413217711575 Smape Y 0.0664369506870712 Smape Z 0.052905014849127165\n",
      "Satellite Number 150 Ellipse Number 1 Loss x 0.12243247777223587 Loss y 0.0703834518790245 Loss z 0.0057760789059102535\n",
      "Smape Loss X 0.09256793259454393 Smape Y 0.06764020840221222 Smape Z 0.052096193800922425\n",
      "Satellite Number 150 Ellipse Number 1 Loss x 0.12243220955133438 Loss y 0.06851741671562195 Loss z 0.005735199432820082\n",
      "Smape Loss X 0.09256721819969864 Smape Y 0.06024653146411402 Smape Z 0.05171053627506753\n"
     ]
    },
    {
     "ename": "KeyboardInterrupt",
     "evalue": "",
     "output_type": "error",
     "traceback": [
      "\u001b[0;31m---------------------------------------------------------------------------\u001b[0m",
      "\u001b[0;31mKeyboardInterrupt\u001b[0m                         Traceback (most recent call last)",
      "\u001b[0;32m<ipython-input-387-095002345ae4>\u001b[0m in \u001b[0;36m<module>\u001b[0;34m()\u001b[0m\n\u001b[0;32m----> 1\u001b[0;31m \u001b[0msat_nets\u001b[0m \u001b[1;33m=\u001b[0m \u001b[0mtrain\u001b[0m\u001b[1;33m(\u001b[0m\u001b[0mtrain_data\u001b[0m\u001b[1;33m)\u001b[0m\u001b[1;33m\u001b[0m\u001b[0m\n\u001b[0m",
      "\u001b[0;32m<ipython-input-386-ab5520b5cf41>\u001b[0m in \u001b[0;36mtrain\u001b[0;34m(train_data)\u001b[0m\n\u001b[1;32m     52\u001b[0m \u001b[1;33m\u001b[0m\u001b[0m\n\u001b[1;32m     53\u001b[0m                 \u001b[0mopt_x\u001b[0m\u001b[1;33m.\u001b[0m\u001b[0mstep\u001b[0m\u001b[1;33m(\u001b[0m\u001b[1;33m)\u001b[0m\u001b[1;33m\u001b[0m\u001b[0m\n\u001b[0;32m---> 54\u001b[0;31m                 \u001b[0mopt_y\u001b[0m\u001b[1;33m.\u001b[0m\u001b[0mstep\u001b[0m\u001b[1;33m(\u001b[0m\u001b[1;33m)\u001b[0m\u001b[1;33m\u001b[0m\u001b[0m\n\u001b[0m\u001b[1;32m     55\u001b[0m                 \u001b[0mopt_z\u001b[0m\u001b[1;33m.\u001b[0m\u001b[0mstep\u001b[0m\u001b[1;33m(\u001b[0m\u001b[1;33m)\u001b[0m\u001b[1;33m\u001b[0m\u001b[0m\n\u001b[1;32m     56\u001b[0m \u001b[1;33m\u001b[0m\u001b[0m\n",
      "\u001b[0;32mC:\\Users\\Utkarsh Sah\\Anaconda3\\lib\\site-packages\\torch\\optim\\adam.py\u001b[0m in \u001b[0;36mstep\u001b[0;34m(self, closure)\u001b[0m\n\u001b[1;32m    105\u001b[0m                 \u001b[0mstep_size\u001b[0m \u001b[1;33m=\u001b[0m \u001b[0mgroup\u001b[0m\u001b[1;33m[\u001b[0m\u001b[1;34m'lr'\u001b[0m\u001b[1;33m]\u001b[0m \u001b[1;33m*\u001b[0m \u001b[0mmath\u001b[0m\u001b[1;33m.\u001b[0m\u001b[0msqrt\u001b[0m\u001b[1;33m(\u001b[0m\u001b[0mbias_correction2\u001b[0m\u001b[1;33m)\u001b[0m \u001b[1;33m/\u001b[0m \u001b[0mbias_correction1\u001b[0m\u001b[1;33m\u001b[0m\u001b[0m\n\u001b[1;32m    106\u001b[0m \u001b[1;33m\u001b[0m\u001b[0m\n\u001b[0;32m--> 107\u001b[0;31m                 \u001b[0mp\u001b[0m\u001b[1;33m.\u001b[0m\u001b[0mdata\u001b[0m\u001b[1;33m.\u001b[0m\u001b[0maddcdiv_\u001b[0m\u001b[1;33m(\u001b[0m\u001b[1;33m-\u001b[0m\u001b[0mstep_size\u001b[0m\u001b[1;33m,\u001b[0m \u001b[0mexp_avg\u001b[0m\u001b[1;33m,\u001b[0m \u001b[0mdenom\u001b[0m\u001b[1;33m)\u001b[0m\u001b[1;33m\u001b[0m\u001b[0m\n\u001b[0m\u001b[1;32m    108\u001b[0m \u001b[1;33m\u001b[0m\u001b[0m\n\u001b[1;32m    109\u001b[0m         \u001b[1;32mreturn\u001b[0m \u001b[0mloss\u001b[0m\u001b[1;33m\u001b[0m\u001b[0m\n",
      "\u001b[0;31mKeyboardInterrupt\u001b[0m: "
     ]
    }
   ],
   "source": [
    "sat_nets = train(train_data)"
   ]
  },
  {
   "cell_type": "code",
   "execution_count": 384,
   "metadata": {
    "collapsed": false
   },
   "outputs": [
    {
     "ename": "NameError",
     "evalue": "name 'x_pred' is not defined",
     "output_type": "error",
     "traceback": [
      "\u001b[0;31m---------------------------------------------------------------------------\u001b[0m",
      "\u001b[0;31mNameError\u001b[0m                                 Traceback (most recent call last)",
      "\u001b[0;32m<ipython-input-384-e6d5a7bef3f5>\u001b[0m in \u001b[0;36m<module>\u001b[0;34m()\u001b[0m\n\u001b[0;32m----> 1\u001b[0;31m \u001b[0mx_pred\u001b[0m\u001b[1;33m.\u001b[0m\u001b[0mshape\u001b[0m\u001b[1;33m\u001b[0m\u001b[0m\n\u001b[0m",
      "\u001b[0;31mNameError\u001b[0m: name 'x_pred' is not defined"
     ]
    }
   ],
   "source": [
    "x_pred.shape"
   ]
  },
  {
   "cell_type": "code",
   "execution_count": 274,
   "metadata": {
    "collapsed": false
   },
   "outputs": [],
   "source": [
    "sat_data = train_data[train_data['sat_id']==0].loc[:, ['x_sim', 'y_sim', 'z_sim', 'Vx_sim', 'Vy_sim', 'Vz_sim', 'epoch']].values"
   ]
  },
  {
   "cell_type": "code",
   "execution_count": 137,
   "metadata": {
    "collapsed": true
   },
   "outputs": [],
   "source": [
    "x = sat_data[:,0]\n",
    "y = sat_data[:,1]\n",
    "z = sat_data[:,2]"
   ]
  },
  {
   "cell_type": "code",
   "execution_count": 138,
   "metadata": {
    "collapsed": true
   },
   "outputs": [],
   "source": [
    "vx = sat_data[:,3]\n",
    "vy = sat_data[:,4]\n",
    "vz = sat_data[:,5]"
   ]
  },
  {
   "cell_type": "code",
   "execution_count": 142,
   "metadata": {
    "collapsed": false
   },
   "outputs": [
    {
     "data": {
      "text/plain": [
       "tensor([[-8.8431e+03,  1.3138e+04, -2.0742e+04,  ..., -3.8049e+00,\n",
       "         -2.0241e+00,  0.0000e+00],\n",
       "        [-1.0556e+04,  1.6493e+03, -2.4473e+04,  ..., -4.2698e+00,\n",
       "         -6.1647e-01,  2.8030e+03],\n",
       "        [-1.0572e+04, -1.0146e+04, -2.4271e+04,  ..., -4.0468e+00,\n",
       "          7.1877e-01,  5.6060e+03],\n",
       "        ...,\n",
       "        [ 1.0663e+04,  2.4548e+04,  2.3721e+04,  ...,  1.7154e+00,\n",
       "         -2.6368e+00,  2.6713e+06],\n",
       "        [ 7.1828e+03,  2.8396e+04,  1.5554e+04,  ...,  9.8470e-01,\n",
       "         -3.1732e+00,  2.6741e+06],\n",
       "        [ 3.0996e+03,  2.9798e+04,  6.0831e+03,  ..., -3.3515e-02,\n",
       "         -3.5448e+00,  2.6769e+06]], dtype=torch.float64)"
      ]
     },
     "execution_count": 142,
     "metadata": {},
     "output_type": "execute_result"
    }
   ],
   "source": [
    "torch.from_numpy(sat_data)"
   ]
  },
  {
   "cell_type": "code",
   "execution_count": 150,
   "metadata": {
    "collapsed": true
   },
   "outputs": [],
   "source": [
    "dataloader = DataLoader(sat_data, batch_size = 24)"
   ]
  },
  {
   "cell_type": "code",
   "execution_count": 151,
   "metadata": {
    "collapsed": false
   },
   "outputs": [],
   "source": [
    "dataset_iter = iter(dataloader)"
   ]
  },
  {
   "cell_type": "code",
   "execution_count": 154,
   "metadata": {
    "collapsed": false
   },
   "outputs": [],
   "source": [
    "k = next(dataset_iter).shape"
   ]
  },
  {
   "cell_type": "code",
   "execution_count": 155,
   "metadata": {
    "collapsed": false
   },
   "outputs": [
    {
     "data": {
      "text/plain": [
       "torch.Size([24, 7])"
      ]
     },
     "execution_count": 155,
     "metadata": {},
     "output_type": "execute_result"
    }
   ],
   "source": [
    "k"
   ]
  },
  {
   "cell_type": "code",
   "execution_count": null,
   "metadata": {
    "collapsed": true
   },
   "outputs": [],
   "source": []
  }
 ],
 "metadata": {
  "kernelspec": {
   "display_name": "Python 3",
   "language": "python",
   "name": "python3"
  },
  "language_info": {
   "codemirror_mode": {
    "name": "ipython",
    "version": 3
   },
   "file_extension": ".py",
   "mimetype": "text/x-python",
   "name": "python",
   "nbconvert_exporter": "python",
   "pygments_lexer": "ipython3",
   "version": "3.6.1"
  }
 },
 "nbformat": 4,
 "nbformat_minor": 2
}
