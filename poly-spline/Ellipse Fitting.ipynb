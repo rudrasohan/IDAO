{
 "cells": [
  {
   "cell_type": "code",
   "execution_count": 1,
   "metadata": {
    "collapsed": true
   },
   "outputs": [],
   "source": [
    "import pandas as pd\n",
    "import numpy as np\n",
    "import matplotlib.pyplot as plt\n",
    "%matplotlib inline"
   ]
  },
  {
   "cell_type": "code",
   "execution_count": 2,
   "metadata": {
    "collapsed": true
   },
   "outputs": [],
   "source": [
    "import torch\n",
    "import torch.nn as nn\n",
    "import visdom"
   ]
  },
  {
   "cell_type": "code",
   "execution_count": 3,
   "metadata": {
    "collapsed": false
   },
   "outputs": [
    {
     "name": "stderr",
     "output_type": "stream",
     "text": [
      "Setting up a new session...\n"
     ]
    }
   ],
   "source": [
    "vis = visdom.Visdom()"
   ]
  },
  {
   "cell_type": "code",
   "execution_count": 4,
   "metadata": {
    "collapsed": true
   },
   "outputs": [],
   "source": [
    "from preprocessing_utils import process_sat_data, pickle_save, pickle_load\n",
    "from trajectory import trajectory"
   ]
  },
  {
   "cell_type": "code",
   "execution_count": 5,
   "metadata": {
    "collapsed": true
   },
   "outputs": [],
   "source": [
    "data_train = pd.read_csv('../data/train.csv')\n",
    "data_test = pd.read_csv('../data/track1/test.csv')"
   ]
  },
  {
   "cell_type": "code",
   "execution_count": 6,
   "metadata": {
    "collapsed": true
   },
   "outputs": [],
   "source": [
    "train_data = data_train.copy(deep=True)\n",
    "test_data = data_test.copy(deep=True)"
   ]
  },
  {
   "cell_type": "code",
   "execution_count": 7,
   "metadata": {
    "collapsed": false
   },
   "outputs": [],
   "source": [
    "process_sat_data(train_data, test_data, scale=10000)"
   ]
  },
  {
   "cell_type": "markdown",
   "metadata": {},
   "source": [
    "# Rodrigues Rotation"
   ]
  },
  {
   "cell_type": "markdown",
   "metadata": {},
   "source": [
    "$ {\\displaystyle \\mathbf {v} _{\\mathrm {rot} }=\\mathbf {v} \\cos \\theta +(\\mathbf {k} \\times \\mathbf {v} )\\sin \\theta +\\mathbf {k} ~(\\mathbf {k} \\cdot \\mathbf {v} )(1-\\cos \\theta )\\,} $"
   ]
  },
  {
   "cell_type": "code",
   "execution_count": 244,
   "metadata": {
    "collapsed": false
   },
   "outputs": [],
   "source": [
    "sat_id = 59\n",
    "ellipse_id = 1\n",
    "ellipse_data = train_data[train_data['sat_id'] == sat_id].loc[:, ['x_sim', 'y_sim', 'z_sim', 'epoch']]\n",
    "ellipse_data = ellipse_data.iloc[ellipse_id * 24 : (ellipse_id + 1) * 24, :]\n",
    "time = ellipse_data['epoch'].values\n",
    "ellipse_data = ellipse_data.iloc[:, [0,1,2]].values\n",
    "ellipse_mean = ellipse_data.mean(axis=0)\n",
    "ellipse_data -= ellipse_mean"
   ]
  },
  {
   "cell_type": "code",
   "execution_count": 245,
   "metadata": {
    "collapsed": true
   },
   "outputs": [],
   "source": [
    "ellipse_normal = np.cross(ellipse_data[0]-ellipse_data[1], ellipse_data[0]-ellipse_data[2])\n",
    "ellipse_normal /= np.linalg.norm(ellipse_normal)\n",
    "if (ellipse_normal[2] < 0):\n",
    "    ellipse_normal *= -1"
   ]
  },
  {
   "cell_type": "code",
   "execution_count": 246,
   "metadata": {
    "collapsed": false
   },
   "outputs": [
    {
     "data": {
      "text/plain": [
       "array([-0.78433471,  0.28910084,  0.54885313])"
      ]
     },
     "execution_count": 246,
     "metadata": {},
     "output_type": "execute_result"
    }
   ],
   "source": [
    "ellipse_normal"
   ]
  },
  {
   "cell_type": "code",
   "execution_count": 247,
   "metadata": {
    "collapsed": true
   },
   "outputs": [],
   "source": [
    "z_axis = np.array([0,0,1])"
   ]
  },
  {
   "cell_type": "code",
   "execution_count": 248,
   "metadata": {
    "collapsed": true
   },
   "outputs": [],
   "source": [
    "theta = np.arccos(np.dot(ellipse_normal, z_axis))"
   ]
  },
  {
   "cell_type": "code",
   "execution_count": 249,
   "metadata": {
    "collapsed": false
   },
   "outputs": [
    {
     "data": {
      "text/plain": [
       "56.711631244695305"
      ]
     },
     "execution_count": 249,
     "metadata": {},
     "output_type": "execute_result"
    }
   ],
   "source": [
    "theta / np.pi * 180"
   ]
  },
  {
   "cell_type": "code",
   "execution_count": 250,
   "metadata": {
    "collapsed": false
   },
   "outputs": [],
   "source": [
    "rotation_axis = np.cross(ellipse_normal, z_axis)\n",
    "rotation_axis /= np.linalg.norm(rotation_axis)"
   ]
  },
  {
   "cell_type": "code",
   "execution_count": 251,
   "metadata": {
    "collapsed": false
   },
   "outputs": [
    {
     "data": {
      "text/plain": [
       "array([ 0.345848  ,  0.93829055, -0.        ])"
      ]
     },
     "execution_count": 251,
     "metadata": {},
     "output_type": "execute_result"
    }
   ],
   "source": [
    "rotation_axis"
   ]
  },
  {
   "cell_type": "code",
   "execution_count": 252,
   "metadata": {
    "collapsed": true
   },
   "outputs": [],
   "source": [
    "def rodrigues_rotate(vect, axis, theta):\n",
    "    rotated = vect * np.cos(theta)\n",
    "    rotated += np.cross(axis, vect) * np.sin(theta)\n",
    "    rotated += axis * np.dot(z_axis, vect) * (1 - np.cos(theta))\n",
    "    return rotated"
   ]
  },
  {
   "cell_type": "code",
   "execution_count": 253,
   "metadata": {
    "collapsed": false
   },
   "outputs": [],
   "source": [
    "rotated = rodrigues_rotate(ellipse_normal, rotation_axis, theta)"
   ]
  },
  {
   "cell_type": "code",
   "execution_count": 254,
   "metadata": {
    "collapsed": false
   },
   "outputs": [
    {
     "data": {
      "text/plain": [
       "1.0302001657951969"
      ]
     },
     "execution_count": 254,
     "metadata": {},
     "output_type": "execute_result"
    }
   ],
   "source": [
    "np.linalg.norm(rotated)"
   ]
  },
  {
   "cell_type": "code",
   "execution_count": 255,
   "metadata": {
    "collapsed": false
   },
   "outputs": [
    {
     "data": {
      "text/plain": [
       "array([ 0.08563659,  0.23233329,  1.        ])"
      ]
     },
     "execution_count": 255,
     "metadata": {},
     "output_type": "execute_result"
    }
   ],
   "source": [
    "rotated"
   ]
  },
  {
   "cell_type": "code",
   "execution_count": 256,
   "metadata": {
    "collapsed": false
   },
   "outputs": [],
   "source": [
    "transformed_data = np.array([rodrigues_rotate(vect, rotation_axis, theta) for vect in ellipse_data])"
   ]
  },
  {
   "cell_type": "code",
   "execution_count": 257,
   "metadata": {
    "collapsed": false
   },
   "outputs": [
    {
     "data": {
      "text/plain": [
       "array([  1.26519639e+00,   5.97709222e-01,   3.72220662e-04])"
      ]
     },
     "execution_count": 257,
     "metadata": {},
     "output_type": "execute_result"
    }
   ],
   "source": [
    "np.abs(transformed_data).mean(axis=0)"
   ]
  },
  {
   "cell_type": "code",
   "execution_count": 258,
   "metadata": {
    "collapsed": true
   },
   "outputs": [],
   "source": [
    "def plot_rotation(ellipse_normal, rotation_axis, rotated, transformed_data, ellipse_data):\n",
    "    normal_line = np.array([i * ellipse_normal for i in range(10)])\n",
    "    axis_line = np.array([i * rotation_axis for i in range(10)])\n",
    "    rotated_line = np.array([i * rotated for i in range(10)])\n",
    "    labels = [1] * (len(ellipse_data)+len(normal_line)) + [2] * (len(transformed_data)+len(rotated_line)) + [3] * len(axis_line)\n",
    "    concat = np.concatenate([ellipse_data, normal_line, transformed_data, rotated_line, axis_line], axis=0)\n",
    "    vis.scatter(concat, labels, opts={'markersize': 3}, win='rotation')"
   ]
  },
  {
   "cell_type": "code",
   "execution_count": 259,
   "metadata": {
    "collapsed": false
   },
   "outputs": [],
   "source": [
    "plot_rotation(ellipse_normal, rotation_axis, rotated, transformed_data, ellipse_data)"
   ]
  },
  {
   "cell_type": "code",
   "execution_count": 260,
   "metadata": {
    "collapsed": true
   },
   "outputs": [],
   "source": [
    "transformed_data = transformed_data[:,[0,1]]"
   ]
  },
  {
   "cell_type": "markdown",
   "metadata": {},
   "source": [
    "# 2D Ellipse Fitting"
   ]
  },
  {
   "cell_type": "code",
   "execution_count": 261,
   "metadata": {
    "collapsed": false
   },
   "outputs": [],
   "source": [
    "class Ellipse(nn.Module):\n",
    "    def __init__(self, name, major, minor, cx, cy, theta):\n",
    "        super(Ellipse, self).__init__()\n",
    "        self.name = name\n",
    "        self.a = nn.Parameter(1/(major**2))\n",
    "        self.b = nn.Parameter(1/(minor**2))\n",
    "        self.cx = nn.Parameter(cx)\n",
    "        self.cy = nn.Parameter(cy)\n",
    "        self.theta = nn.Parameter(theta)\n",
    "    def forward(self, data):\n",
    "        x_rot = data[:,0] - self.cx\n",
    "        y_rot = data[:,1] - self.cy\n",
    "        x = x_rot * torch.cos(theta) - y_rot * torch.sin(theta)\n",
    "        y = x_rot * torch.sin(theta) + y_rot * torch.cos(theta)\n",
    "        res = (self.a * x**2 + self.b * y**2 - 1) ** 2\n",
    "        return [res, x, y]\n",
    "    def plot(self, data):\n",
    "        major = np.sqrt(1 / self.a.detach().numpy())\n",
    "        minor = np.sqrt(1 / self.b.detach().numpy())\n",
    "        theta = -self.theta.detach().numpy()\n",
    "        cx = self.cx.detach().numpy()\n",
    "        cy = self.cy.detach().numpy()\n",
    "        print('Major: {} | Minor: {} | Center: ({},{}) | Rotation: {}'.format(major, minor, cx, cy, theta*180/np.pi))\n",
    "        generated = []\n",
    "        for x in np.arange(-major, major, 0.01):\n",
    "            y = np.sqrt((1 - x**2 / major**2) * minor**2)\n",
    "            generated.append([x,y])\n",
    "            generated.append([x,-y])\n",
    "        generated = np.array(generated)\n",
    "        generated_transformed = np.transpose(np.array([generated[:,0] * np.cos(theta) - generated[:,1] * np.sin(theta),\n",
    "                                                       generated[:,0] * np.sin(theta) + generated[:,1] * np.cos(theta)]))\n",
    "        generated_transformed += [cx, cy]\n",
    "        plt.scatter(data[:,0], data[:,1])\n",
    "        plt.scatter(generated_transformed[:,0], generated_transformed[:,1], c='green', s=0.5)"
   ]
  },
  {
   "cell_type": "code",
   "execution_count": 262,
   "metadata": {
    "collapsed": true
   },
   "outputs": [],
   "source": [
    "def get_initial_values(data):\n",
    "    euclidian = []\n",
    "    pairs = []\n",
    "    for i in range(23):\n",
    "        for j in range(i + 1, 24):\n",
    "            euclidian_distance = np.linalg.norm(data[i] - data[j])\n",
    "            pairs.append([i, j])\n",
    "            euclidian.append(euclidian_distance)\n",
    "    max_index = np.argmax(euclidian) #Index of Longest Chord\n",
    "    major_axis = data[pairs[max_index][0]] - data[pairs[max_index][1]]\n",
    "    if (major_axis[1] < 0):\n",
    "        major_axis *= -1\n",
    "    major = np.linalg.norm(major_axis) / 2\n",
    "    center = (data[pairs[max_index][0]] + data[pairs[max_index][1]]) * 0.5\n",
    "    theta = np.arccos(np.dot(major_axis, [1,0]) / (2 * major))\n",
    "    return [major, major, center[0], center[1], -theta]"
   ]
  },
  {
   "cell_type": "code",
   "execution_count": 263,
   "metadata": {
    "collapsed": false
   },
   "outputs": [],
   "source": [
    "major, minor, cx, cy, theta = [torch.tensor(val).float() for val in get_initial_values(transformed_data)]"
   ]
  },
  {
   "cell_type": "code",
   "execution_count": 264,
   "metadata": {
    "collapsed": false
   },
   "outputs": [
    {
     "data": {
      "text/plain": [
       "(tensor(2.0091),\n",
       " tensor(2.0091),\n",
       " tensor(0.1288),\n",
       " tensor(0.0305),\n",
       " tensor(-0.1088))"
      ]
     },
     "execution_count": 264,
     "metadata": {},
     "output_type": "execute_result"
    }
   ],
   "source": [
    "major, minor, cx, cy, theta"
   ]
  },
  {
   "cell_type": "code",
   "execution_count": 265,
   "metadata": {
    "collapsed": false
   },
   "outputs": [],
   "source": [
    "model = Ellipse('E', major, major, cx, cy, theta)"
   ]
  },
  {
   "cell_type": "code",
   "execution_count": 266,
   "metadata": {
    "collapsed": true
   },
   "outputs": [],
   "source": [
    "optim = torch.optim.Adam(model.parameters(), 0.001)"
   ]
  },
  {
   "cell_type": "code",
   "execution_count": 267,
   "metadata": {
    "collapsed": true
   },
   "outputs": [],
   "source": [
    "data = torch.from_numpy(transformed_data).float()"
   ]
  },
  {
   "cell_type": "code",
   "execution_count": 269,
   "metadata": {
    "collapsed": false
   },
   "outputs": [
    {
     "name": "stdout",
     "output_type": "stream",
     "text": [
      "5.622718334197998\n",
      "1.4745941162109375\n",
      "0.2737709581851959\n",
      "0.026613885536789894\n"
     ]
    }
   ],
   "source": [
    "for itr in range(2000):\n",
    "    optim.zero_grad()\n",
    "    pred, _, _ = model(data)\n",
    "    loss = torch.sum(pred)\n",
    "    loss.backward()\n",
    "    optim.step()\n",
    "    if (itr%500 == 0):\n",
    "        print(loss.item())"
   ]
  },
  {
   "cell_type": "code",
   "execution_count": 270,
   "metadata": {
    "collapsed": false
   },
   "outputs": [
    {
     "name": "stdout",
     "output_type": "stream",
     "text": [
      "Major: 2.006538005364989 | Minor: 0.9249454576049603 | Center: (0.13214151561260223,-0.002273124409839511) | Rotation: 6.234097643691405\n"
     ]
    },
    {
     "data": {
      "image/png": "[encoded data removed]",
      "text/plain": [
       "<matplotlib.figure.Figure at 0xd985e59c18>"
      ]
     },
     "metadata": {},
     "output_type": "display_data"
    }
   ],
   "source": [
    "model.plot(transformed_data)"
   ]
  },
  {
   "cell_type": "code",
   "execution_count": null,
   "metadata": {
    "collapsed": true
   },
   "outputs": [],
   "source": []
  }
 ],
 "metadata": {
  "kernelspec": {
   "display_name": "Python 3",
   "language": "python",
   "name": "python3"
  },
  "language_info": {
   "codemirror_mode": {
    "name": "ipython",
    "version": 3
   },
   "file_extension": ".py",
   "mimetype": "text/x-python",
   "name": "python",
   "nbconvert_exporter": "python",
   "pygments_lexer": "ipython3",
   "version": "3.6.1"
  }
 },
 "nbformat": 4,
 "nbformat_minor": 2
}
