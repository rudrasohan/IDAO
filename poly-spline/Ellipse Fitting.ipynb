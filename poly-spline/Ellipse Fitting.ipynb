{
 "cells": [
  {
   "cell_type": "code",
   "execution_count": 1,
   "metadata": {},
   "outputs": [],
   "source": [
    "import pandas as pd\n",
    "import numpy as np\n",
    "import matplotlib.pyplot as plt\n",
    "%matplotlib inline"
   ]
  },
  {
   "cell_type": "code",
   "execution_count": 2,
   "metadata": {
    "scrolled": true
   },
   "outputs": [],
   "source": [
    "import torch\n",
    "import torch.nn as nn\n",
    "import visdom"
   ]
  },
  {
   "cell_type": "code",
   "execution_count": 3,
   "metadata": {},
   "outputs": [
    {
     "name": "stderr",
     "output_type": "stream",
     "text": [
      "Setting up a new session...\n"
     ]
    }
   ],
   "source": [
    "vis = visdom.Visdom()"
   ]
  },
  {
   "cell_type": "code",
   "execution_count": 4,
   "metadata": {},
   "outputs": [],
   "source": [
    "from preprocessing_utils import process_sat_data, pickle_save, pickle_load\n",
    "from trajectory import trajectory"
   ]
  },
  {
   "cell_type": "code",
   "execution_count": 5,
   "metadata": {},
   "outputs": [],
   "source": [
    "data_train = pd.read_csv('../data/train.csv')\n",
    "data_test = pd.read_csv('../data/track1/test.csv')"
   ]
  },
  {
   "cell_type": "code",
   "execution_count": 6,
   "metadata": {},
   "outputs": [],
   "source": [
    "train_data = data_train.copy(deep=True)\n",
    "test_data = data_test.copy(deep=True)"
   ]
  },
  {
   "cell_type": "code",
   "execution_count": 7,
   "metadata": {},
   "outputs": [],
   "source": [
    "process_sat_data(train_data, test_data, scale=10000)"
   ]
  },
  {
   "cell_type": "markdown",
   "metadata": {},
   "source": [
    "# Rodrigues Rotation"
   ]
  },
  {
   "cell_type": "markdown",
   "metadata": {},
   "source": [
    "$ {\\displaystyle \\mathbf {v} _{\\mathrm {rot} }=\\mathbf {v} \\cos \\theta +(\\mathbf {k} \\times \\mathbf {v} )\\sin \\theta +\\mathbf {k} ~(\\mathbf {k} \\cdot \\mathbf {v} )(1-\\cos \\theta )\\,} $"
   ]
  },
  {
   "cell_type": "code",
   "execution_count": 8,
   "metadata": {},
   "outputs": [],
   "source": [
    "sat_id = 481\n",
    "ellipse_id = 1\n",
    "ellipse_data = train_data[train_data['sat_id'] == sat_id].loc[:, ['x_sim', 'y_sim', 'z_sim', 'epoch']]\n",
    "ellipse_data = ellipse_data.iloc[ellipse_id * 24 : (ellipse_id + 1) * 24, :]\n",
    "time = ellipse_data['epoch'].values\n",
    "ellipse_data = ellipse_data.iloc[:, [0,1,2]].values\n",
    "ellipse_mean = ellipse_data.mean(axis=0)\n",
    "ellipse_data -= ellipse_mean #mean"
   ]
  },
  {
   "cell_type": "code",
   "execution_count": 9,
   "metadata": {},
   "outputs": [],
   "source": [
    "ellipse_normal = np.cross(ellipse_data[0]-ellipse_data[1], ellipse_data[0]-ellipse_data[2])\n",
    "ellipse_normal /= np.linalg.norm(ellipse_normal)\n",
    "if (ellipse_normal[2] < 0):\n",
    "    ellipse_normal *= -1"
   ]
  },
  {
   "cell_type": "code",
   "execution_count": 10,
   "metadata": {},
   "outputs": [
    {
     "data": {
      "text/plain": [
       "array([  1.89291810e-03,  -6.11574389e-04,   9.99998021e-01])"
      ]
     },
     "execution_count": 10,
     "metadata": {},
     "output_type": "execute_result"
    }
   ],
   "source": [
    "ellipse_normal"
   ]
  },
  {
   "cell_type": "code",
   "execution_count": 11,
   "metadata": {},
   "outputs": [],
   "source": [
    "z_axis = np.array([0,0,1])\n",
    "from copy import copy"
   ]
  },
  {
   "cell_type": "code",
   "execution_count": 12,
   "metadata": {},
   "outputs": [],
   "source": [
    "theta = np.arccos(np.dot(ellipse_normal, z_axis))\n",
    "thet = copy(theta)"
   ]
  },
  {
   "cell_type": "code",
   "execution_count": 13,
   "metadata": {},
   "outputs": [
    {
     "data": {
      "text/plain": [
       "0.1139763758306853"
      ]
     },
     "execution_count": 13,
     "metadata": {},
     "output_type": "execute_result"
    }
   ],
   "source": [
    "theta / np.pi * 180"
   ]
  },
  {
   "cell_type": "code",
   "execution_count": 14,
   "metadata": {},
   "outputs": [],
   "source": [
    "rotation_axis = np.cross(ellipse_normal, z_axis)\n",
    "rotation_axis /= np.linalg.norm(rotation_axis)"
   ]
  },
  {
   "cell_type": "code",
   "execution_count": 15,
   "metadata": {},
   "outputs": [
    {
     "data": {
      "text/plain": [
       "array([-0.30743787, -0.95156816,  0.        ])"
      ]
     },
     "execution_count": 15,
     "metadata": {},
     "output_type": "execute_result"
    }
   ],
   "source": [
    "rotation_axis"
   ]
  },
  {
   "cell_type": "code",
   "execution_count": 16,
   "metadata": {},
   "outputs": [],
   "source": [
    "def rodrigues_rotate(vect, axis, theta):\n",
    "    rotated = vect * np.cos(theta)\n",
    "    rotated += np.cross(axis, vect) * np.sin(theta)\n",
    "    rotated += axis * np.dot(z_axis, vect) * (1 - np.cos(theta))\n",
    "    return rotated"
   ]
  },
  {
   "cell_type": "code",
   "execution_count": 17,
   "metadata": {},
   "outputs": [],
   "source": [
    "rotated = rodrigues_rotate(ellipse_normal, rotation_axis, theta)"
   ]
  },
  {
   "cell_type": "code",
   "execution_count": 18,
   "metadata": {},
   "outputs": [
    {
     "data": {
      "text/plain": [
       "1.0000000000019573"
      ]
     },
     "execution_count": 18,
     "metadata": {},
     "output_type": "execute_result"
    }
   ],
   "source": [
    "np.linalg.norm(rotated)"
   ]
  },
  {
   "cell_type": "code",
   "execution_count": 19,
   "metadata": {},
   "outputs": [
    {
     "data": {
      "text/plain": [
       "array([-6.08290179e-07, -1.88275289e-06,  1.00000000e+00])"
      ]
     },
     "execution_count": 19,
     "metadata": {},
     "output_type": "execute_result"
    }
   ],
   "source": [
    "rotated"
   ]
  },
  {
   "cell_type": "code",
   "execution_count": 20,
   "metadata": {},
   "outputs": [],
   "source": [
    "transformed_data = np.array([rodrigues_rotate(vect, rotation_axis, theta) for vect in ellipse_data])"
   ]
  },
  {
   "cell_type": "code",
   "execution_count": 21,
   "metadata": {},
   "outputs": [
    {
     "data": {
      "text/plain": [
       "array([4.50406270e+00, 4.62090575e+00, 9.09804669e-04])"
      ]
     },
     "execution_count": 21,
     "metadata": {},
     "output_type": "execute_result"
    }
   ],
   "source": [
    "np.abs(transformed_data).mean(axis=0)"
   ]
  },
  {
   "cell_type": "code",
   "execution_count": 22,
   "metadata": {},
   "outputs": [],
   "source": [
    "def plot_rotation(ellipse_normal, rotation_axis, rotated, transformed_data, ellipse_data):\n",
    "    normal_line = np.array([i * ellipse_normal for i in range(10)])\n",
    "    axis_line = np.array([i * rotation_axis for i in range(10)])\n",
    "    rotated_line = np.array([i * rotated for i in range(10)])\n",
    "    labels = [1] * (len(ellipse_data)+len(normal_line)) + [2] * (len(transformed_data)+len(rotated_line)) + [3] * len(axis_line)\n",
    "    concat = np.concatenate([ellipse_data, normal_line, transformed_data, rotated_line, axis_line], axis=0)\n",
    "    vis.scatter(concat, labels, opts={'markersize': 3}, win='rotation')"
   ]
  },
  {
   "cell_type": "code",
   "execution_count": 23,
   "metadata": {},
   "outputs": [],
   "source": [
    "plot_rotation(ellipse_normal, rotation_axis, rotated, transformed_data, ellipse_data)"
   ]
  },
  {
   "cell_type": "code",
   "execution_count": 24,
   "metadata": {},
   "outputs": [],
   "source": [
    "transformed_data = transformed_data[:,[0,1]]"
   ]
  },
  {
   "cell_type": "markdown",
   "metadata": {},
   "source": [
    "# 2D Ellipse Fitting"
   ]
  },
  {
   "cell_type": "code",
   "execution_count": 38,
   "metadata": {},
   "outputs": [],
   "source": [
    "class Ellipse(nn.Module):\n",
    "    def __init__(self, name, major, minor, cx, cy, theta):\n",
    "        super(Ellipse, self).__init__()\n",
    "        self.name = name\n",
    "        self.a = nn.Parameter(1/(major**2))\n",
    "        self.b = nn.Parameter(1/(minor**2))\n",
    "        self.cx = nn.Parameter(cx)\n",
    "        self.cy = nn.Parameter(cy)\n",
    "        self.theta = nn.Parameter(theta)\n",
    "    def forward(self, data):\n",
    "        x_rot = data[:,0] - self.cx\n",
    "        y_rot = data[:,1] - self.cy\n",
    "        x = x_rot * torch.cos(self.theta) - y_rot * torch.sin(self.theta)\n",
    "        y = x_rot * torch.sin(self.theta) + y_rot * torch.cos(self.theta)\n",
    "        res = (self.a * x**2 + self.b * y**2 - 1) ** 2\n",
    "        return [res, x, y]\n",
    "    def plot(self, data):\n",
    "        major = np.sqrt(1 / self.a.detach().numpy())\n",
    "        minor = np.sqrt(1 / self.b.detach().numpy())\n",
    "        theta = -self.theta.detach().numpy()\n",
    "        cx = self.cx.detach().numpy()\n",
    "        cy = self.cy.detach().numpy()\n",
    "        print('Major: {} | Minor: {} | Center: ({},{}) | Rotation: {}'.format(major, minor, cx, cy, theta*180/np.pi))\n",
    "        generated = []\n",
    "        for x in np.arange(-major, major, 0.01):\n",
    "            y = np.sqrt((1 - x**2 / major**2) * minor**2)\n",
    "            generated.append([x,y])\n",
    "            generated.append([x,-y])\n",
    "        generated = np.array(generated)\n",
    "        generated_transformed = np.transpose(np.array([generated[:,0] * np.cos(theta) - generated[:,1] * np.sin(theta),\n",
    "                                                       generated[:,0] * np.sin(theta) + generated[:,1] * np.cos(theta)]))\n",
    "        generated_transformed += [cx, cy]\n",
    "        self.points_2D = generated_transformed\n",
    "        plt.scatter(data[:,0], data[:,1])\n",
    "        plt.scatter(generated_transformed[:,0], generated_transformed[:,1], c='green', s=0.5)"
   ]
  },
  {
   "cell_type": "code",
   "execution_count": 39,
   "metadata": {},
   "outputs": [],
   "source": [
    "def get_initial_values(data):\n",
    "    euclidian = []\n",
    "    pairs = []\n",
    "    for i in range(23):\n",
    "        for j in range(i + 1, 24):\n",
    "            euclidian_distance = np.linalg.norm(data[i] - data[j])\n",
    "            pairs.append([i, j])\n",
    "            euclidian.append(euclidian_distance)\n",
    "    max_index = np.argmax(euclidian) #Index of Longest Chord\n",
    "    major_axis = data[pairs[max_index][0]] - data[pairs[max_index][1]]\n",
    "    if (major_axis[1] < 0):\n",
    "        major_axis *= -1\n",
    "    major = np.linalg.norm(major_axis) / 2\n",
    "    center = (data[pairs[max_index][0]] + data[pairs[max_index][1]]) * 0.5\n",
    "    theta = np.arccos(np.dot(major_axis, [1,0]) / (2 * major))\n",
    "    return [major, major, center[0], center[1], -theta]"
   ]
  },
  {
   "cell_type": "code",
   "execution_count": 40,
   "metadata": {},
   "outputs": [],
   "source": [
    "major, minor, cx, cy, theta = [torch.tensor(val).float() for val in get_initial_values(transformed_data)]"
   ]
  },
  {
   "cell_type": "code",
   "execution_count": 41,
   "metadata": {},
   "outputs": [
    {
     "data": {
      "text/plain": [
       "(tensor(8.2729),\n",
       " tensor(8.2729),\n",
       " tensor(-0.7743),\n",
       " tensor(-2.1286),\n",
       " tensor(-1.1253))"
      ]
     },
     "execution_count": 41,
     "metadata": {},
     "output_type": "execute_result"
    }
   ],
   "source": [
    "major, minor, cx, cy, theta"
   ]
  },
  {
   "cell_type": "code",
   "execution_count": 42,
   "metadata": {},
   "outputs": [],
   "source": [
    "model = Ellipse('E', major, major, cx, cy, theta)"
   ]
  },
  {
   "cell_type": "code",
   "execution_count": 43,
   "metadata": {},
   "outputs": [],
   "source": [
    "optim = torch.optim.Adam(model.parameters(), 0.001)"
   ]
  },
  {
   "cell_type": "code",
   "execution_count": 44,
   "metadata": {},
   "outputs": [],
   "source": [
    "data = torch.from_numpy(transformed_data).float()"
   ]
  },
  {
   "cell_type": "code",
   "execution_count": 45,
   "metadata": {},
   "outputs": [
    {
     "name": "stdout",
     "output_type": "stream",
     "text": [
      "0.8510955572128296\n",
      "0.004961920902132988\n",
      "2.42545847868314e-05\n",
      "2.1212386513980164e-07\n"
     ]
    }
   ],
   "source": [
    "for itr in range(2000):\n",
    "    optim.zero_grad()\n",
    "    pred, _, _ = model(data)\n",
    "    loss = torch.sum(pred)\n",
    "    loss.backward()\n",
    "    optim.step()\n",
    "    if (itr%500 == 0):\n",
    "        print(loss.item())"
   ]
  },
  {
   "cell_type": "code",
   "execution_count": 46,
   "metadata": {
    "scrolled": true
   },
   "outputs": [
    {
     "name": "stdout",
     "output_type": "stream",
     "text": [
      "Major: 8.308999387232289 | Minor: 6.95976465761189 | Center: (-1.1899152994155884,-1.951551914215088) | Rotation: 58.45036835075962\n"
     ]
    },
    {
     "data": {
      "image/png": "[encoded data removed]",
      "text/plain": [
       "<matplotlib.figure.Figure at 0x7f7ae0dce208>"
      ]
     },
     "metadata": {},
     "output_type": "display_data"
    }
   ],
   "source": [
    "model.plot(transformed_data)\n",
    "points_2d = model.points_2D"
   ]
  },
  {
   "cell_type": "code",
   "execution_count": 47,
   "metadata": {},
   "outputs": [],
   "source": [
    "shape_3d = (points_2d.shape[0], points_2d.shape[1]+1)\n",
    "points_3d = np.zeros(shape_3d)\n",
    "points_3d[:,[0,1]] = points_2d"
   ]
  },
  {
   "cell_type": "code",
   "execution_count": 48,
   "metadata": {},
   "outputs": [],
   "source": [
    "transformed_data_rev = np.array([rodrigues_rotate(vect, rotation_axis, -thet) for vect in points_3d])"
   ]
  },
  {
   "cell_type": "code",
   "execution_count": 50,
   "metadata": {},
   "outputs": [
    {
     "data": {
      "text/plain": [
       "'sim'"
      ]
     },
     "execution_count": 50,
     "metadata": {},
     "output_type": "execute_result"
    }
   ],
   "source": [
    "vis.scatter(transformed_data_rev, opts={'markersize': 3}, win='sim')"
   ]
  },
  {
   "cell_type": "code",
   "execution_count": 51,
   "metadata": {},
   "outputs": [
    {
     "data": {
      "text/plain": [
       "'orig'"
      ]
     },
     "execution_count": 51,
     "metadata": {},
     "output_type": "execute_result"
    }
   ],
   "source": [
    "vis.scatter(ellipse_data, opts={'markersize': 3}, win='orig')"
   ]
  },
  {
   "cell_type": "code",
   "execution_count": null,
   "metadata": {},
   "outputs": [],
   "source": []
  }
 ],
 "metadata": {
  "kernelspec": {
   "display_name": "Python 3",
   "language": "python",
   "name": "python3"
  },
  "language_info": {
   "codemirror_mode": {
    "name": "ipython",
    "version": 3
   },
   "file_extension": ".py",
   "mimetype": "text/x-python",
   "name": "python",
   "nbconvert_exporter": "python",
   "pygments_lexer": "ipython3",
   "version": "3.5.2"
  }
 },
 "nbformat": 4,
 "nbformat_minor": 2
}
