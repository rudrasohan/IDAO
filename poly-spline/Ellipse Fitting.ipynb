{
 "cells": [
  {
   "cell_type": "code",
   "execution_count": 1,
   "metadata": {
    "collapsed": true
   },
   "outputs": [],
   "source": [
    "import pandas as pd\n",
    "import numpy as np\n",
    "import matplotlib.pyplot as plt\n",
    "%matplotlib inline"
   ]
  },
  {
   "cell_type": "code",
   "execution_count": 2,
   "metadata": {
    "collapsed": true
   },
   "outputs": [],
   "source": [
    "import torch\n",
    "import torch.nn as nn\n",
    "import visdom"
   ]
  },
  {
   "cell_type": "code",
   "execution_count": 3,
   "metadata": {
    "collapsed": false
   },
   "outputs": [
    {
     "name": "stderr",
     "output_type": "stream",
     "text": [
      "Setting up a new session...\n"
     ]
    }
   ],
   "source": [
    "vis = visdom.Visdom()"
   ]
  },
  {
   "cell_type": "code",
   "execution_count": 4,
   "metadata": {
    "collapsed": true
   },
   "outputs": [],
   "source": [
    "from preprocessing_utils import process_sat_data, pickle_save, pickle_load\n",
    "from trajectory import trajectory"
   ]
  },
  {
   "cell_type": "code",
   "execution_count": 5,
   "metadata": {
    "collapsed": true
   },
   "outputs": [],
   "source": [
    "data_train = pd.read_csv('../data/train.csv')\n",
    "data_test = pd.read_csv('../data/track1/test.csv')"
   ]
  },
  {
   "cell_type": "code",
   "execution_count": 6,
   "metadata": {
    "collapsed": true
   },
   "outputs": [],
   "source": [
    "train_data = data_train.copy(deep=True)\n",
    "test_data = data_test.copy(deep=True)"
   ]
  },
  {
   "cell_type": "code",
   "execution_count": 7,
   "metadata": {
    "collapsed": false
   },
   "outputs": [],
   "source": [
    "process_sat_data(train_data, test_data, scale=10000)"
   ]
  },
  {
   "cell_type": "markdown",
   "metadata": {},
   "source": [
    "# Rodrigues Rotation"
   ]
  },
  {
   "cell_type": "markdown",
   "metadata": {},
   "source": [
    "$ {\\displaystyle \\mathbf {v} _{\\mathrm {rot} }=\\mathbf {v} \\cos \\theta +(\\mathbf {k} \\times \\mathbf {v} )\\sin \\theta +\\mathbf {k} ~(\\mathbf {k} \\cdot \\mathbf {v} )(1-\\cos \\theta )\\,} $"
   ]
  },
  {
   "cell_type": "code",
   "execution_count": 8,
   "metadata": {
    "collapsed": false
   },
   "outputs": [],
   "source": [
    "sat_id = 1\n",
    "ellipse_id = 3\n",
    "ellipse_data = train_data[train_data['sat_id'] == sat_id].loc[:, ['x_sim', 'y_sim', 'z_sim', 'epoch']]\n",
    "ellipse_data = ellipse_data.iloc[ellipse_id * 24 : (ellipse_id + 1) * 24, :]\n",
    "time = ellipse_data['epoch'].values\n",
    "ellipse_data = ellipse_data.iloc[:, [0,1,2]].values\n",
    "ellipse_mean = ellipse_data.mean(axis=0)\n",
    "ellipse_data -= ellipse_mean"
   ]
  },
  {
   "cell_type": "code",
   "execution_count": 9,
   "metadata": {
    "collapsed": false
   },
   "outputs": [],
   "source": [
    "ellipse_normal = np.cross(ellipse_data[0]-ellipse_data[1], ellipse_data[0]-ellipse_data[2])\n",
    "ellipse_normal /= np.linalg.norm(ellipse_normal)\n",
    "if (ellipse_normal[2] < 0):\n",
    "    ellipse_normal *= -1"
   ]
  },
  {
   "cell_type": "code",
   "execution_count": 10,
   "metadata": {
    "collapsed": false
   },
   "outputs": [
    {
     "data": {
      "text/plain": [
       "array([-0.14191971,  0.46144182,  0.87574554])"
      ]
     },
     "execution_count": 10,
     "metadata": {},
     "output_type": "execute_result"
    }
   ],
   "source": [
    "ellipse_normal"
   ]
  },
  {
   "cell_type": "code",
   "execution_count": 11,
   "metadata": {
    "collapsed": true
   },
   "outputs": [],
   "source": [
    "z_axis = np.array([0,0,1])"
   ]
  },
  {
   "cell_type": "code",
   "execution_count": 12,
   "metadata": {
    "collapsed": true
   },
   "outputs": [],
   "source": [
    "theta = np.arccos(np.dot(ellipse_normal, z_axis))"
   ]
  },
  {
   "cell_type": "code",
   "execution_count": 13,
   "metadata": {
    "collapsed": false
   },
   "outputs": [
    {
     "data": {
      "text/plain": [
       "57.733334785425953"
      ]
     },
     "execution_count": 13,
     "metadata": {},
     "output_type": "execute_result"
    }
   ],
   "source": [
    "theta / np.pi * 360"
   ]
  },
  {
   "cell_type": "code",
   "execution_count": 14,
   "metadata": {
    "collapsed": false
   },
   "outputs": [],
   "source": [
    "rotation_axis = np.cross(ellipse_normal, z_axis)\n",
    "rotation_axis /= np.linalg.norm(rotation_axis)"
   ]
  },
  {
   "cell_type": "code",
   "execution_count": 15,
   "metadata": {
    "collapsed": false
   },
   "outputs": [
    {
     "data": {
      "text/plain": [
       "array([ 0.95581533,  0.29396778, -0.        ])"
      ]
     },
     "execution_count": 15,
     "metadata": {},
     "output_type": "execute_result"
    }
   ],
   "source": [
    "rotation_axis"
   ]
  },
  {
   "cell_type": "code",
   "execution_count": null,
   "metadata": {
    "collapsed": true
   },
   "outputs": [],
   "source": []
  },
  {
   "cell_type": "code",
   "execution_count": 16,
   "metadata": {
    "collapsed": true
   },
   "outputs": [],
   "source": [
    "def rodrigues_rotate(vect, axis, theta):\n",
    "    rotated = vect * np.cos(theta)\n",
    "    rotated += np.cross(axis, vect) * np.sin(theta)\n",
    "    rotated += axis * np.dot(z_axis, vect) * (1 - np.cos(theta))\n",
    "    return rotated"
   ]
  },
  {
   "cell_type": "code",
   "execution_count": 17,
   "metadata": {
    "collapsed": false
   },
   "outputs": [],
   "source": [
    "rotated = rodrigues_rotate(ellipse_normal, rotation_axis, theta)"
   ]
  },
  {
   "cell_type": "code",
   "execution_count": 18,
   "metadata": {
    "collapsed": false
   },
   "outputs": [
    {
     "data": {
      "text/plain": [
       "1.005902961509878"
      ]
     },
     "execution_count": 18,
     "metadata": {},
     "output_type": "execute_result"
    }
   ],
   "source": [
    "np.linalg.norm(rotated)"
   ]
  },
  {
   "cell_type": "code",
   "execution_count": 19,
   "metadata": {
    "collapsed": false
   },
   "outputs": [
    {
     "data": {
      "text/plain": [
       "array([ 0.10400732,  0.03198819,  1.        ])"
      ]
     },
     "execution_count": 19,
     "metadata": {},
     "output_type": "execute_result"
    }
   ],
   "source": [
    "rotated"
   ]
  },
  {
   "cell_type": "code",
   "execution_count": 20,
   "metadata": {
    "collapsed": false
   },
   "outputs": [],
   "source": [
    "transformed_data = np.array([rodrigues_rotate(vect, rotation_axis, theta) for vect in ellipse_data])"
   ]
  },
  {
   "cell_type": "code",
   "execution_count": 21,
   "metadata": {
    "collapsed": false
   },
   "outputs": [
    {
     "data": {
      "text/plain": [
       "array([  1.11730685e+00,   1.15571327e+00,   4.36417967e-04])"
      ]
     },
     "execution_count": 21,
     "metadata": {},
     "output_type": "execute_result"
    }
   ],
   "source": [
    "np.abs(transformed_data).mean(axis=0)"
   ]
  },
  {
   "cell_type": "code",
   "execution_count": 22,
   "metadata": {
    "collapsed": true
   },
   "outputs": [],
   "source": [
    "transformed_data = transformed_data[:,[0,1]]"
   ]
  },
  {
   "cell_type": "markdown",
   "metadata": {},
   "source": [
    "# 2D Ellipse Fitting"
   ]
  },
  {
   "cell_type": "code",
   "execution_count": 23,
   "metadata": {
    "collapsed": false
   },
   "outputs": [],
   "source": [
    "class Ellipse(nn.Module):\n",
    "    def __init__(self, name, major, minor, cx, cy, theta):\n",
    "        super(Ellipse, self).__init__()\n",
    "        self.name = name\n",
    "        self.a = nn.Parameter(1/(major**2))\n",
    "        self.b = nn.Parameter(1/(minor**2))\n",
    "        self.cx = nn.Parameter(cx)\n",
    "        self.cy = nn.Parameter(cy)\n",
    "        self.theta = nn.Parameter(theta)\n",
    "    def forward(self, data):\n",
    "        x_rot = data[:,0] - self.cx\n",
    "        y_rot = data[:,1] - self.cy\n",
    "        x = x_rot * torch.cos(theta) - y_rot * torch.sin(theta)\n",
    "        y = x_rot * torch.sin(theta) + y_rot * torch.cos(theta)\n",
    "        res = (self.a * x**2 + self.b * y**2 - 1) ** 2\n",
    "        return res\n",
    "    def plot(self, data):\n",
    "        major = np.sqrt(1 / self.a.detach().numpy())\n",
    "        minor = np.sqrt(1 / self.b.detach().numpy())\n",
    "        theta = -self.theta.detach().numpy()\n",
    "        cx = self.cx.detach().numpy()\n",
    "        cy = self.cy.detach().numpy()\n",
    "        generated = []\n",
    "        for x in np.arange(-major, major, 0.01):\n",
    "            y = np.sqrt((1 - x**2 / major**2) * minor**2)\n",
    "            generated.append([x,y])\n",
    "            generated.append([x,-y])\n",
    "        generated = np.array(generated)\n",
    "        generated_transformed = np.transpose(np.array([generated[:,0] * np.cos(theta) - generated[:,1] * np.sin(theta),\n",
    "                                                       generated[:,0] * np.sin(theta) + generated[:,1] * np.cos(theta)]))\n",
    "        generated_transformed += [cx, cy]\n",
    "        plt.scatter(data[:,0], data[:,1])\n",
    "        plt.scatter(generated_transformed[:,0], generated_transformed[:,1], c='green', s=0.5)"
   ]
  },
  {
   "cell_type": "code",
   "execution_count": 24,
   "metadata": {
    "collapsed": true
   },
   "outputs": [],
   "source": [
    "def get_initial_values(data):\n",
    "    euclidian = []\n",
    "    pairs = []\n",
    "    for i in range(23):\n",
    "        for j in range(i + 1, 24):\n",
    "            euclidian_distance = np.linalg.norm(data[i] - data[j])\n",
    "            pairs.append([i, j])\n",
    "            euclidian.append(euclidian_distance)\n",
    "    max_index = np.argmax(euclidian) #Index of Longest Chord\n",
    "    major_axis = data[pairs[max_index][0]] - data[pairs[max_index][1]]\n",
    "    if (major_axis[1] < 0):\n",
    "        major_axis *= -1\n",
    "    major = np.linalg.norm(major_axis) / 2\n",
    "    center = (data[pairs[max_index][0]] + data[pairs[max_index][1]]) * 0.5\n",
    "    theta = np.dot(major_axis, [1,0]) / (2 * major)\n",
    "    return [major, 1, center[0], center[1], -theta]"
   ]
  },
  {
   "cell_type": "code",
   "execution_count": 25,
   "metadata": {
    "collapsed": false
   },
   "outputs": [],
   "source": [
    "major, minor, cx, cy, theta = [torch.tensor(val).float() for val in get_initial_values(transformed_data)]"
   ]
  },
  {
   "cell_type": "code",
   "execution_count": 26,
   "metadata": {
    "collapsed": false
   },
   "outputs": [
    {
     "data": {
      "text/plain": [
       "(tensor(2.0497), tensor(1.), tensor(0.3737), tensor(-0.2397), tensor(0.7584))"
      ]
     },
     "execution_count": 26,
     "metadata": {},
     "output_type": "execute_result"
    }
   ],
   "source": [
    "major, minor, cx, cy, theta"
   ]
  },
  {
   "cell_type": "code",
   "execution_count": 27,
   "metadata": {
    "collapsed": false
   },
   "outputs": [],
   "source": [
    "model = Ellipse('E', major, major, cx, cy, theta)"
   ]
  },
  {
   "cell_type": "code",
   "execution_count": 28,
   "metadata": {
    "collapsed": true
   },
   "outputs": [],
   "source": [
    "optim = torch.optim.Adam(model.parameters(), 0.001)"
   ]
  },
  {
   "cell_type": "code",
   "execution_count": 29,
   "metadata": {
    "collapsed": true
   },
   "outputs": [],
   "source": [
    "data = torch.from_numpy(transformed_data).float()"
   ]
  },
  {
   "cell_type": "code",
   "execution_count": 30,
   "metadata": {
    "collapsed": false
   },
   "outputs": [
    {
     "name": "stdout",
     "output_type": "stream",
     "text": [
      "1.1051628589630127\n",
      "0.08868110179901123\n",
      "0.00800667330622673\n",
      "0.005615338683128357\n",
      "0.005600712262094021\n",
      "0.005600709468126297\n",
      "0.005600709468126297\n",
      "0.0056007020175457\n",
      "0.005600693169981241\n",
      "0.0056006889790296555\n"
     ]
    }
   ],
   "source": [
    "for itr in range(1000):\n",
    "    optim.zero_grad()\n",
    "    pred = model(data)\n",
    "    loss = torch.sum(pred)\n",
    "    loss.backward()\n",
    "    optim.step()\n",
    "    if (itr%100 == 0):\n",
    "        print(loss.item())"
   ]
  },
  {
   "cell_type": "code",
   "execution_count": 31,
   "metadata": {
    "collapsed": false
   },
   "outputs": [
    {
     "data": {
      "image/png": "[encoded data removed]",
      "text/plain": [
       "<matplotlib.figure.Figure at 0x262a9f9588>"
      ]
     },
     "metadata": {},
     "output_type": "display_data"
    }
   ],
   "source": [
    "model.plot(transformed_data)"
   ]
  },
  {
   "cell_type": "code",
   "execution_count": null,
   "metadata": {
    "collapsed": true
   },
   "outputs": [],
   "source": []
  }
 ],
 "metadata": {
  "kernelspec": {
   "display_name": "Python 3",
   "language": "python",
   "name": "python3"
  },
  "language_info": {
   "codemirror_mode": {
    "name": "ipython",
    "version": 3
   },
   "file_extension": ".py",
   "mimetype": "text/x-python",
   "name": "python",
   "nbconvert_exporter": "python",
   "pygments_lexer": "ipython3",
   "version": "3.6.1"
  }
 },
 "nbformat": 4,
 "nbformat_minor": 2
}
