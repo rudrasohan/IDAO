{
 "cells": [
  {
   "cell_type": "code",
   "execution_count": 1,
   "metadata": {
    "collapsed": true
   },
   "outputs": [],
   "source": [
    "import pandas as pd\n",
    "import numpy as np\n",
    "from datetime import datetime"
   ]
  },
  {
   "cell_type": "code",
   "execution_count": 2,
   "metadata": {
    "collapsed": true
   },
   "outputs": [],
   "source": [
    "data_train = pd.read_csv('../data/train.csv')\n",
    "data_test = pd.read_csv('../data/track1/test.csv')"
   ]
  },
  {
   "cell_type": "code",
   "execution_count": 3,
   "metadata": {
    "collapsed": true
   },
   "outputs": [],
   "source": [
    "train_data = data_train.copy()\n",
    "test_data = data_test.copy()"
   ]
  },
  {
   "cell_type": "code",
   "execution_count": 4,
   "metadata": {
    "collapsed": true
   },
   "outputs": [],
   "source": [
    "def format_time(data):\n",
    "    time = []\n",
    "    for t in data['epoch']:\n",
    "        time.append(datetime.strptime(t,\"%Y-%m-%dT%H:%M:%S.%f\"))\n",
    "    time = np.array(time)\n",
    "    time -= datetime(2014, 1, 1)\n",
    "    time = [t.total_seconds() for t in time]\n",
    "    return time"
   ]
  },
  {
   "cell_type": "code",
   "execution_count": 5,
   "metadata": {
    "collapsed": true
   },
   "outputs": [],
   "source": [
    "def scale_data(data_train, data_test, scale):\n",
    "    cols_sim = ['x_sim', 'y_sim', 'z_sim', 'epoch']\n",
    "    cols_real = ['x', 'y', 'z']\n",
    "    for col in cols_sim:\n",
    "        data_train[col] /= scale\n",
    "        data_test[col] /= scale\n",
    "    for col in cols_real:\n",
    "        data_train[col] /= scale"
   ]
  },
  {
   "cell_type": "code",
   "execution_count": 6,
   "metadata": {
    "collapsed": true
   },
   "outputs": [],
   "source": [
    "def generate_labels(n):\n",
    "    labels = []\n",
    "    for i in range(0,n):\n",
    "        labels.append(i%24 + 1)\n",
    "    label = np.array(labels)\n",
    "    return labels"
   ]
  },
  {
   "cell_type": "code",
   "execution_count": 7,
   "metadata": {
    "collapsed": true
   },
   "outputs": [],
   "source": [
    "def cluster_data(data_train, data_test):\n",
    "    clusters_train = np.array([])\n",
    "    clusters_test = np.array([])\n",
    "    for sat_id in range(600):\n",
    "        sat_train = data_train[data_train['sat_id'] == sat_id]\n",
    "        sat_test = data_test[data_test['sat_id'] == sat_id]\n",
    "        sep = sat_train.shape[0]\n",
    "        labels = generate_labels(sep + sat_test.shape[0])\n",
    "        clusters_train = np.concatenate([clusters_train, labels[:sep]])\n",
    "        clusters_test = np.concatenate([clusters_test, labels[sep:]])\n",
    "    data_train['cluster'] = clusters_train\n",
    "    data_test['cluster'] = clusters_test"
   ]
  },
  {
   "cell_type": "code",
   "execution_count": 8,
   "metadata": {
    "collapsed": false
   },
   "outputs": [],
   "source": [
    "def process_sat_data(data_train, data_test, scale=10000):\n",
    "    data_train['epoch'] = format_time(data_train)\n",
    "    data_test['epoch'] = format_time(data_test)\n",
    "    scale_data(data_train, data_test, scale)\n",
    "    cluster_data(data_train, data_test)"
   ]
  },
  {
   "cell_type": "code",
   "execution_count": 9,
   "metadata": {
    "collapsed": false
   },
   "outputs": [],
   "source": [
    "process_sat_data(train_data, test_data)"
   ]
  },
  {
   "cell_type": "code",
   "execution_count": null,
   "metadata": {
    "collapsed": true
   },
   "outputs": [],
   "source": []
  }
 ],
 "metadata": {
  "kernelspec": {
   "display_name": "Python 3",
   "language": "python",
   "name": "python3"
  },
  "language_info": {
   "codemirror_mode": {
    "name": "ipython",
    "version": 3
   },
   "file_extension": ".py",
   "mimetype": "text/x-python",
   "name": "python",
   "nbconvert_exporter": "python",
   "pygments_lexer": "ipython3",
   "version": "3.6.1"
  }
 },
 "nbformat": 4,
 "nbformat_minor": 2
}
