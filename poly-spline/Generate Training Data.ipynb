{
 "cells": [
  {
   "cell_type": "code",
   "execution_count": 1,
   "metadata": {
    "collapsed": true
   },
   "outputs": [],
   "source": [
    "import pandas as pd\n",
    "import numpy as np\n",
    "import matplotlib.pyplot as plt\n",
    "%matplotlib inline"
   ]
  },
  {
   "cell_type": "code",
   "execution_count": 2,
   "metadata": {
    "collapsed": true
   },
   "outputs": [],
   "source": [
    "from preprocessing_utils import process_sat_data"
   ]
  },
  {
   "cell_type": "code",
   "execution_count": 3,
   "metadata": {
    "collapsed": true
   },
   "outputs": [],
   "source": [
    "import visdom"
   ]
  },
  {
   "cell_type": "code",
   "execution_count": 4,
   "metadata": {
    "collapsed": false
   },
   "outputs": [
    {
     "name": "stderr",
     "output_type": "stream",
     "text": [
      "Setting up a new session...\n"
     ]
    }
   ],
   "source": [
    "vis = visdom.Visdom()"
   ]
  },
  {
   "cell_type": "code",
   "execution_count": 5,
   "metadata": {
    "collapsed": true
   },
   "outputs": [],
   "source": [
    "data_train = pd.read_csv('../data/train.csv')\n",
    "data_test = pd.read_csv('../data/track1/test.csv')"
   ]
  },
  {
   "cell_type": "code",
   "execution_count": 6,
   "metadata": {
    "collapsed": true
   },
   "outputs": [],
   "source": [
    "train_data = data_train.copy(deep=True)\n",
    "test_data = data_test.copy(deep=True)"
   ]
  },
  {
   "cell_type": "code",
   "execution_count": 7,
   "metadata": {
    "collapsed": false
   },
   "outputs": [],
   "source": [
    "process_sat_data(train_data, test_data, scale=10000)"
   ]
  },
  {
   "cell_type": "code",
   "execution_count": 8,
   "metadata": {
    "collapsed": false
   },
   "outputs": [],
   "source": [
    "def plot_axis(sat_id, axis, ellipse_index, span=1):\n",
    "    data = train_data[train_data['sat_id'] == sat_id]\n",
    "    label = data['cluster']\n",
    "    time = data['epoch']\n",
    "    data = data.loc[:, ['x_sim', 'y_sim', 'z_sim']].values\n",
    "    vis.line(data[ellipse_index * 24: (ellipse_index + span) * 24, axis], time[ellipse_index * 24: (ellipse_index + span) * 24], opts={'markersize': 4}, win='Axis'+str(axis))"
   ]
  },
  {
   "cell_type": "code",
   "execution_count": 9,
   "metadata": {
    "collapsed": false
   },
   "outputs": [],
   "source": [
    "sat_id = 1\n",
    "plot_axis(sat_id, 0, 0, 11)\n",
    "plot_axis(sat_id, 1, 0, 11)\n",
    "plot_axis(sat_id, 2, 0, 11)"
   ]
  },
  {
   "cell_type": "code",
   "execution_count": 10,
   "metadata": {
    "collapsed": true
   },
   "outputs": [],
   "source": [
    "import torch\n",
    "import torch.nn as nn"
   ]
  },
  {
   "cell_type": "code",
   "execution_count": 11,
   "metadata": {
    "collapsed": true
   },
   "outputs": [],
   "source": [
    "from torch.utils.data import DataLoader\n",
    "import torch.optim as optim"
   ]
  },
  {
   "cell_type": "code",
   "execution_count": 12,
   "metadata": {
    "collapsed": true
   },
   "outputs": [],
   "source": [
    "class SatNet(nn.Module):\n",
    "    def __init__(self, name, omega, mean, diff):\n",
    "        super(SatNet, self).__init__()\n",
    "        self.name = name\n",
    "        self.w = nn.Parameter(omega)\n",
    "        self.off = nn.Parameter(mean)\n",
    "        self.a1 = nn.Parameter(diff)\n",
    "        self.a2 = nn.Parameter(diff)\n",
    "        self.p1 = nn.Parameter(torch.randn(1))\n",
    "        self.p2 = nn.Parameter(torch.randn(1))\n",
    "    def forward(self, t):\n",
    "        s1 = self.a1 * torch.cos(self.p1 + self.w * t)\n",
    "        s2 = self.a2 * torch.cos(self.p2 + self.w * t * 2)\n",
    "        s = self.off + s1 + s2\n",
    "        v1 = - self.a1 * self.w * torch.sin(self.w * t + self.p1)\n",
    "        v2 = - self.a2 * self.w * torch.sin(self.w * t + self.p2) * 2\n",
    "        v = v1 + v2\n",
    "        return [s, v]"
   ]
  },
  {
   "cell_type": "code",
   "execution_count": 13,
   "metadata": {
    "collapsed": false
   },
   "outputs": [],
   "source": [
    "def smape(satellite_predicted_values, satellite_true_values):  \n",
    "    return np.mean(np.abs((satellite_predicted_values - satellite_true_values) \n",
    "        / (np.abs(satellite_predicted_values) + np.abs(satellite_true_values))))"
   ]
  },
  {
   "cell_type": "code",
   "execution_count": 14,
   "metadata": {
    "collapsed": true
   },
   "outputs": [],
   "source": [
    "def get_initial_values(ellipse_data):\n",
    "    omega = 2 * np.pi / (torch.max(ellipse_data[:, 6]) - torch.min(ellipse_data[:, 6])) # wT = 2(pi)\n",
    "    mean = torch.mean(ellipse_data[:,[0,1,2]], dim=0)\n",
    "    amplitude_x = 0.5 * (torch.max(ellipse_data[:,0]) - torch.min(ellipse_data[:,0]))\n",
    "    amplitude_y = 0.5 * (torch.max(ellipse_data[:,1]) - torch.min(ellipse_data[:,1]))\n",
    "    amplitude_z = 0.5 * (torch.max(ellipse_data[:,2]) - torch.min(ellipse_data[:,2]))\n",
    "    return [omega, mean, amplitude_x, amplitude_y, amplitude_z]"
   ]
  },
  {
   "cell_type": "code",
   "execution_count": 15,
   "metadata": {
    "collapsed": true
   },
   "outputs": [],
   "source": [
    "def print_status(itr, ellipse_data, loss_x, loss_y, loss_z,smape_x, smape_y, smape_z):\n",
    "    print('Iteration: ', itr)\n",
    "    print('Loss: {} (X) | {} (Y) | {} (Z)'.format(loss_x.item(), loss_y.item(), loss_z.item()))\n",
    "    print('SMAPE: {} (X) | {} (Y) | {} (Z)'.format(smape_x, smape_y, smape_z))"
   ]
  },
  {
   "cell_type": "code",
   "execution_count": 16,
   "metadata": {
    "collapsed": true
   },
   "outputs": [],
   "source": [
    "df_cols = ['sat_id', 'ellipse_id', 'smape_x', 'smape_y', 'smape_z',\n",
    "           'a1_x', 'a2_x', 'p1_x', 'p2_x', 'w_x', 'off_x',\n",
    "           'a1_y', 'a2_y', 'p1_y', 'p2_y', 'w_y', 'off_y',\n",
    "           'a1_z', 'a2_z', 'p1_z', 'p2_z', 'w_z', 'off_z']"
   ]
  },
  {
   "cell_type": "code",
   "execution_count": 17,
   "metadata": {
    "collapsed": true
   },
   "outputs": [],
   "source": [
    "def save_weights(sat_nets, sat_id, ellipse_id, smape_x, smape_y, smape_z, weights):\n",
    "    row = [sat_id, ellipse_id, smape_x, smape_y, smape_z]\n",
    "    for axis in ['x', 'y', 'z']:\n",
    "        model = sat_nets[sat_id][ellipse_id][axis]\n",
    "        params = [model.a1, model.a2, model.p1, model.p2, model.w, model.off]\n",
    "        params = [item.item() for item in params]\n",
    "        row += params\n",
    "    weights = np.concatenate([weights.values, [row]], axis=0)\n",
    "    weights = pd.DataFrame(weights, columns=df_cols)\n",
    "    weights.to_excel('../data/weights.xlsx', index=False)\n",
    "    return weights"
   ]
  },
  {
   "cell_type": "code",
   "execution_count": 20,
   "metadata": {
    "collapsed": false
   },
   "outputs": [],
   "source": [
    "def train(train_data):\n",
    "    sat_nets = {}\n",
    "    weights = pd.DataFrame([[-1] * len(df_cols)], columns=df_cols)\n",
    "    weights.to_excel('../data/weights.xlsx', index=False)\n",
    "    for sat_id in range(1):\n",
    "        \n",
    "        print('------- Satellite ID:', sat_id, '------- ')\n",
    "        cols = ['x_sim', 'y_sim', 'z_sim', 'Vx_sim', 'Vy_sim', 'Vz_sim', 'epoch']\n",
    "        sat_data = train_data[train_data['sat_id'] == sat_id].loc[:, cols].values\n",
    "        print('\\n## Number of Ellipses: ', int(sat_data.shape[0]/24)+1, '\\n')\n",
    "        sat_nets[sat_id] = {}\n",
    "        data = DataLoader(sat_data, batch_size=24) # 24 points per ellipse\n",
    "        data_iters = iter(data)\n",
    "        \n",
    "        for ellipse_id, ellipse_data in enumerate(data_iters):\n",
    "            \n",
    "            print('\\n**** Ellipse ID:', ellipse_id, '****\\n')\n",
    "            ellipse_data = ellipse_data.float()\n",
    "            omega, mean, amplitude_x, amplitude_y, amplitude_z = get_initial_values(ellipse_data)\n",
    "            sat_nets[sat_id][ellipse_id] = {\n",
    "                'x': SatNet('x', omega, mean[0], amplitude_x),\n",
    "                'y': SatNet('y', omega, mean[1], amplitude_y),\n",
    "                'z': SatNet('z', omega, mean[2], amplitude_z)\n",
    "            }\n",
    "            \n",
    "            optim_x = optim.Adam(sat_nets[sat_id][ellipse_id]['x'].parameters(), 0.05, (0.9, 0.999))\n",
    "            optim_y = optim.Adam(sat_nets[sat_id][ellipse_id]['y'].parameters(), 0.05, (0.9, 0.999))\n",
    "            optim_z = optim.Adam(sat_nets[sat_id][ellipse_id]['z'].parameters(), 0.05, (0.9, 0.999))\n",
    "            \n",
    "            for itr in range(1):\n",
    "                optim_x.zero_grad()\n",
    "                optim_y.zero_grad()\n",
    "                optim_z.zero_grad()\n",
    "                \n",
    "                time = ellipse_data[:,6].float()\n",
    "                x_pred, vx_pred = sat_nets[sat_id][ellipse_id]['x'](time)\n",
    "                y_pred, vy_pred = sat_nets[sat_id][ellipse_id]['y'](time)\n",
    "                z_pred, vz_pred = sat_nets[sat_id][ellipse_id]['z'](time)\n",
    "                \n",
    "                loss_sx = torch.sqrt(torch.mean((x_pred - ellipse_data[:,0]) ** 2))\n",
    "                loss_sy = torch.sqrt(torch.mean((y_pred - ellipse_data[:,1]) ** 2))\n",
    "                loss_sz = torch.sqrt(torch.mean((z_pred - ellipse_data[:,2]) ** 2))\n",
    "                loss_vx = torch.sqrt(torch.mean((vx_pred - ellipse_data[:,3]) ** 2))\n",
    "                loss_vy = torch.sqrt(torch.mean((vy_pred - ellipse_data[:,4]) ** 2))\n",
    "                loss_vz = torch.sqrt(torch.mean((vz_pred - ellipse_data[:,5]) ** 2))\n",
    "                loss_x = loss_sx + loss_vx\n",
    "                loss_y = loss_sy + loss_vy\n",
    "                loss_z = loss_sz + loss_vz\n",
    "                \n",
    "                loss_x.backward()\n",
    "                loss_y.backward()\n",
    "                loss_z.backward()\n",
    "                \n",
    "                optim_x.step()\n",
    "                optim_y.step()\n",
    "                optim_z.step()\n",
    "                \n",
    "                if(itr % 1000 == 0):\n",
    "                    smape_x = smape(x_pred.detach().numpy(), ellipse_data[:,0].numpy())\n",
    "                    smape_y = smape(y_pred.detach().numpy(), ellipse_data[:,1].numpy())\n",
    "                    smape_z = smape(z_pred.detach().numpy(), ellipse_data[:,2].numpy())\n",
    "                    print_status(itr, ellipse_data, loss_x, loss_y, loss_z, smape_x, smape_y, smape_z)\n",
    "                    \n",
    "            weights = save_weights(sat_nets, sat_id, ellipse_id, smape_x, smape_y, smape_z, weights)"
   ]
  },
  {
   "cell_type": "code",
   "execution_count": 21,
   "metadata": {
    "collapsed": false
   },
   "outputs": [
    {
     "name": "stdout",
     "output_type": "stream",
     "text": [
      "------- Satellite ID: 0 ------- \n",
      "\n",
      "## Number of Ellipses:  40 \n",
      "\n",
      "\n",
      "**** Ellipse ID: 0 ****\n",
      "\n",
      "Iteration:  0\n",
      "Loss: 5.576506614685059 (X) | 7.638147830963135 (Y) | 13.015547752380371 (Z)\n",
      "SMAPE: 0.7003733515739441 (X) | 0.5923134684562683 (Y) | 0.881243884563446 (Z)\n",
      "\n",
      "**** Ellipse ID: 1 ****\n",
      "\n",
      "Iteration:  0\n",
      "Loss: 2.929800510406494 (X) | 6.373621940612793 (Y) | 9.448028564453125 (Z)\n",
      "SMAPE: 0.65348881483078 (X) | 0.6465634107589722 (Y) | 0.5417823791503906 (Z)\n",
      "\n",
      "**** Ellipse ID: 2 ****\n",
      "\n",
      "Iteration:  0\n",
      "Loss: 5.160072326660156 (X) | 6.962034702301025 (Y) | 9.618172645568848 (Z)\n",
      "SMAPE: 0.7201976776123047 (X) | 0.49835148453712463 (Y) | 0.7670266032218933 (Z)\n",
      "\n",
      "**** Ellipse ID: 3 ****\n",
      "\n",
      "Iteration:  0\n",
      "Loss: 4.24979305267334 (X) | 8.606908798217773 (Y) | 9.263513565063477 (Z)\n",
      "SMAPE: 0.5899756550788879 (X) | 0.5822843909263611 (Y) | 0.5310347676277161 (Z)\n",
      "\n",
      "**** Ellipse ID: 4 ****\n",
      "\n",
      "Iteration:  0\n",
      "Loss: 3.7636265754699707 (X) | 6.447924613952637 (Y) | 11.566582679748535 (Z)\n",
      "SMAPE: 0.4715949296951294 (X) | 0.46307218074798584 (Y) | 0.7241001129150391 (Z)\n",
      "\n",
      "**** Ellipse ID: 5 ****\n",
      "\n",
      "Iteration:  0\n",
      "Loss: 4.3680315017700195 (X) | 8.71382999420166 (Y) | 9.56472110748291 (Z)\n",
      "SMAPE: 0.5905362963676453 (X) | 0.5887203812599182 (Y) | 0.5931379795074463 (Z)\n",
      "\n",
      "**** Ellipse ID: 6 ****\n",
      "\n",
      "Iteration:  0\n",
      "Loss: 4.038026809692383 (X) | 6.289858818054199 (Y) | 9.02609920501709 (Z)\n",
      "SMAPE: 0.7730004191398621 (X) | 0.6775557398796082 (Y) | 0.5246636867523193 (Z)\n",
      "\n",
      "**** Ellipse ID: 7 ****\n",
      "\n",
      "Iteration:  0\n",
      "Loss: 3.872488021850586 (X) | 8.766036987304688 (Y) | 6.317512035369873 (Z)\n",
      "SMAPE: 0.6087333559989929 (X) | 0.5614047646522522 (Y) | 0.4631365239620209 (Z)\n",
      "\n",
      "**** Ellipse ID: 8 ****\n",
      "\n",
      "Iteration:  0\n",
      "Loss: 3.241199016571045 (X) | 11.159595489501953 (Y) | 8.141732215881348 (Z)\n",
      "SMAPE: 0.5429989695549011 (X) | 0.6582182049751282 (Y) | 0.6787505745887756 (Z)\n",
      "\n",
      "**** Ellipse ID: 9 ****\n",
      "\n",
      "Iteration:  0\n",
      "Loss: 3.0537054538726807 (X) | 10.501537322998047 (Y) | 9.067358016967773 (Z)\n",
      "SMAPE: 0.6022579073905945 (X) | 0.8624303340911865 (Y) | 0.6934351921081543 (Z)\n",
      "\n",
      "**** Ellipse ID: 10 ****\n",
      "\n",
      "Iteration:  0\n",
      "Loss: 3.1309571266174316 (X) | 9.394383430480957 (Y) | 7.003765106201172 (Z)\n",
      "SMAPE: 0.6004183292388916 (X) | 0.6035124659538269 (Y) | 0.5599638819694519 (Z)\n",
      "\n",
      "**** Ellipse ID: 11 ****\n",
      "\n",
      "Iteration:  0\n",
      "Loss: 5.3204193115234375 (X) | 10.811355590820312 (Y) | 12.087390899658203 (Z)\n",
      "SMAPE: 0.7537208199501038 (X) | 0.6244290471076965 (Y) | 0.7156192660331726 (Z)\n",
      "\n",
      "**** Ellipse ID: 12 ****\n",
      "\n",
      "Iteration:  0\n",
      "Loss: 4.8418378829956055 (X) | 14.593999862670898 (Y) | 5.791738033294678 (Z)\n",
      "SMAPE: 0.6747941970825195 (X) | 0.8343318104743958 (Y) | 0.7713131904602051 (Z)\n",
      "\n",
      "**** Ellipse ID: 13 ****\n",
      "\n",
      "Iteration:  0\n",
      "Loss: 4.130925178527832 (X) | 8.67741584777832 (Y) | 7.371749401092529 (Z)\n",
      "SMAPE: 0.9228439331054688 (X) | 0.5692725777626038 (Y) | 0.6274747848510742 (Z)\n",
      "\n",
      "**** Ellipse ID: 14 ****\n",
      "\n",
      "Iteration:  0\n",
      "Loss: 4.539922714233398 (X) | 14.171882629394531 (Y) | 7.966763496398926 (Z)\n",
      "SMAPE: 0.7198359370231628 (X) | 0.8208756446838379 (Y) | 0.45266589522361755 (Z)\n",
      "\n",
      "**** Ellipse ID: 15 ****\n",
      "\n",
      "Iteration:  0\n",
      "Loss: 4.805187702178955 (X) | 11.853103637695312 (Y) | 6.198924541473389 (Z)\n",
      "SMAPE: 0.7260416150093079 (X) | 0.7560492157936096 (Y) | 0.42178547382354736 (Z)\n",
      "\n",
      "**** Ellipse ID: 16 ****\n",
      "\n",
      "Iteration:  0\n",
      "Loss: 5.15262508392334 (X) | 13.983105659484863 (Y) | 12.798552513122559 (Z)\n",
      "SMAPE: 0.8130391240119934 (X) | 0.7810873985290527 (Y) | 0.6901054382324219 (Z)\n",
      "\n",
      "**** Ellipse ID: 17 ****\n",
      "\n",
      "Iteration:  0\n",
      "Loss: 4.1237688064575195 (X) | 12.599441528320312 (Y) | 11.350534439086914 (Z)\n",
      "SMAPE: 0.5403339862823486 (X) | 0.7540213465690613 (Y) | 0.6747995018959045 (Z)\n",
      "\n",
      "**** Ellipse ID: 18 ****\n",
      "\n",
      "Iteration:  0\n",
      "Loss: 5.070775032043457 (X) | 14.303315162658691 (Y) | 10.194108009338379 (Z)\n",
      "SMAPE: 0.700844943523407 (X) | 0.8618301749229431 (Y) | 0.6117402911186218 (Z)\n",
      "\n",
      "**** Ellipse ID: 19 ****\n",
      "\n",
      "Iteration:  0\n",
      "Loss: 5.952439785003662 (X) | 8.94249153137207 (Y) | 13.346782684326172 (Z)\n",
      "SMAPE: 0.9126728177070618 (X) | 0.6300918459892273 (Y) | 0.7566058039665222 (Z)\n",
      "\n",
      "**** Ellipse ID: 20 ****\n",
      "\n",
      "Iteration:  0\n",
      "Loss: 5.077533721923828 (X) | 8.852519989013672 (Y) | 12.047605514526367 (Z)\n",
      "SMAPE: 0.6554639935493469 (X) | 0.8010452389717102 (Y) | 0.723257839679718 (Z)\n",
      "\n",
      "**** Ellipse ID: 21 ****\n",
      "\n",
      "Iteration:  0\n",
      "Loss: 4.868324279785156 (X) | 12.776571273803711 (Y) | 12.622876167297363 (Z)\n",
      "SMAPE: 0.6584272980690002 (X) | 0.7636833786964417 (Y) | 0.7502217292785645 (Z)\n",
      "\n",
      "**** Ellipse ID: 22 ****\n",
      "\n",
      "Iteration:  0\n",
      "Loss: 5.918888092041016 (X) | 14.502039909362793 (Y) | 13.887785911560059 (Z)\n",
      "SMAPE: 0.9237110614776611 (X) | 0.8532249927520752 (Y) | 0.9394457936286926 (Z)\n",
      "\n",
      "**** Ellipse ID: 23 ****\n",
      "\n",
      "Iteration:  0\n",
      "Loss: 5.98575496673584 (X) | 6.31886100769043 (Y) | 11.707321166992188 (Z)\n",
      "SMAPE: 0.8838488459587097 (X) | 0.554104208946228 (Y) | 0.7458688616752625 (Z)\n",
      "\n",
      "**** Ellipse ID: 24 ****\n",
      "\n",
      "Iteration:  0\n",
      "Loss: 6.038484573364258 (X) | 13.244590759277344 (Y) | 10.901887893676758 (Z)\n",
      "SMAPE: 0.8547091484069824 (X) | 0.626971423625946 (Y) | 0.6219548583030701 (Z)\n",
      "\n",
      "**** Ellipse ID: 25 ****\n",
      "\n",
      "Iteration:  0\n",
      "Loss: 5.611598014831543 (X) | 9.650059700012207 (Y) | 10.629959106445312 (Z)\n",
      "SMAPE: 0.7580709457397461 (X) | 0.5425854325294495 (Y) | 0.6220056414604187 (Z)\n",
      "\n",
      "**** Ellipse ID: 26 ****\n",
      "\n",
      "Iteration:  0\n",
      "Loss: 4.626491069793701 (X) | 8.554390907287598 (Y) | 11.66172981262207 (Z)\n",
      "SMAPE: 0.6502050757408142 (X) | 0.4732399880886078 (Y) | 0.7240245342254639 (Z)\n",
      "\n",
      "**** Ellipse ID: 27 ****\n",
      "\n",
      "Iteration:  0\n",
      "Loss: 5.587932586669922 (X) | 7.240573883056641 (Y) | 9.382580757141113 (Z)\n",
      "SMAPE: 0.7529913783073425 (X) | 0.5038954615592957 (Y) | 0.542890191078186 (Z)\n",
      "\n",
      "**** Ellipse ID: 28 ****\n",
      "\n",
      "Iteration:  0\n",
      "Loss: 3.1607089042663574 (X) | 8.900115966796875 (Y) | 11.657661437988281 (Z)\n",
      "SMAPE: 0.46125420928001404 (X) | 0.6253998875617981 (Y) | 0.81027752161026 (Z)\n",
      "\n",
      "**** Ellipse ID: 29 ****\n",
      "\n",
      "Iteration:  0\n",
      "Loss: 2.6657867431640625 (X) | 11.503776550292969 (Y) | 13.509830474853516 (Z)\n",
      "SMAPE: 0.3555631935596466 (X) | 0.8368988633155823 (Y) | 0.7204389572143555 (Z)\n",
      "\n",
      "**** Ellipse ID: 30 ****\n",
      "\n",
      "Iteration:  0\n",
      "Loss: 3.567709445953369 (X) | 10.757787704467773 (Y) | 6.695279121398926 (Z)\n",
      "SMAPE: 0.7042924761772156 (X) | 0.6421223878860474 (Y) | 0.6797191500663757 (Z)\n",
      "\n",
      "**** Ellipse ID: 31 ****\n",
      "\n",
      "Iteration:  0\n",
      "Loss: 3.661470413208008 (X) | 7.336175918579102 (Y) | 7.027084827423096 (Z)\n",
      "SMAPE: 0.6190388202667236 (X) | 0.6444181799888611 (Y) | 0.5950959324836731 (Z)\n",
      "\n",
      "**** Ellipse ID: 32 ****\n",
      "\n",
      "Iteration:  0\n",
      "Loss: 3.9963417053222656 (X) | 9.368709564208984 (Y) | 8.481969833374023 (Z)\n",
      "SMAPE: 0.520828127861023 (X) | 0.6830508708953857 (Y) | 0.6943938136100769 (Z)\n",
      "\n",
      "**** Ellipse ID: 33 ****\n",
      "\n",
      "Iteration:  0\n",
      "Loss: 3.6893434524536133 (X) | 8.473482131958008 (Y) | 12.780847549438477 (Z)\n",
      "SMAPE: 0.8011991381645203 (X) | 0.4937790334224701 (Y) | 0.7985513806343079 (Z)\n",
      "\n",
      "**** Ellipse ID: 34 ****\n",
      "\n",
      "Iteration:  0\n",
      "Loss: 5.093286991119385 (X) | 8.341994285583496 (Y) | 7.04306173324585 (Z)\n",
      "SMAPE: 0.7987678647041321 (X) | 0.554400622844696 (Y) | 0.6173785924911499 (Z)\n",
      "\n",
      "**** Ellipse ID: 35 ****\n",
      "\n",
      "Iteration:  0\n",
      "Loss: 2.746288776397705 (X) | 7.959771156311035 (Y) | 8.503046035766602 (Z)\n",
      "SMAPE: 0.5641006231307983 (X) | 0.55806964635849 (Y) | 0.6703135967254639 (Z)\n",
      "\n",
      "**** Ellipse ID: 36 ****\n",
      "\n",
      "Iteration:  0\n",
      "Loss: 3.1902172565460205 (X) | 12.648529052734375 (Y) | 7.582960605621338 (Z)\n",
      "SMAPE: 0.6304951310157776 (X) | 0.7819006443023682 (Y) | 0.6641713976860046 (Z)\n",
      "\n",
      "**** Ellipse ID: 37 ****\n",
      "\n",
      "Iteration:  0\n",
      "Loss: 3.445997714996338 (X) | 7.675307273864746 (Y) | 7.356371879577637 (Z)\n",
      "SMAPE: 0.572120726108551 (X) | 0.5746621489524841 (Y) | 0.642599880695343 (Z)\n",
      "\n",
      "**** Ellipse ID: 38 ****\n",
      "\n",
      "Iteration:  0\n",
      "Loss: 4.807998180389404 (X) | 10.361979484558105 (Y) | 7.353908061981201 (Z)\n",
      "SMAPE: 0.6037065982818604 (X) | 0.9179427027702332 (Y) | 0.7341211438179016 (Z)\n",
      "\n",
      "**** Ellipse ID: 39 ****\n",
      "\n",
      "Iteration:  0\n",
      "Loss: 4.27876091003418 (X) | 14.634429931640625 (Y) | 8.228250503540039 (Z)\n",
      "SMAPE: 0.7454288601875305 (X) | 0.775316059589386 (Y) | 0.6787611246109009 (Z)\n"
     ]
    }
   ],
   "source": [
    "sat_nets = train(train_data)"
   ]
  },
  {
   "cell_type": "code",
   "execution_count": null,
   "metadata": {
    "collapsed": true
   },
   "outputs": [],
   "source": []
  }
 ],
 "metadata": {
  "kernelspec": {
   "display_name": "Python 3",
   "language": "python",
   "name": "python3"
  },
  "language_info": {
   "codemirror_mode": {
    "name": "ipython",
    "version": 3
   },
   "file_extension": ".py",
   "mimetype": "text/x-python",
   "name": "python",
   "nbconvert_exporter": "python",
   "pygments_lexer": "ipython3",
   "version": "3.6.1"
  }
 },
 "nbformat": 4,
 "nbformat_minor": 2
}
