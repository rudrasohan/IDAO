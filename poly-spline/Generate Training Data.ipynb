{
 "cells": [
  {
   "cell_type": "code",
   "execution_count": 1,
   "metadata": {
    "collapsed": true
   },
   "outputs": [],
   "source": [
    "import pandas as pd\n",
    "import numpy as np\n",
    "import matplotlib.pyplot as plt\n",
    "%matplotlib inline"
   ]
  },
  {
   "cell_type": "code",
   "execution_count": 2,
   "metadata": {
    "collapsed": true
   },
   "outputs": [],
   "source": [
    "from preprocessing_utils import process_sat_data"
   ]
  },
  {
   "cell_type": "code",
   "execution_count": 3,
   "metadata": {
    "collapsed": true
   },
   "outputs": [],
   "source": [
    "import visdom"
   ]
  },
  {
   "cell_type": "code",
   "execution_count": 4,
   "metadata": {
    "collapsed": false
   },
   "outputs": [
    {
     "name": "stderr",
     "output_type": "stream",
     "text": [
      "Setting up a new session...\n"
     ]
    }
   ],
   "source": [
    "vis = visdom.Visdom()"
   ]
  },
  {
   "cell_type": "code",
   "execution_count": 5,
   "metadata": {
    "collapsed": true
   },
   "outputs": [],
   "source": [
    "data_train = pd.read_csv('../data/train.csv')\n",
    "data_test = pd.read_csv('../data/track1/test.csv')"
   ]
  },
  {
   "cell_type": "code",
   "execution_count": 6,
   "metadata": {
    "collapsed": true
   },
   "outputs": [],
   "source": [
    "train_data = data_train.copy(deep=True)\n",
    "test_data = data_test.copy(deep=True)"
   ]
  },
  {
   "cell_type": "code",
   "execution_count": 7,
   "metadata": {
    "collapsed": false
   },
   "outputs": [],
   "source": [
    "process_sat_data(train_data, test_data, scale=10000)"
   ]
  },
  {
   "cell_type": "code",
   "execution_count": 22,
   "metadata": {
    "collapsed": false
   },
   "outputs": [],
   "source": [
    "def plot_axis(sat_id, axis, ellipse_index, span=1):\n",
    "    data = train_data[train_data['sat_id'] == sat_id]\n",
    "    label = data['cluster']\n",
    "    time = data['epoch']\n",
    "    data = data.loc[:, ['x_sim', 'y_sim', 'z_sim']].values\n",
    "    vis.line(data[ellipse_index * 24: (ellipse_index + span) * 24, axis], time[ellipse_index * 24: (ellipse_index + span) * 24], opts={'markersize': 4}, win='Axis'+str(axis))"
   ]
  },
  {
   "cell_type": "code",
   "execution_count": 23,
   "metadata": {
    "collapsed": false
   },
   "outputs": [],
   "source": [
    "sat_id = 1\n",
    "plot_axis(sat_id, 0, 0, 11)\n",
    "plot_axis(sat_id, 1, 0, 11)\n",
    "plot_axis(sat_id, 2, 0, 11)"
   ]
  },
  {
   "cell_type": "code",
   "execution_count": 24,
   "metadata": {
    "collapsed": true
   },
   "outputs": [],
   "source": [
    "import torch\n",
    "import torch.nn as nn"
   ]
  },
  {
   "cell_type": "code",
   "execution_count": 25,
   "metadata": {
    "collapsed": true
   },
   "outputs": [],
   "source": [
    "from torch.utils.data import DataLoader\n",
    "import torch.optim as optim"
   ]
  },
  {
   "cell_type": "code",
   "execution_count": 26,
   "metadata": {
    "collapsed": true
   },
   "outputs": [],
   "source": [
    "class SatNet(nn.Module):\n",
    "    def __init__(self, name, omega, mean, diff):\n",
    "        super(SatNet, self).__init__()\n",
    "        self.name = name\n",
    "        self.w = nn.Parameter(omega)\n",
    "        self.off = nn.Parameter(mean)\n",
    "        self.a1 = nn.Parameter(diff)\n",
    "        self.a2 = nn.Parameter(diff)\n",
    "        self.p1 = nn.Parameter(torch.randn(1))\n",
    "        self.p2 = nn.Parameter(torch.randn(1))\n",
    "    def forward(self, t):\n",
    "        s1 = self.a1 * torch.cos(self.p1 + self.w * t)\n",
    "        s2 = self.a2 * torch.cos(self.p2 + self.w * t * 2)\n",
    "        s = self.off + s1 + s2\n",
    "        v1 = - self.a1 * self.w * torch.sin(self.w * t + self.p1)\n",
    "        v2 = - self.a2 * self.w * torch.sin(self.w * t + self.p2) * 2\n",
    "        v = v1 + v2\n",
    "        return [s, v]"
   ]
  },
  {
   "cell_type": "code",
   "execution_count": 27,
   "metadata": {
    "collapsed": false
   },
   "outputs": [],
   "source": [
    "def smape(satellite_predicted_values, satellite_true_values):  \n",
    "    return np.mean(np.abs((satellite_predicted_values - satellite_true_values) \n",
    "        / (np.abs(satellite_predicted_values) + np.abs(satellite_true_values))))"
   ]
  },
  {
   "cell_type": "code",
   "execution_count": 28,
   "metadata": {
    "collapsed": true
   },
   "outputs": [],
   "source": [
    "def get_initial_values(ellipse_data):\n",
    "    omega = 2 * np.pi / (torch.max(ellipse_data[:, 6]) - torch.min(ellipse_data[:, 6])) # wT = 2(pi)\n",
    "    mean = torch.mean(ellipse_data[:,[0,1,2]], dim=0)\n",
    "    amplitude_x = 0.5 * (torch.max(ellipse_data[:,0]) - torch.min(ellipse_data[:,0]))\n",
    "    amplitude_y = 0.5 * (torch.max(ellipse_data[:,1]) - torch.min(ellipse_data[:,1]))\n",
    "    amplitude_z = 0.5 * (torch.max(ellipse_data[:,2]) - torch.min(ellipse_data[:,2]))\n",
    "    return [omega, mean, amplitude_x, amplitude_y, amplitude_z]"
   ]
  },
  {
   "cell_type": "code",
   "execution_count": 29,
   "metadata": {
    "collapsed": true
   },
   "outputs": [],
   "source": [
    "def print_status(itr, ellipse_data, loss_x, loss_y, loss_z,smape_x, smape_y, smape_z):\n",
    "    print('Iteration: ', itr)\n",
    "    print('Loss: {} (X) | {} (Y) | {} (Z)'.format(loss_x.item(), loss_y.item(), loss_z.item()))\n",
    "    print('SMAPE: {} (X) | {} (Y) | {} (Z)'.format(smape_x, smape_y, smape_z))"
   ]
  },
  {
   "cell_type": "code",
   "execution_count": 30,
   "metadata": {
    "collapsed": true
   },
   "outputs": [],
   "source": [
    "df_cols = ['sat_id', 'ellipse_id', 'smape_x', 'smape_y', 'smape_z',\n",
    "           'a1_x', 'a2_x', 'p1_x', 'p2_x', 'w_x', 'off_x',\n",
    "           'a1_y', 'a2_y', 'p1_y', 'p2_y', 'w_y', 'off_y',\n",
    "           'a1_z', 'a2_z', 'p1_z', 'p2_z', 'w_z', 'off_z']"
   ]
  },
  {
   "cell_type": "code",
   "execution_count": 31,
   "metadata": {
    "collapsed": true
   },
   "outputs": [],
   "source": [
    "def save_weights(sat_nets, sat_id, ellipse_id, smape_x, smape_y, smape_z, weights):\n",
    "    row = [sat_id, ellipse_id, smape_x, smape_y, smape_z]\n",
    "    for axis in ['x', 'y', 'z']:\n",
    "        model = sat_nets[sat_id][ellipse_id][axis]\n",
    "        params = [model.a1, model.a2, model.p1, model.p2, model.w, model.off]\n",
    "        params = [item.item() for item in params]\n",
    "        row += params\n",
    "    weights = np.concatenate([weights.values, [row]], axis=0)\n",
    "    weights = pd.DataFrame(weights, columns=df_cols)\n",
    "    weights.to_excel('../data/weights.xlsx', index=False)\n",
    "    return weights"
   ]
  },
  {
   "cell_type": "code",
   "execution_count": 32,
   "metadata": {
    "collapsed": false
   },
   "outputs": [],
   "source": [
    "def train(train_data):\n",
    "    sat_nets = {}\n",
    "    weights = pd.DataFrame([[-1] * len(df_cols)], columns=df_cols)\n",
    "    weights.to_excel('../data/weights.xlsx', index=False)\n",
    "    for sat_id in range(1):\n",
    "        \n",
    "        print('------- Satellite ID:', sat_id, '------- ')\n",
    "        cols = ['x_sim', 'y_sim', 'z_sim', 'Vx_sim', 'Vy_sim', 'Vz_sim', 'epoch']\n",
    "        sat_data = train_data[train_data['sat_id'] == sat_id].loc[:, cols].values\n",
    "        print('\\n## Number of Ellipses: ', int(sat_data.shape[0]/24)+1, '\\n')\n",
    "        sat_nets[sat_id] = {}\n",
    "        data = DataLoader(sat_data, batch_size=24) # 24 points per ellipse\n",
    "        data_iters = iter(data)\n",
    "        \n",
    "        for ellipse_id, ellipse_data in enumerate(data_iters):\n",
    "            \n",
    "            print('\\n**** Ellipse ID:', ellipse_id, '****\\n')\n",
    "            ellipse_data = ellipse_data.float()\n",
    "            omega, mean, amplitude_x, amplitude_y, amplitude_z = get_initial_values(ellipse_data)\n",
    "            sat_nets[sat_id][ellipse_id] = {\n",
    "                'x': SatNet('x', omega, mean[0], amplitude_x),\n",
    "                'y': SatNet('y', omega, mean[1], amplitude_y),\n",
    "                'z': SatNet('z', omega, mean[2], amplitude_z)\n",
    "            }\n",
    "            \n",
    "            optim_x = optim.Adam(sat_nets[sat_id][ellipse_id]['x'].parameters(), 0.05, (0.9, 0.999))\n",
    "            optim_y = optim.Adam(sat_nets[sat_id][ellipse_id]['y'].parameters(), 0.05, (0.9, 0.999))\n",
    "            optim_z = optim.Adam(sat_nets[sat_id][ellipse_id]['z'].parameters(), 0.05, (0.9, 0.999))\n",
    "            \n",
    "            for itr in range(5000):\n",
    "                optim_x.zero_grad()\n",
    "                optim_y.zero_grad()\n",
    "                optim_z.zero_grad()\n",
    "                \n",
    "                time = ellipse_data[:,6].float()\n",
    "                x_pred, vx_pred = sat_nets[sat_id][ellipse_id]['x'](time)\n",
    "                y_pred, vy_pred = sat_nets[sat_id][ellipse_id]['y'](time)\n",
    "                z_pred, vz_pred = sat_nets[sat_id][ellipse_id]['z'](time)\n",
    "                \n",
    "                loss_sx = torch.mean((x_pred - ellipse_data[:,0]) ** 2)\n",
    "                loss_sy = torch.mean((y_pred - ellipse_data[:,1]) ** 2)\n",
    "                loss_sz = torch.mean((z_pred - ellipse_data[:,2]) ** 2)\n",
    "                loss_vx = torch.mean((vx_pred - ellipse_data[:,3]) ** 2)\n",
    "                loss_vy = torch.mean((vy_pred - ellipse_data[:,4]) ** 2)\n",
    "                loss_vz = torch.mean((vz_pred - ellipse_data[:,5]) ** 2)\n",
    "                loss_x = loss_sx + loss_vx\n",
    "                loss_y = loss_sy + loss_vy\n",
    "                loss_z = loss_sz + loss_vz\n",
    "                \n",
    "                loss_x.backward()\n",
    "                loss_y.backward()\n",
    "                loss_z.backward()\n",
    "                \n",
    "                optim_x.step()\n",
    "                optim_y.step()\n",
    "                optim_z.step()\n",
    "                \n",
    "                if(itr % 1000 == 0):\n",
    "                    smape_x = smape(x_pred.detach().numpy(), ellipse_data[:,0].numpy())\n",
    "                    smape_y = smape(y_pred.detach().numpy(), ellipse_data[:,1].numpy())\n",
    "                    smape_z = smape(z_pred.detach().numpy(), ellipse_data[:,2].numpy())\n",
    "                    print_status(itr, ellipse_data, loss_x, loss_y, loss_z, smape_x, smape_y, smape_z)\n",
    "                    \n",
    "            weights = save_weights(sat_nets, sat_id, ellipse_id, smape_x, smape_y, smape_z, weights)"
   ]
  },
  {
   "cell_type": "code",
   "execution_count": null,
   "metadata": {
    "collapsed": false
   },
   "outputs": [
    {
     "name": "stdout",
     "output_type": "stream",
     "text": [
      "------- Satellite ID: 0 ------- \n",
      "\n",
      "## Number of Ellipses:  40 \n",
      "\n",
      "\n",
      "**** Ellipse ID: 0 ****\n",
      "\n",
      "Iteration:  0\n",
      "Loss: 6.0126190185546875 (X) | 49.97200012207031 (Y) | 95.18798828125 (Z)\n",
      "SMAPE: 0.815861701965332 (X) | 0.5634402632713318 (Y) | 0.8656427264213562 (Z)\n",
      "Iteration:  1000\n",
      "Loss: 0.4983126223087311 (X) | 3.2041561603546143 (Y) | 2.7977473735809326 (Z)\n",
      "SMAPE: 0.43803659081459045 (X) | 0.4460005760192871 (Y) | 0.40997469425201416 (Z)\n"
     ]
    }
   ],
   "source": [
    "sat_nets = train(train_data)"
   ]
  },
  {
   "cell_type": "code",
   "execution_count": null,
   "metadata": {
    "collapsed": true
   },
   "outputs": [],
   "source": []
  }
 ],
 "metadata": {
  "kernelspec": {
   "display_name": "Python 3",
   "language": "python",
   "name": "python3"
  },
  "language_info": {
   "codemirror_mode": {
    "name": "ipython",
    "version": 3
   },
   "file_extension": ".py",
   "mimetype": "text/x-python",
   "name": "python",
   "nbconvert_exporter": "python",
   "pygments_lexer": "ipython3",
   "version": "3.6.1"
  }
 },
 "nbformat": 4,
 "nbformat_minor": 2
}
